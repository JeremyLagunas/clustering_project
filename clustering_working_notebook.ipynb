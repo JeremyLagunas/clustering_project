{
 "cells": [
  {
   "cell_type": "code",
   "execution_count": 1,
   "id": "c13b6c79",
   "metadata": {},
   "outputs": [],
   "source": [
    "import pandas as pd\n",
    "import env\n",
    "import numpy as np\n",
    "import matplotlib.pyplot as plt\n",
    "import seaborn as sns\n",
    "from sklearn.cluster import KMeans\n",
    "from sklearn.preprocessing import MinMaxScaler, RobustScaler\n",
    "from sklearn.model_selection import train_test_split\n",
    "import warnings\n",
    "warnings.filterwarnings('ignore')\n",
    "import wrangle\n",
    "pd.set_option('display.max_columns', None)"
   ]
  },
  {
   "cell_type": "markdown",
   "id": "0b8552bc",
   "metadata": {},
   "source": [
    "# Acquire"
   ]
  },
  {
   "cell_type": "code",
   "execution_count": 2,
   "id": "baaeec0d",
   "metadata": {},
   "outputs": [],
   "source": [
    "df = wrangle.new_zillow_data()"
   ]
  },
  {
   "cell_type": "markdown",
   "id": "0a326245",
   "metadata": {},
   "source": [
    "# Prepare"
   ]
  },
  {
   "cell_type": "code",
   "execution_count": 3,
   "id": "888e650c",
   "metadata": {},
   "outputs": [
    {
     "data": {
      "text/plain": [
       "(52319, 68)"
      ]
     },
     "execution_count": 3,
     "metadata": {},
     "output_type": "execute_result"
    }
   ],
   "source": [
    "df.shape"
   ]
  },
  {
   "cell_type": "code",
   "execution_count": 4,
   "id": "c484d5b2",
   "metadata": {},
   "outputs": [
    {
     "data": {
      "text/plain": [
       "['id',\n",
       " 'parcelid',\n",
       " 'airconditioningtypeid',\n",
       " 'architecturalstyletypeid',\n",
       " 'basementsqft',\n",
       " 'bathroomcnt',\n",
       " 'bedroomcnt',\n",
       " 'buildingclasstypeid',\n",
       " 'buildingqualitytypeid',\n",
       " 'calculatedbathnbr',\n",
       " 'decktypeid',\n",
       " 'finishedfloor1squarefeet',\n",
       " 'calculatedfinishedsquarefeet',\n",
       " 'finishedsquarefeet12',\n",
       " 'finishedsquarefeet13',\n",
       " 'finishedsquarefeet15',\n",
       " 'finishedsquarefeet50',\n",
       " 'finishedsquarefeet6',\n",
       " 'fips',\n",
       " 'fireplacecnt',\n",
       " 'fullbathcnt',\n",
       " 'garagecarcnt',\n",
       " 'garagetotalsqft',\n",
       " 'hashottuborspa',\n",
       " 'heatingorsystemtypeid',\n",
       " 'latitude',\n",
       " 'longitude',\n",
       " 'lotsizesquarefeet',\n",
       " 'poolcnt',\n",
       " 'poolsizesum',\n",
       " 'pooltypeid10',\n",
       " 'pooltypeid2',\n",
       " 'pooltypeid7',\n",
       " 'propertycountylandusecode',\n",
       " 'propertylandusetypeid',\n",
       " 'propertyzoningdesc',\n",
       " 'rawcensustractandblock',\n",
       " 'regionidcity',\n",
       " 'regionidcounty',\n",
       " 'regionidneighborhood',\n",
       " 'regionidzip',\n",
       " 'roomcnt',\n",
       " 'storytypeid',\n",
       " 'threequarterbathnbr',\n",
       " 'typeconstructiontypeid',\n",
       " 'unitcnt',\n",
       " 'yardbuildingsqft17',\n",
       " 'yardbuildingsqft26',\n",
       " 'yearbuilt',\n",
       " 'numberofstories',\n",
       " 'fireplaceflag',\n",
       " 'structuretaxvaluedollarcnt',\n",
       " 'taxvaluedollarcnt',\n",
       " 'assessmentyear',\n",
       " 'landtaxvaluedollarcnt',\n",
       " 'taxamount',\n",
       " 'taxdelinquencyflag',\n",
       " 'taxdelinquencyyear',\n",
       " 'censustractandblock',\n",
       " 'logerror',\n",
       " 'transactiondate',\n",
       " 'airconditioningdesc',\n",
       " 'architecturalstyledesc',\n",
       " 'buildingclassdesc',\n",
       " 'heatingorsystemdesc',\n",
       " 'propertylandusedesc',\n",
       " 'storydesc',\n",
       " 'typeconstructiondesc']"
      ]
     },
     "execution_count": 4,
     "metadata": {},
     "output_type": "execute_result"
    }
   ],
   "source": [
    "list(df.columns)"
   ]
  },
  {
   "cell_type": "code",
   "execution_count": 5,
   "id": "37f08380",
   "metadata": {},
   "outputs": [
    {
     "data": {
      "text/html": [
       "<div>\n",
       "<style scoped>\n",
       "    .dataframe tbody tr th:only-of-type {\n",
       "        vertical-align: middle;\n",
       "    }\n",
       "\n",
       "    .dataframe tbody tr th {\n",
       "        vertical-align: top;\n",
       "    }\n",
       "\n",
       "    .dataframe thead th {\n",
       "        text-align: right;\n",
       "    }\n",
       "</style>\n",
       "<table border=\"1\" class=\"dataframe\">\n",
       "  <thead>\n",
       "    <tr style=\"text-align: right;\">\n",
       "      <th>name</th>\n",
       "      <th>id</th>\n",
       "      <th>parcelid</th>\n",
       "      <th>airconditioningtypeid</th>\n",
       "      <th>architecturalstyletypeid</th>\n",
       "      <th>basementsqft</th>\n",
       "      <th>bathroomcnt</th>\n",
       "      <th>bedroomcnt</th>\n",
       "      <th>buildingclasstypeid</th>\n",
       "      <th>buildingqualitytypeid</th>\n",
       "      <th>calculatedbathnbr</th>\n",
       "      <th>decktypeid</th>\n",
       "      <th>finishedfloor1squarefeet</th>\n",
       "      <th>calculatedfinishedsquarefeet</th>\n",
       "      <th>finishedsquarefeet12</th>\n",
       "      <th>finishedsquarefeet13</th>\n",
       "      <th>finishedsquarefeet15</th>\n",
       "      <th>finishedsquarefeet50</th>\n",
       "      <th>finishedsquarefeet6</th>\n",
       "      <th>fips</th>\n",
       "      <th>fireplacecnt</th>\n",
       "      <th>fullbathcnt</th>\n",
       "      <th>garagecarcnt</th>\n",
       "      <th>garagetotalsqft</th>\n",
       "      <th>hashottuborspa</th>\n",
       "      <th>heatingorsystemtypeid</th>\n",
       "      <th>latitude</th>\n",
       "      <th>longitude</th>\n",
       "      <th>lotsizesquarefeet</th>\n",
       "      <th>poolcnt</th>\n",
       "      <th>poolsizesum</th>\n",
       "      <th>pooltypeid10</th>\n",
       "      <th>pooltypeid2</th>\n",
       "      <th>pooltypeid7</th>\n",
       "      <th>propertycountylandusecode</th>\n",
       "      <th>propertylandusetypeid</th>\n",
       "      <th>propertyzoningdesc</th>\n",
       "      <th>rawcensustractandblock</th>\n",
       "      <th>regionidcity</th>\n",
       "      <th>regionidcounty</th>\n",
       "      <th>regionidneighborhood</th>\n",
       "      <th>regionidzip</th>\n",
       "      <th>roomcnt</th>\n",
       "      <th>storytypeid</th>\n",
       "      <th>threequarterbathnbr</th>\n",
       "      <th>typeconstructiontypeid</th>\n",
       "      <th>unitcnt</th>\n",
       "      <th>yardbuildingsqft17</th>\n",
       "      <th>yardbuildingsqft26</th>\n",
       "      <th>yearbuilt</th>\n",
       "      <th>numberofstories</th>\n",
       "      <th>fireplaceflag</th>\n",
       "      <th>structuretaxvaluedollarcnt</th>\n",
       "      <th>taxvaluedollarcnt</th>\n",
       "      <th>assessmentyear</th>\n",
       "      <th>landtaxvaluedollarcnt</th>\n",
       "      <th>taxamount</th>\n",
       "      <th>taxdelinquencyflag</th>\n",
       "      <th>taxdelinquencyyear</th>\n",
       "      <th>censustractandblock</th>\n",
       "      <th>logerror</th>\n",
       "      <th>transactiondate</th>\n",
       "      <th>airconditioningdesc</th>\n",
       "      <th>architecturalstyledesc</th>\n",
       "      <th>buildingclassdesc</th>\n",
       "      <th>heatingorsystemdesc</th>\n",
       "      <th>propertylandusedesc</th>\n",
       "      <th>storydesc</th>\n",
       "      <th>typeconstructiondesc</th>\n",
       "    </tr>\n",
       "  </thead>\n",
       "  <tbody>\n",
       "    <tr>\n",
       "      <th>num_rows_missing</th>\n",
       "      <td>0</td>\n",
       "      <td>0</td>\n",
       "      <td>38704</td>\n",
       "      <td>52249</td>\n",
       "      <td>52272</td>\n",
       "      <td>0</td>\n",
       "      <td>0</td>\n",
       "      <td>52319</td>\n",
       "      <td>18665</td>\n",
       "      <td>135</td>\n",
       "      <td>51930</td>\n",
       "      <td>47948</td>\n",
       "      <td>81</td>\n",
       "      <td>246</td>\n",
       "      <td>52319</td>\n",
       "      <td>52319</td>\n",
       "      <td>47948</td>\n",
       "      <td>52154</td>\n",
       "      <td>0</td>\n",
       "      <td>45086</td>\n",
       "      <td>135</td>\n",
       "      <td>34335</td>\n",
       "      <td>34335</td>\n",
       "      <td>50805</td>\n",
       "      <td>18470</td>\n",
       "      <td>0</td>\n",
       "      <td>0</td>\n",
       "      <td>366</td>\n",
       "      <td>41242</td>\n",
       "      <td>51454</td>\n",
       "      <td>51876</td>\n",
       "      <td>51248</td>\n",
       "      <td>42329</td>\n",
       "      <td>0</td>\n",
       "      <td>0</td>\n",
       "      <td>18558</td>\n",
       "      <td>0</td>\n",
       "      <td>1036</td>\n",
       "      <td>0</td>\n",
       "      <td>33338</td>\n",
       "      <td>26</td>\n",
       "      <td>0</td>\n",
       "      <td>52272</td>\n",
       "      <td>45602</td>\n",
       "      <td>52243</td>\n",
       "      <td>18558</td>\n",
       "      <td>50384</td>\n",
       "      <td>52256</td>\n",
       "      <td>114</td>\n",
       "      <td>37787</td>\n",
       "      <td>52238</td>\n",
       "      <td>82</td>\n",
       "      <td>1</td>\n",
       "      <td>0</td>\n",
       "      <td>1</td>\n",
       "      <td>4</td>\n",
       "      <td>50251</td>\n",
       "      <td>50251</td>\n",
       "      <td>121</td>\n",
       "      <td>0</td>\n",
       "      <td>0</td>\n",
       "      <td>38704</td>\n",
       "      <td>52249</td>\n",
       "      <td>52319</td>\n",
       "      <td>18470</td>\n",
       "      <td>0</td>\n",
       "      <td>52272</td>\n",
       "      <td>52243</td>\n",
       "    </tr>\n",
       "    <tr>\n",
       "      <th>pct_rows_missing</th>\n",
       "      <td>0.0</td>\n",
       "      <td>0.0</td>\n",
       "      <td>0.739769</td>\n",
       "      <td>0.998662</td>\n",
       "      <td>0.999102</td>\n",
       "      <td>0.0</td>\n",
       "      <td>0.0</td>\n",
       "      <td>1.0</td>\n",
       "      <td>0.356754</td>\n",
       "      <td>0.00258</td>\n",
       "      <td>0.992565</td>\n",
       "      <td>0.916455</td>\n",
       "      <td>0.001548</td>\n",
       "      <td>0.004702</td>\n",
       "      <td>1.0</td>\n",
       "      <td>1.0</td>\n",
       "      <td>0.916455</td>\n",
       "      <td>0.996846</td>\n",
       "      <td>0.0</td>\n",
       "      <td>0.861752</td>\n",
       "      <td>0.00258</td>\n",
       "      <td>0.656263</td>\n",
       "      <td>0.656263</td>\n",
       "      <td>0.971062</td>\n",
       "      <td>0.353027</td>\n",
       "      <td>0.0</td>\n",
       "      <td>0.0</td>\n",
       "      <td>0.006996</td>\n",
       "      <td>0.78828</td>\n",
       "      <td>0.983467</td>\n",
       "      <td>0.991533</td>\n",
       "      <td>0.979529</td>\n",
       "      <td>0.809056</td>\n",
       "      <td>0.0</td>\n",
       "      <td>0.0</td>\n",
       "      <td>0.354709</td>\n",
       "      <td>0.0</td>\n",
       "      <td>0.019802</td>\n",
       "      <td>0.0</td>\n",
       "      <td>0.637206</td>\n",
       "      <td>0.000497</td>\n",
       "      <td>0.0</td>\n",
       "      <td>0.999102</td>\n",
       "      <td>0.871615</td>\n",
       "      <td>0.998547</td>\n",
       "      <td>0.354709</td>\n",
       "      <td>0.963015</td>\n",
       "      <td>0.998796</td>\n",
       "      <td>0.002179</td>\n",
       "      <td>0.722242</td>\n",
       "      <td>0.998452</td>\n",
       "      <td>0.001567</td>\n",
       "      <td>0.000019</td>\n",
       "      <td>0.0</td>\n",
       "      <td>0.000019</td>\n",
       "      <td>0.000076</td>\n",
       "      <td>0.960473</td>\n",
       "      <td>0.960473</td>\n",
       "      <td>0.002313</td>\n",
       "      <td>0.0</td>\n",
       "      <td>0.0</td>\n",
       "      <td>0.739769</td>\n",
       "      <td>0.998662</td>\n",
       "      <td>1.0</td>\n",
       "      <td>0.353027</td>\n",
       "      <td>0.0</td>\n",
       "      <td>0.999102</td>\n",
       "      <td>0.998547</td>\n",
       "    </tr>\n",
       "  </tbody>\n",
       "</table>\n",
       "</div>"
      ],
      "text/plain": [
       "name               id parcelid airconditioningtypeid architecturalstyletypeid  \\\n",
       "num_rows_missing    0        0                 38704                    52249   \n",
       "pct_rows_missing  0.0      0.0              0.739769                 0.998662   \n",
       "\n",
       "name             basementsqft bathroomcnt bedroomcnt buildingclasstypeid  \\\n",
       "num_rows_missing        52272           0          0               52319   \n",
       "pct_rows_missing     0.999102         0.0        0.0                 1.0   \n",
       "\n",
       "name             buildingqualitytypeid calculatedbathnbr decktypeid  \\\n",
       "num_rows_missing                 18665               135      51930   \n",
       "pct_rows_missing              0.356754           0.00258   0.992565   \n",
       "\n",
       "name             finishedfloor1squarefeet calculatedfinishedsquarefeet  \\\n",
       "num_rows_missing                    47948                           81   \n",
       "pct_rows_missing                 0.916455                     0.001548   \n",
       "\n",
       "name             finishedsquarefeet12 finishedsquarefeet13  \\\n",
       "num_rows_missing                  246                52319   \n",
       "pct_rows_missing             0.004702                  1.0   \n",
       "\n",
       "name             finishedsquarefeet15 finishedsquarefeet50  \\\n",
       "num_rows_missing                52319                47948   \n",
       "pct_rows_missing                  1.0             0.916455   \n",
       "\n",
       "name             finishedsquarefeet6 fips fireplacecnt fullbathcnt  \\\n",
       "num_rows_missing               52154    0        45086         135   \n",
       "pct_rows_missing            0.996846  0.0     0.861752     0.00258   \n",
       "\n",
       "name             garagecarcnt garagetotalsqft hashottuborspa  \\\n",
       "num_rows_missing        34335           34335          50805   \n",
       "pct_rows_missing     0.656263        0.656263       0.971062   \n",
       "\n",
       "name             heatingorsystemtypeid latitude longitude lotsizesquarefeet  \\\n",
       "num_rows_missing                 18470        0         0               366   \n",
       "pct_rows_missing              0.353027      0.0       0.0          0.006996   \n",
       "\n",
       "name              poolcnt poolsizesum pooltypeid10 pooltypeid2 pooltypeid7  \\\n",
       "num_rows_missing    41242       51454        51876       51248       42329   \n",
       "pct_rows_missing  0.78828    0.983467     0.991533    0.979529    0.809056   \n",
       "\n",
       "name             propertycountylandusecode propertylandusetypeid  \\\n",
       "num_rows_missing                         0                     0   \n",
       "pct_rows_missing                       0.0                   0.0   \n",
       "\n",
       "name             propertyzoningdesc rawcensustractandblock regionidcity  \\\n",
       "num_rows_missing              18558                      0         1036   \n",
       "pct_rows_missing           0.354709                    0.0     0.019802   \n",
       "\n",
       "name             regionidcounty regionidneighborhood regionidzip roomcnt  \\\n",
       "num_rows_missing              0                33338          26       0   \n",
       "pct_rows_missing            0.0             0.637206    0.000497     0.0   \n",
       "\n",
       "name             storytypeid threequarterbathnbr typeconstructiontypeid  \\\n",
       "num_rows_missing       52272               45602                  52243   \n",
       "pct_rows_missing    0.999102            0.871615               0.998547   \n",
       "\n",
       "name               unitcnt yardbuildingsqft17 yardbuildingsqft26 yearbuilt  \\\n",
       "num_rows_missing     18558              50384              52256       114   \n",
       "pct_rows_missing  0.354709           0.963015           0.998796  0.002179   \n",
       "\n",
       "name             numberofstories fireplaceflag structuretaxvaluedollarcnt  \\\n",
       "num_rows_missing           37787         52238                         82   \n",
       "pct_rows_missing        0.722242      0.998452                   0.001567   \n",
       "\n",
       "name             taxvaluedollarcnt assessmentyear landtaxvaluedollarcnt  \\\n",
       "num_rows_missing                 1              0                     1   \n",
       "pct_rows_missing          0.000019            0.0              0.000019   \n",
       "\n",
       "name             taxamount taxdelinquencyflag taxdelinquencyyear  \\\n",
       "num_rows_missing         4              50251              50251   \n",
       "pct_rows_missing  0.000076           0.960473           0.960473   \n",
       "\n",
       "name             censustractandblock logerror transactiondate  \\\n",
       "num_rows_missing                 121        0               0   \n",
       "pct_rows_missing            0.002313      0.0             0.0   \n",
       "\n",
       "name             airconditioningdesc architecturalstyledesc buildingclassdesc  \\\n",
       "num_rows_missing               38704                  52249             52319   \n",
       "pct_rows_missing            0.739769               0.998662               1.0   \n",
       "\n",
       "name             heatingorsystemdesc propertylandusedesc storydesc  \\\n",
       "num_rows_missing               18470                   0     52272   \n",
       "pct_rows_missing            0.353027                 0.0  0.999102   \n",
       "\n",
       "name             typeconstructiondesc  \n",
       "num_rows_missing                52243  \n",
       "pct_rows_missing             0.998547  "
      ]
     },
     "execution_count": 5,
     "metadata": {},
     "output_type": "execute_result"
    }
   ],
   "source": [
    "wrangle.null_counter(df).T"
   ]
  },
  {
   "cell_type": "code",
   "execution_count": 6,
   "id": "94f088be",
   "metadata": {},
   "outputs": [],
   "source": [
    "df = wrangle.null_dropper(df, 0.75, 0.75)"
   ]
  },
  {
   "cell_type": "code",
   "execution_count": 7,
   "id": "4568a928",
   "metadata": {},
   "outputs": [
    {
     "data": {
      "text/plain": [
       "(52317, 29)"
      ]
     },
     "execution_count": 7,
     "metadata": {},
     "output_type": "execute_result"
    }
   ],
   "source": [
    "df.shape"
   ]
  },
  {
   "cell_type": "code",
   "execution_count": 8,
   "id": "ea8e8b09",
   "metadata": {},
   "outputs": [
    {
     "data": {
      "text/plain": [
       "['id',\n",
       " 'parcelid',\n",
       " 'bathroomcnt',\n",
       " 'bedroomcnt',\n",
       " 'calculatedbathnbr',\n",
       " 'calculatedfinishedsquarefeet',\n",
       " 'finishedsquarefeet12',\n",
       " 'fips',\n",
       " 'fullbathcnt',\n",
       " 'latitude',\n",
       " 'longitude',\n",
       " 'lotsizesquarefeet',\n",
       " 'propertycountylandusecode',\n",
       " 'propertylandusetypeid',\n",
       " 'rawcensustractandblock',\n",
       " 'regionidcity',\n",
       " 'regionidcounty',\n",
       " 'regionidzip',\n",
       " 'roomcnt',\n",
       " 'yearbuilt',\n",
       " 'structuretaxvaluedollarcnt',\n",
       " 'taxvaluedollarcnt',\n",
       " 'assessmentyear',\n",
       " 'landtaxvaluedollarcnt',\n",
       " 'taxamount',\n",
       " 'censustractandblock',\n",
       " 'logerror',\n",
       " 'transactiondate',\n",
       " 'propertylandusedesc']"
      ]
     },
     "execution_count": 8,
     "metadata": {},
     "output_type": "execute_result"
    }
   ],
   "source": [
    "list(df.columns)"
   ]
  },
  {
   "cell_type": "code",
   "execution_count": 9,
   "id": "944a49ba",
   "metadata": {},
   "outputs": [
    {
     "data": {
      "text/plain": [
       "id                                 0\n",
       "parcelid                           0\n",
       "bathroomcnt                        0\n",
       "bedroomcnt                         0\n",
       "calculatedbathnbr                133\n",
       "calculatedfinishedsquarefeet      79\n",
       "finishedsquarefeet12             244\n",
       "fips                               0\n",
       "fullbathcnt                      133\n",
       "latitude                           0\n",
       "longitude                          0\n",
       "lotsizesquarefeet                364\n",
       "propertycountylandusecode          0\n",
       "propertylandusetypeid              0\n",
       "rawcensustractandblock             0\n",
       "regionidcity                    1034\n",
       "regionidcounty                     0\n",
       "regionidzip                       24\n",
       "roomcnt                            0\n",
       "yearbuilt                        112\n",
       "structuretaxvaluedollarcnt        80\n",
       "taxvaluedollarcnt                  1\n",
       "assessmentyear                     0\n",
       "landtaxvaluedollarcnt              1\n",
       "taxamount                          4\n",
       "censustractandblock              119\n",
       "logerror                           0\n",
       "transactiondate                    0\n",
       "propertylandusedesc                0\n",
       "dtype: int64"
      ]
     },
     "execution_count": 9,
     "metadata": {},
     "output_type": "execute_result"
    }
   ],
   "source": [
    "df.isna().sum()"
   ]
  },
  {
   "cell_type": "code",
   "execution_count": 10,
   "id": "68c80192",
   "metadata": {},
   "outputs": [],
   "source": [
    "df = df.dropna()"
   ]
  },
  {
   "cell_type": "code",
   "execution_count": 11,
   "id": "b1542636",
   "metadata": {},
   "outputs": [
    {
     "data": {
      "text/plain": [
       "id                              0\n",
       "parcelid                        0\n",
       "bathroomcnt                     0\n",
       "bedroomcnt                      0\n",
       "calculatedbathnbr               0\n",
       "calculatedfinishedsquarefeet    0\n",
       "finishedsquarefeet12            0\n",
       "fips                            0\n",
       "fullbathcnt                     0\n",
       "latitude                        0\n",
       "longitude                       0\n",
       "lotsizesquarefeet               0\n",
       "propertycountylandusecode       0\n",
       "propertylandusetypeid           0\n",
       "rawcensustractandblock          0\n",
       "regionidcity                    0\n",
       "regionidcounty                  0\n",
       "regionidzip                     0\n",
       "roomcnt                         0\n",
       "yearbuilt                       0\n",
       "structuretaxvaluedollarcnt      0\n",
       "taxvaluedollarcnt               0\n",
       "assessmentyear                  0\n",
       "landtaxvaluedollarcnt           0\n",
       "taxamount                       0\n",
       "censustractandblock             0\n",
       "logerror                        0\n",
       "transactiondate                 0\n",
       "propertylandusedesc             0\n",
       "dtype: int64"
      ]
     },
     "execution_count": 11,
     "metadata": {},
     "output_type": "execute_result"
    }
   ],
   "source": [
    "df.isna().sum()"
   ]
  },
  {
   "cell_type": "code",
   "execution_count": 12,
   "id": "7f313e70",
   "metadata": {},
   "outputs": [
    {
     "data": {
      "text/html": [
       "<div>\n",
       "<style scoped>\n",
       "    .dataframe tbody tr th:only-of-type {\n",
       "        vertical-align: middle;\n",
       "    }\n",
       "\n",
       "    .dataframe tbody tr th {\n",
       "        vertical-align: top;\n",
       "    }\n",
       "\n",
       "    .dataframe thead th {\n",
       "        text-align: right;\n",
       "    }\n",
       "</style>\n",
       "<table border=\"1\" class=\"dataframe\">\n",
       "  <thead>\n",
       "    <tr style=\"text-align: right;\">\n",
       "      <th></th>\n",
       "      <th>id</th>\n",
       "      <th>parcelid</th>\n",
       "      <th>bathroomcnt</th>\n",
       "      <th>bedroomcnt</th>\n",
       "      <th>calculatedbathnbr</th>\n",
       "      <th>calculatedfinishedsquarefeet</th>\n",
       "      <th>finishedsquarefeet12</th>\n",
       "      <th>fips</th>\n",
       "      <th>fullbathcnt</th>\n",
       "      <th>latitude</th>\n",
       "      <th>longitude</th>\n",
       "      <th>lotsizesquarefeet</th>\n",
       "      <th>propertycountylandusecode</th>\n",
       "      <th>propertylandusetypeid</th>\n",
       "      <th>rawcensustractandblock</th>\n",
       "      <th>regionidcity</th>\n",
       "      <th>regionidcounty</th>\n",
       "      <th>regionidzip</th>\n",
       "      <th>roomcnt</th>\n",
       "      <th>yearbuilt</th>\n",
       "      <th>structuretaxvaluedollarcnt</th>\n",
       "      <th>taxvaluedollarcnt</th>\n",
       "      <th>assessmentyear</th>\n",
       "      <th>landtaxvaluedollarcnt</th>\n",
       "      <th>taxamount</th>\n",
       "      <th>censustractandblock</th>\n",
       "      <th>logerror</th>\n",
       "      <th>transactiondate</th>\n",
       "      <th>propertylandusedesc</th>\n",
       "    </tr>\n",
       "  </thead>\n",
       "  <tbody>\n",
       "    <tr>\n",
       "      <th>0</th>\n",
       "      <td>1727539</td>\n",
       "      <td>14297519</td>\n",
       "      <td>3.5</td>\n",
       "      <td>4.0</td>\n",
       "      <td>3.5</td>\n",
       "      <td>3100.0</td>\n",
       "      <td>3100.0</td>\n",
       "      <td>6059.0</td>\n",
       "      <td>3.0</td>\n",
       "      <td>33634931.0</td>\n",
       "      <td>-117869207.0</td>\n",
       "      <td>4506.0</td>\n",
       "      <td>122</td>\n",
       "      <td>261.0</td>\n",
       "      <td>6.059063e+07</td>\n",
       "      <td>53571.0</td>\n",
       "      <td>1286.0</td>\n",
       "      <td>96978.0</td>\n",
       "      <td>0.0</td>\n",
       "      <td>1998.0</td>\n",
       "      <td>485713.0</td>\n",
       "      <td>1023282.0</td>\n",
       "      <td>2016.0</td>\n",
       "      <td>537569.0</td>\n",
       "      <td>11013.72</td>\n",
       "      <td>6.059063e+13</td>\n",
       "      <td>0.025595</td>\n",
       "      <td>2017-01-01</td>\n",
       "      <td>Single Family Residential</td>\n",
       "    </tr>\n",
       "    <tr>\n",
       "      <th>1</th>\n",
       "      <td>1387261</td>\n",
       "      <td>17052889</td>\n",
       "      <td>1.0</td>\n",
       "      <td>2.0</td>\n",
       "      <td>1.0</td>\n",
       "      <td>1465.0</td>\n",
       "      <td>1465.0</td>\n",
       "      <td>6111.0</td>\n",
       "      <td>1.0</td>\n",
       "      <td>34449266.0</td>\n",
       "      <td>-119281531.0</td>\n",
       "      <td>12647.0</td>\n",
       "      <td>1110</td>\n",
       "      <td>261.0</td>\n",
       "      <td>6.111001e+07</td>\n",
       "      <td>13091.0</td>\n",
       "      <td>2061.0</td>\n",
       "      <td>97099.0</td>\n",
       "      <td>5.0</td>\n",
       "      <td>1967.0</td>\n",
       "      <td>88000.0</td>\n",
       "      <td>464000.0</td>\n",
       "      <td>2016.0</td>\n",
       "      <td>376000.0</td>\n",
       "      <td>5672.48</td>\n",
       "      <td>6.111001e+13</td>\n",
       "      <td>0.055619</td>\n",
       "      <td>2017-01-01</td>\n",
       "      <td>Single Family Residential</td>\n",
       "    </tr>\n",
       "    <tr>\n",
       "      <th>2</th>\n",
       "      <td>11677</td>\n",
       "      <td>14186244</td>\n",
       "      <td>2.0</td>\n",
       "      <td>3.0</td>\n",
       "      <td>2.0</td>\n",
       "      <td>1243.0</td>\n",
       "      <td>1243.0</td>\n",
       "      <td>6059.0</td>\n",
       "      <td>2.0</td>\n",
       "      <td>33886168.0</td>\n",
       "      <td>-117823170.0</td>\n",
       "      <td>8432.0</td>\n",
       "      <td>122</td>\n",
       "      <td>261.0</td>\n",
       "      <td>6.059022e+07</td>\n",
       "      <td>21412.0</td>\n",
       "      <td>1286.0</td>\n",
       "      <td>97078.0</td>\n",
       "      <td>6.0</td>\n",
       "      <td>1962.0</td>\n",
       "      <td>85289.0</td>\n",
       "      <td>564778.0</td>\n",
       "      <td>2016.0</td>\n",
       "      <td>479489.0</td>\n",
       "      <td>6488.30</td>\n",
       "      <td>6.059022e+13</td>\n",
       "      <td>0.005383</td>\n",
       "      <td>2017-01-01</td>\n",
       "      <td>Single Family Residential</td>\n",
       "    </tr>\n",
       "    <tr>\n",
       "      <th>3</th>\n",
       "      <td>2288172</td>\n",
       "      <td>12177905</td>\n",
       "      <td>3.0</td>\n",
       "      <td>4.0</td>\n",
       "      <td>3.0</td>\n",
       "      <td>2376.0</td>\n",
       "      <td>2376.0</td>\n",
       "      <td>6037.0</td>\n",
       "      <td>3.0</td>\n",
       "      <td>34245180.0</td>\n",
       "      <td>-118240722.0</td>\n",
       "      <td>13038.0</td>\n",
       "      <td>0101</td>\n",
       "      <td>261.0</td>\n",
       "      <td>6.037300e+07</td>\n",
       "      <td>396551.0</td>\n",
       "      <td>3101.0</td>\n",
       "      <td>96330.0</td>\n",
       "      <td>0.0</td>\n",
       "      <td>1970.0</td>\n",
       "      <td>108918.0</td>\n",
       "      <td>145143.0</td>\n",
       "      <td>2016.0</td>\n",
       "      <td>36225.0</td>\n",
       "      <td>1777.51</td>\n",
       "      <td>6.037300e+13</td>\n",
       "      <td>-0.103410</td>\n",
       "      <td>2017-01-01</td>\n",
       "      <td>Single Family Residential</td>\n",
       "    </tr>\n",
       "    <tr>\n",
       "      <th>4</th>\n",
       "      <td>781532</td>\n",
       "      <td>12095076</td>\n",
       "      <td>3.0</td>\n",
       "      <td>4.0</td>\n",
       "      <td>3.0</td>\n",
       "      <td>2962.0</td>\n",
       "      <td>2962.0</td>\n",
       "      <td>6037.0</td>\n",
       "      <td>3.0</td>\n",
       "      <td>34145202.0</td>\n",
       "      <td>-118179824.0</td>\n",
       "      <td>63000.0</td>\n",
       "      <td>0101</td>\n",
       "      <td>261.0</td>\n",
       "      <td>6.037461e+07</td>\n",
       "      <td>47019.0</td>\n",
       "      <td>3101.0</td>\n",
       "      <td>96293.0</td>\n",
       "      <td>0.0</td>\n",
       "      <td>1950.0</td>\n",
       "      <td>276684.0</td>\n",
       "      <td>773303.0</td>\n",
       "      <td>2016.0</td>\n",
       "      <td>496619.0</td>\n",
       "      <td>9516.26</td>\n",
       "      <td>6.037461e+13</td>\n",
       "      <td>-0.001011</td>\n",
       "      <td>2017-01-01</td>\n",
       "      <td>Single Family Residential</td>\n",
       "    </tr>\n",
       "  </tbody>\n",
       "</table>\n",
       "</div>"
      ],
      "text/plain": [
       "        id  parcelid  bathroomcnt  bedroomcnt  calculatedbathnbr  \\\n",
       "0  1727539  14297519          3.5         4.0                3.5   \n",
       "1  1387261  17052889          1.0         2.0                1.0   \n",
       "2    11677  14186244          2.0         3.0                2.0   \n",
       "3  2288172  12177905          3.0         4.0                3.0   \n",
       "4   781532  12095076          3.0         4.0                3.0   \n",
       "\n",
       "   calculatedfinishedsquarefeet  finishedsquarefeet12    fips  fullbathcnt  \\\n",
       "0                        3100.0                3100.0  6059.0          3.0   \n",
       "1                        1465.0                1465.0  6111.0          1.0   \n",
       "2                        1243.0                1243.0  6059.0          2.0   \n",
       "3                        2376.0                2376.0  6037.0          3.0   \n",
       "4                        2962.0                2962.0  6037.0          3.0   \n",
       "\n",
       "     latitude    longitude  lotsizesquarefeet propertycountylandusecode  \\\n",
       "0  33634931.0 -117869207.0             4506.0                       122   \n",
       "1  34449266.0 -119281531.0            12647.0                      1110   \n",
       "2  33886168.0 -117823170.0             8432.0                       122   \n",
       "3  34245180.0 -118240722.0            13038.0                      0101   \n",
       "4  34145202.0 -118179824.0            63000.0                      0101   \n",
       "\n",
       "   propertylandusetypeid  rawcensustractandblock  regionidcity  \\\n",
       "0                  261.0            6.059063e+07       53571.0   \n",
       "1                  261.0            6.111001e+07       13091.0   \n",
       "2                  261.0            6.059022e+07       21412.0   \n",
       "3                  261.0            6.037300e+07      396551.0   \n",
       "4                  261.0            6.037461e+07       47019.0   \n",
       "\n",
       "   regionidcounty  regionidzip  roomcnt  yearbuilt  \\\n",
       "0          1286.0      96978.0      0.0     1998.0   \n",
       "1          2061.0      97099.0      5.0     1967.0   \n",
       "2          1286.0      97078.0      6.0     1962.0   \n",
       "3          3101.0      96330.0      0.0     1970.0   \n",
       "4          3101.0      96293.0      0.0     1950.0   \n",
       "\n",
       "   structuretaxvaluedollarcnt  taxvaluedollarcnt  assessmentyear  \\\n",
       "0                    485713.0          1023282.0          2016.0   \n",
       "1                     88000.0           464000.0          2016.0   \n",
       "2                     85289.0           564778.0          2016.0   \n",
       "3                    108918.0           145143.0          2016.0   \n",
       "4                    276684.0           773303.0          2016.0   \n",
       "\n",
       "   landtaxvaluedollarcnt  taxamount  censustractandblock  logerror  \\\n",
       "0               537569.0   11013.72         6.059063e+13  0.025595   \n",
       "1               376000.0    5672.48         6.111001e+13  0.055619   \n",
       "2               479489.0    6488.30         6.059022e+13  0.005383   \n",
       "3                36225.0    1777.51         6.037300e+13 -0.103410   \n",
       "4               496619.0    9516.26         6.037461e+13 -0.001011   \n",
       "\n",
       "  transactiondate        propertylandusedesc  \n",
       "0      2017-01-01  Single Family Residential  \n",
       "1      2017-01-01  Single Family Residential  \n",
       "2      2017-01-01  Single Family Residential  \n",
       "3      2017-01-01  Single Family Residential  \n",
       "4      2017-01-01  Single Family Residential  "
      ]
     },
     "execution_count": 12,
     "metadata": {},
     "output_type": "execute_result"
    }
   ],
   "source": [
    "df.head()"
   ]
  },
  {
   "cell_type": "code",
   "execution_count": 13,
   "id": "a1721d2b",
   "metadata": {},
   "outputs": [
    {
     "data": {
      "image/png": "[encoded data removed]",
      "text/plain": [
       "<Figure size 1728x1440 with 30 Axes>"
      ]
     },
     "metadata": {
      "needs_background": "light"
     },
     "output_type": "display_data"
    }
   ],
   "source": [
    "df.hist(figsize=(24, 20))\n",
    "plt.show()"
   ]
  },
  {
   "cell_type": "markdown",
   "id": "f79b877f",
   "metadata": {},
   "source": [
    "Redundant:\n",
    "- finishedsqaurefeet12\n",
    "- roomcnt\n",
    "- censustractandblock\n",
    "- landtaxvaluedollarcnt\n",
    "- taxamount\n",
    "- structuretaxvaluedollarcnt\n",
    "- propertycountylandusecode"
   ]
  },
  {
   "cell_type": "code",
   "execution_count": 14,
   "id": "9ef90ab6",
   "metadata": {},
   "outputs": [],
   "source": [
    "df = df.drop(columns=['finishedsquarefeet12', 'roomcnt', 'censustractandblock', 'landtaxvaluedollarcnt', 'taxamount', 'structuretaxvaluedollarcnt', 'propertycountylandusecode'])"
   ]
  },
  {
   "cell_type": "code",
   "execution_count": 32,
   "id": "07ffedaa",
   "metadata": {},
   "outputs": [],
   "source": [
    "df= df.drop(columns=['propertylandusetypeid'])"
   ]
  },
  {
   "cell_type": "code",
   "execution_count": 28,
   "id": "aa3842fa",
   "metadata": {},
   "outputs": [],
   "source": [
    "# Not necessary because I know these are all Single Family Residential\n",
    "df = df.drop(columns=['propertylandusedesc'])"
   ]
  },
  {
   "cell_type": "code",
   "execution_count": 33,
   "id": "d95baf48",
   "metadata": {},
   "outputs": [
    {
     "data": {
      "text/plain": [
       "(50559, 20)"
      ]
     },
     "execution_count": 33,
     "metadata": {},
     "output_type": "execute_result"
    }
   ],
   "source": [
    "df.shape"
   ]
  },
  {
   "cell_type": "code",
   "execution_count": 34,
   "id": "c9814095",
   "metadata": {},
   "outputs": [
    {
     "name": "stdout",
     "output_type": "stream",
     "text": [
      "<class 'pandas.core.frame.DataFrame'>\n",
      "Int64Index: 50559 entries, 0 to 52318\n",
      "Data columns (total 20 columns):\n",
      " #   Column                        Non-Null Count  Dtype  \n",
      "---  ------                        --------------  -----  \n",
      " 0   id                            50559 non-null  int64  \n",
      " 1   parcelid                      50559 non-null  int64  \n",
      " 2   bathroomcnt                   50559 non-null  float64\n",
      " 3   bedroomcnt                    50559 non-null  float64\n",
      " 4   calculatedfinishedsquarefeet  50559 non-null  float64\n",
      " 5   fips                          50559 non-null  float64\n",
      " 6   fullbathcnt                   50559 non-null  float64\n",
      " 7   latitude                      50559 non-null  float64\n",
      " 8   longitude                     50559 non-null  float64\n",
      " 9   lotsizesquarefeet             50559 non-null  float64\n",
      " 10  rawcensustractandblock        50559 non-null  float64\n",
      " 11  regionidcity                  50559 non-null  float64\n",
      " 12  regionidcounty                50559 non-null  float64\n",
      " 13  regionidzip                   50559 non-null  float64\n",
      " 14  yearbuilt                     50559 non-null  float64\n",
      " 15  taxvaluedollarcnt             50559 non-null  float64\n",
      " 16  assessmentyear                50559 non-null  float64\n",
      " 17  logerror                      50559 non-null  float64\n",
      " 18  transactiondate               50559 non-null  object \n",
      " 19  half_bath                     50559 non-null  float64\n",
      "dtypes: float64(17), int64(2), object(1)\n",
      "memory usage: 8.1+ MB\n"
     ]
    }
   ],
   "source": [
    "df.info()"
   ]
  },
  {
   "cell_type": "code",
   "execution_count": 17,
   "id": "b7c07f68",
   "metadata": {},
   "outputs": [],
   "source": [
    "# dropping this column since we have bathroomcnt, fullbathcnt, and I will make a half bath column\n",
    "df = df.drop(columns=['calculatedbathnbr'])"
   ]
  },
  {
   "cell_type": "code",
   "execution_count": 31,
   "id": "5981d424",
   "metadata": {},
   "outputs": [
    {
     "data": {
      "text/plain": [
       "(50559, 21)"
      ]
     },
     "execution_count": 31,
     "metadata": {},
     "output_type": "execute_result"
    }
   ],
   "source": [
    "df.shape"
   ]
  },
  {
   "cell_type": "code",
   "execution_count": 19,
   "id": "80a76223",
   "metadata": {},
   "outputs": [],
   "source": [
    "# creating a new column showing the number of half baths a house has\n",
    "df['half_bath'] = (df.bathroomcnt - df.fullbathcnt)/0.5"
   ]
  },
  {
   "cell_type": "code",
   "execution_count": 20,
   "id": "85446cc8",
   "metadata": {},
   "outputs": [
    {
     "data": {
      "text/plain": [
       "0        1.0\n",
       "1        0.0\n",
       "2        0.0\n",
       "3        0.0\n",
       "4        0.0\n",
       "        ... \n",
       "52314    0.0\n",
       "52315    0.0\n",
       "52316    0.0\n",
       "52317    0.0\n",
       "52318    0.0\n",
       "Name: half_bath, Length: 50559, dtype: float64"
      ]
     },
     "execution_count": 20,
     "metadata": {},
     "output_type": "execute_result"
    }
   ],
   "source": [
    "df.half_bath"
   ]
  },
  {
   "cell_type": "code",
   "execution_count": 21,
   "id": "ebcdc53e",
   "metadata": {},
   "outputs": [
    {
     "data": {
      "text/plain": [
       "0.0    43998\n",
       "1.0     6484\n",
       "2.0       68\n",
       "3.0        8\n",
       "7.0        1\n",
       "Name: half_bath, dtype: int64"
      ]
     },
     "execution_count": 21,
     "metadata": {},
     "output_type": "execute_result"
    }
   ],
   "source": [
    "df.half_bath.value_counts()"
   ]
  },
  {
   "cell_type": "code",
   "execution_count": 28,
   "id": "daa1a930",
   "metadata": {},
   "outputs": [
    {
     "data": {
      "text/plain": [
       "3101.0    32739\n",
       "1286.0    13500\n",
       "2061.0     4320\n",
       "Name: regionidcounty, dtype: int64"
      ]
     },
     "execution_count": 28,
     "metadata": {},
     "output_type": "execute_result"
    }
   ],
   "source": [
    "df.regionidcounty.value_counts()"
   ]
  },
  {
   "cell_type": "code",
   "execution_count": 23,
   "id": "c0c5ff68",
   "metadata": {},
   "outputs": [
    {
     "data": {
      "text/plain": [
       "2017-06-30    779\n",
       "2017-04-28    591\n",
       "2017-05-31    549\n",
       "2017-07-28    526\n",
       "2017-08-31    514\n",
       "             ... \n",
       "2017-05-07      1\n",
       "2017-05-13      1\n",
       "2017-05-20      1\n",
       "2017-06-11      1\n",
       "2017-09-25      1\n",
       "Name: transactiondate, Length: 257, dtype: int64"
      ]
     },
     "execution_count": 23,
     "metadata": {},
     "output_type": "execute_result"
    }
   ],
   "source": [
    "df.transactiondate.value_counts()"
   ]
  },
  {
   "cell_type": "code",
   "execution_count": 36,
   "id": "2e62d308",
   "metadata": {},
   "outputs": [],
   "source": [
    "df.rename(columns={'bedroomcnt':'bed', 'bathroomcnt':'bath', 'calculatedfinishedsquarefeet':'square_feet', 'fips':'county', 'lotsizesquarefeet':'lot_square_feet', 'regionidcity':'id_city', 'regionidcounty':'id_county', 'regionidzip':'id_zip', 'taxvaluedollarcnt':'appraisal'}, inplace = True)"
   ]
  },
  {
   "cell_type": "code",
   "execution_count": 50,
   "id": "6a4477ce",
   "metadata": {},
   "outputs": [],
   "source": [
    "df['county'].replace({6037.0: 'LA County', 6059.0: 'Orange County',\n",
    "               6111.0: 'Ventura County'}, inplace=True)"
   ]
  },
  {
   "cell_type": "code",
   "execution_count": 51,
   "id": "15012d1c",
   "metadata": {},
   "outputs": [
    {
     "data": {
      "text/plain": [
       "Index(['id', 'parcelid', 'bath', 'bed', 'square_feet', 'county', 'fullbathcnt',\n",
       "       'latitude', 'longitude', 'lot_square_feet', 'rawcensustractandblock',\n",
       "       'id_city', 'id_county', 'id_zip', 'yearbuilt', 'appraisal',\n",
       "       'assessmentyear', 'logerror', 'transactiondate', 'half_bath'],\n",
       "      dtype='object')"
      ]
     },
     "execution_count": 51,
     "metadata": {},
     "output_type": "execute_result"
    }
   ],
   "source": [
    "df.columns"
   ]
  },
  {
   "cell_type": "markdown",
   "id": "ebc577b4",
   "metadata": {},
   "source": [
    "## Split"
   ]
  },
  {
   "cell_type": "code",
   "execution_count": 52,
   "id": "4397fa4c",
   "metadata": {},
   "outputs": [],
   "source": [
    "train, valid_test = train_test_split(df, test_size = 0.3, random_state = 123)\n",
    "\n",
    "validate, test = train_test_split(valid_test, test_size = 0.5, random_state = 123)"
   ]
  },
  {
   "cell_type": "code",
   "execution_count": 53,
   "id": "4cbf7b20",
   "metadata": {},
   "outputs": [
    {
     "name": "stdout",
     "output_type": "stream",
     "text": [
      "(35391, 20) (7584, 20) (7584, 20)\n"
     ]
    }
   ],
   "source": [
    "print(train.shape, validate.shape, test.shape)"
   ]
  },
  {
   "cell_type": "code",
   "execution_count": 54,
   "id": "309f65d8",
   "metadata": {},
   "outputs": [
    {
     "data": {
      "text/html": [
       "<div>\n",
       "<style scoped>\n",
       "    .dataframe tbody tr th:only-of-type {\n",
       "        vertical-align: middle;\n",
       "    }\n",
       "\n",
       "    .dataframe tbody tr th {\n",
       "        vertical-align: top;\n",
       "    }\n",
       "\n",
       "    .dataframe thead th {\n",
       "        text-align: right;\n",
       "    }\n",
       "</style>\n",
       "<table border=\"1\" class=\"dataframe\">\n",
       "  <thead>\n",
       "    <tr style=\"text-align: right;\">\n",
       "      <th></th>\n",
       "      <th>id</th>\n",
       "      <th>parcelid</th>\n",
       "      <th>bath</th>\n",
       "      <th>bed</th>\n",
       "      <th>square_feet</th>\n",
       "      <th>county</th>\n",
       "      <th>fullbathcnt</th>\n",
       "      <th>latitude</th>\n",
       "      <th>longitude</th>\n",
       "      <th>lot_square_feet</th>\n",
       "      <th>rawcensustractandblock</th>\n",
       "      <th>id_city</th>\n",
       "      <th>id_county</th>\n",
       "      <th>id_zip</th>\n",
       "      <th>yearbuilt</th>\n",
       "      <th>appraisal</th>\n",
       "      <th>assessmentyear</th>\n",
       "      <th>logerror</th>\n",
       "      <th>transactiondate</th>\n",
       "      <th>half_bath</th>\n",
       "    </tr>\n",
       "  </thead>\n",
       "  <tbody>\n",
       "    <tr>\n",
       "      <th>12591</th>\n",
       "      <td>1151696</td>\n",
       "      <td>11281694</td>\n",
       "      <td>3.0</td>\n",
       "      <td>4.0</td>\n",
       "      <td>2338.0</td>\n",
       "      <td>LA County</td>\n",
       "      <td>3.0</td>\n",
       "      <td>34661359.0</td>\n",
       "      <td>-118159914.0</td>\n",
       "      <td>10152.0</td>\n",
       "      <td>6.037901e+07</td>\n",
       "      <td>5534.0</td>\n",
       "      <td>3101.0</td>\n",
       "      <td>97317.0</td>\n",
       "      <td>1969.0</td>\n",
       "      <td>214525.0</td>\n",
       "      <td>2016.0</td>\n",
       "      <td>0.084755</td>\n",
       "      <td>2017-03-21</td>\n",
       "      <td>0.0</td>\n",
       "    </tr>\n",
       "    <tr>\n",
       "      <th>2778</th>\n",
       "      <td>2104743</td>\n",
       "      <td>10847031</td>\n",
       "      <td>7.0</td>\n",
       "      <td>4.0</td>\n",
       "      <td>12039.0</td>\n",
       "      <td>LA County</td>\n",
       "      <td>7.0</td>\n",
       "      <td>34167197.0</td>\n",
       "      <td>-118434181.0</td>\n",
       "      <td>37630.0</td>\n",
       "      <td>6.037129e+07</td>\n",
       "      <td>12447.0</td>\n",
       "      <td>3101.0</td>\n",
       "      <td>96410.0</td>\n",
       "      <td>1992.0</td>\n",
       "      <td>3794515.0</td>\n",
       "      <td>2016.0</td>\n",
       "      <td>0.031378</td>\n",
       "      <td>2017-01-19</td>\n",
       "      <td>0.0</td>\n",
       "    </tr>\n",
       "    <tr>\n",
       "      <th>30932</th>\n",
       "      <td>1861487</td>\n",
       "      <td>14230822</td>\n",
       "      <td>2.0</td>\n",
       "      <td>3.0</td>\n",
       "      <td>1472.0</td>\n",
       "      <td>Orange County</td>\n",
       "      <td>2.0</td>\n",
       "      <td>33805416.0</td>\n",
       "      <td>-117827119.0</td>\n",
       "      <td>6200.0</td>\n",
       "      <td>6.059076e+07</td>\n",
       "      <td>33252.0</td>\n",
       "      <td>1286.0</td>\n",
       "      <td>97065.0</td>\n",
       "      <td>1960.0</td>\n",
       "      <td>488429.0</td>\n",
       "      <td>2016.0</td>\n",
       "      <td>-0.024276</td>\n",
       "      <td>2017-06-13</td>\n",
       "      <td>0.0</td>\n",
       "    </tr>\n",
       "  </tbody>\n",
       "</table>\n",
       "</div>"
      ],
      "text/plain": [
       "            id  parcelid  bath  bed  square_feet         county  fullbathcnt  \\\n",
       "12591  1151696  11281694   3.0  4.0       2338.0      LA County          3.0   \n",
       "2778   2104743  10847031   7.0  4.0      12039.0      LA County          7.0   \n",
       "30932  1861487  14230822   2.0  3.0       1472.0  Orange County          2.0   \n",
       "\n",
       "         latitude    longitude  lot_square_feet  rawcensustractandblock  \\\n",
       "12591  34661359.0 -118159914.0          10152.0            6.037901e+07   \n",
       "2778   34167197.0 -118434181.0          37630.0            6.037129e+07   \n",
       "30932  33805416.0 -117827119.0           6200.0            6.059076e+07   \n",
       "\n",
       "       id_city  id_county   id_zip  yearbuilt  appraisal  assessmentyear  \\\n",
       "12591   5534.0     3101.0  97317.0     1969.0   214525.0          2016.0   \n",
       "2778   12447.0     3101.0  96410.0     1992.0  3794515.0          2016.0   \n",
       "30932  33252.0     1286.0  97065.0     1960.0   488429.0          2016.0   \n",
       "\n",
       "       logerror transactiondate  half_bath  \n",
       "12591  0.084755      2017-03-21        0.0  \n",
       "2778   0.031378      2017-01-19        0.0  \n",
       "30932 -0.024276      2017-06-13        0.0  "
      ]
     },
     "execution_count": 54,
     "metadata": {},
     "output_type": "execute_result"
    }
   ],
   "source": [
    "train.head(3)"
   ]
  },
  {
   "cell_type": "markdown",
   "id": "58fc34f6",
   "metadata": {},
   "source": [
    "# Evaluate\n",
    "\n",
    "### 1. How does log error compare between the three counties?"
   ]
  },
  {
   "cell_type": "code",
   "execution_count": 47,
   "id": "68da0a10",
   "metadata": {},
   "outputs": [
    {
     "data": {
      "text/plain": [
       "<AxesSubplot:>"
      ]
     },
     "execution_count": 47,
     "metadata": {},
     "output_type": "execute_result"
    },
    {
     "data": {
      "image/png": "[encoded data removed]",
      "text/plain": [
       "<Figure size 432x288 with 1 Axes>"
      ]
     },
     "metadata": {
      "needs_background": "light"
     },
     "output_type": "display_data"
    }
   ],
   "source": [
    "df.logerror.hist()"
   ]
  },
  {
   "cell_type": "code",
   "execution_count": null,
   "id": "2a8095b4",
   "metadata": {},
   "outputs": [],
   "source": []
  },
  {
   "cell_type": "code",
   "execution_count": 57,
   "id": "96ae4c12",
   "metadata": {},
   "outputs": [
    {
     "data": {
      "text/plain": [
       "<AxesSubplot:>"
      ]
     },
     "execution_count": 57,
     "metadata": {},
     "output_type": "execute_result"
    },
    {
     "data": {
      "image/png": "[encoded data removed]",
      "text/plain": [
       "<Figure size 432x288 with 1 Axes>"
      ]
     },
     "metadata": {
      "needs_background": "light"
     },
     "output_type": "display_data"
    }
   ],
   "source": [
    "df.logerror[df.county == 'LA County'].hist()"
   ]
  },
  {
   "cell_type": "code",
   "execution_count": 58,
   "id": "b30fdb41",
   "metadata": {},
   "outputs": [
    {
     "data": {
      "text/plain": [
       "<AxesSubplot:>"
      ]
     },
     "execution_count": 58,
     "metadata": {},
     "output_type": "execute_result"
    },
    {
     "data": {
      "image/png": "[encoded data removed]",
      "text/plain": [
       "<Figure size 432x288 with 1 Axes>"
      ]
     },
     "metadata": {
      "needs_background": "light"
     },
     "output_type": "display_data"
    }
   ],
   "source": [
    "df.logerror[df.county == 'Orange County'].hist()"
   ]
  },
  {
   "cell_type": "code",
   "execution_count": 59,
   "id": "a0b8aa5e",
   "metadata": {},
   "outputs": [
    {
     "data": {
      "text/plain": [
       "<AxesSubplot:>"
      ]
     },
     "execution_count": 59,
     "metadata": {},
     "output_type": "execute_result"
    },
    {
     "data": {
      "image/png": "[encoded data removed]",
      "text/plain": [
       "<Figure size 432x288 with 1 Axes>"
      ]
     },
     "metadata": {
      "needs_background": "light"
     },
     "output_type": "display_data"
    }
   ],
   "source": [
    "df.logerror[df.county == 'Ventura County'].hist()"
   ]
  },
  {
   "cell_type": "markdown",
   "id": "51eb7d18",
   "metadata": {},
   "source": [
    "It appears that the range of log error is more broad for Ventura County, i.e. The errors are larger in this county. "
   ]
  },
  {
   "cell_type": "code",
   "execution_count": 66,
   "id": "89e9d2e0",
   "metadata": {},
   "outputs": [],
   "source": [
    "avg_LA_logerror = df.logerror[df.county == 'LA County'].mean()\n",
    "avg_Orange_logerror = df.logerror[df.county == 'Orange County'].mean()\n",
    "avg_Ventura_logerror = df.logerror[df.county == 'Ventura County'].mean()"
   ]
  },
  {
   "cell_type": "code",
   "execution_count": 68,
   "id": "9fca60dc",
   "metadata": {},
   "outputs": [],
   "source": [
    "y = [avg_LA_logerror, avg_Orange_logerror, avg_Ventura_logerror]"
   ]
  },
  {
   "cell_type": "code",
   "execution_count": 69,
   "id": "579f8dc9",
   "metadata": {},
   "outputs": [],
   "source": [
    "x = ['LA County', 'Orange County', 'Ventura County']"
   ]
  },
  {
   "cell_type": "code",
   "execution_count": 71,
   "id": "8492ff46",
   "metadata": {},
   "outputs": [
    {
     "data": {
      "image/png": "[encoded data removed]",
      "text/plain": [
       "<Figure size 432x288 with 1 Axes>"
      ]
     },
     "metadata": {
      "needs_background": "light"
     },
     "output_type": "display_data"
    }
   ],
   "source": [
    "plt.bar(x, y)\n",
    "plt.ylabel('Average logerror')\n",
    "plt.title('Average Log error by County')\n",
    "plt.show()"
   ]
  },
  {
   "cell_type": "markdown",
   "id": "03df4246",
   "metadata": {},
   "source": [
    "This chart shows that the average logerror is larger in Orange County. "
   ]
  },
  {
   "cell_type": "markdown",
   "id": "612e956c",
   "metadata": {},
   "source": [
    "### Null Hypothesis:\n",
    "- There is no significant difference between the county's logerrors.\n",
    "\n",
    "### Alternative Hypothesis\n",
    "- There is a statistically significant difference between the county's logerrors. "
   ]
  },
  {
   "cell_type": "code",
   "execution_count": 73,
   "id": "22828d93",
   "metadata": {},
   "outputs": [
    {
     "data": {
      "text/plain": [
       "(22.529040531309715, 1.660043739931129e-10)"
      ]
     },
     "execution_count": 73,
     "metadata": {},
     "output_type": "execute_result"
    }
   ],
   "source": [
    "# I am performing an ANOVA statistical test to see the significance of this chart.\n",
    "from scipy import stats\n",
    "alpha = 0.05\n",
    "\n",
    "f, p = stats.f_oneway(df[df['county'] == 'LA County'].logerror,\n",
    "                     df[df['county'] == 'Orange County'].logerror,\n",
    "                     df[df['county'] == 'Ventura County'].logerror)\n",
    "\n",
    "f, p"
   ]
  },
  {
   "cell_type": "markdown",
   "id": "1a69581a",
   "metadata": {},
   "source": [
    "I reject the Null Hypothesis. "
   ]
  },
  {
   "cell_type": "markdown",
   "id": "552a8516",
   "metadata": {},
   "source": [
    "### 2. How does size of a house affect logerror?"
   ]
  },
  {
   "cell_type": "markdown",
   "id": "5f8e0c7c",
   "metadata": {},
   "source": [
    "df.square_feet.hist()"
   ]
  },
  {
   "cell_type": "code",
   "execution_count": 85,
   "id": "cafd7702",
   "metadata": {},
   "outputs": [],
   "source": [
    "y=[df.logerror[df.square_feet < 2500].mean(),\n",
    "df.logerror[(df.square_feet >= 2500) & (df.square_feet < 5000)].mean(),\n",
    "df.logerror[df.square_feet >= 5000].mean()]"
   ]
  },
  {
   "cell_type": "code",
   "execution_count": 86,
   "id": "d9fc034b",
   "metadata": {},
   "outputs": [],
   "source": [
    "x=['smedium', 'large', 'xl']"
   ]
  },
  {
   "cell_type": "code",
   "execution_count": 87,
   "id": "86bfa502",
   "metadata": {},
   "outputs": [
    {
     "data": {
      "image/png": "[encoded data removed]",
      "text/plain": [
       "<Figure size 432x288 with 1 Axes>"
      ]
     },
     "metadata": {
      "needs_background": "light"
     },
     "output_type": "display_data"
    }
   ],
   "source": [
    "plt.bar(x, y)\n",
    "plt.xlabel('House bins')\n",
    "plt.ylabel('Average logerror')\n",
    "plt.title('Average Log Error by House Square Feet Bins')\n",
    "plt.show()"
   ]
  },
  {
   "cell_type": "markdown",
   "id": "595132ad",
   "metadata": {},
   "source": [
    "It appears that as the square footage of a house increases, so too does the average logerror. Interesting. "
   ]
  },
  {
   "cell_type": "markdown",
   "id": "1428edb4",
   "metadata": {},
   "source": [
    "### Null Hypothesis:\n",
    "- There is no significant difference between the logerrors according to house square footage.\n",
    "\n",
    "### Alternative Hypothesis\n",
    "- There is a statistically significant difference between the logerrors according to house square footage. "
   ]
  },
  {
   "cell_type": "code",
   "execution_count": 88,
   "id": "f81b39ee",
   "metadata": {},
   "outputs": [
    {
     "data": {
      "text/plain": [
       "(44.00700236584575, 8.028208895897534e-20)"
      ]
     },
     "execution_count": 88,
     "metadata": {},
     "output_type": "execute_result"
    }
   ],
   "source": [
    "# I am performing an ANOVA statistical test to see the significance of this chart.\n",
    "from scipy import stats\n",
    "alpha = 0.05\n",
    "\n",
    "f, p = stats.f_oneway(df[df['square_feet'] < 2500].logerror,\n",
    "                     df[(df['square_feet'] >= 2500) & (df['square_feet'] < 5000)].logerror,\n",
    "                     df[df['square_feet'] >= 5000].logerror)\n",
    "\n",
    "f, p"
   ]
  },
  {
   "cell_type": "markdown",
   "id": "7fa58d38",
   "metadata": {},
   "source": [
    "I reject the Null Hypothesis."
   ]
  },
  {
   "cell_type": "markdown",
   "id": "ae4b7246",
   "metadata": {},
   "source": [
    " ### 3. How does year built affect logerror?"
   ]
  },
  {
   "cell_type": "code",
   "execution_count": 89,
   "id": "aa5b6c1c",
   "metadata": {},
   "outputs": [
    {
     "data": {
      "text/plain": [
       "<AxesSubplot:>"
      ]
     },
     "execution_count": 89,
     "metadata": {},
     "output_type": "execute_result"
    },
    {
     "data": {
      "image/png": "[encoded data removed]",
      "text/plain": [
       "<Figure size 432x288 with 1 Axes>"
      ]
     },
     "metadata": {
      "needs_background": "light"
     },
     "output_type": "display_data"
    }
   ],
   "source": [
    "df.yearbuilt.hist()"
   ]
  },
  {
   "cell_type": "code",
   "execution_count": 90,
   "id": "218045a3",
   "metadata": {},
   "outputs": [],
   "source": [
    "y=[df.logerror[df.yearbuilt < 1950].mean(),\n",
    "df.logerror[(df.yearbuilt >= 1950) & (df.square_feet < 1980)].mean(),\n",
    "df.logerror[df.yearbuilt >= 1980].mean()]"
   ]
  },
  {
   "cell_type": "code",
   "execution_count": 93,
   "id": "18535f4d",
   "metadata": {},
   "outputs": [],
   "source": [
    "x = ['Before 1950', '1950-1979', '1980-Present']"
   ]
  },
  {
   "cell_type": "code",
   "execution_count": 94,
   "id": "ae5c9470",
   "metadata": {},
   "outputs": [
    {
     "data": {
      "image/png": "[encoded data removed]",
      "text/plain": [
       "<Figure size 432x288 with 1 Axes>"
      ]
     },
     "metadata": {
      "needs_background": "light"
     },
     "output_type": "display_data"
    }
   ],
   "source": [
    "plt.bar(x, y)\n",
    "plt.xlabel('Year Built')\n",
    "plt.ylabel('Average logerror')\n",
    "plt.title('Average Log Error by Year Built')\n",
    "plt.show()"
   ]
  },
  {
   "cell_type": "markdown",
   "id": "4a1163f0",
   "metadata": {},
   "source": [
    "Interestingly, it appears that the older houses have a smaller logerror on average. I would have predicted it to be the other way around. "
   ]
  },
  {
   "cell_type": "markdown",
   "id": "54172801",
   "metadata": {},
   "source": [
    "### Null Hypothesis:\n",
    "- There is no significant difference between the logerrors according to year built. \n",
    "\n",
    "### Alternative Hypothesis\n",
    "- There is a statistically significant difference between the logerrors according to year built."
   ]
  },
  {
   "cell_type": "code",
   "execution_count": 95,
   "id": "2d70a8ca",
   "metadata": {},
   "outputs": [
    {
     "data": {
      "text/plain": [
       "(9.361556106866363, 8.611533662895507e-05)"
      ]
     },
     "execution_count": 95,
     "metadata": {},
     "output_type": "execute_result"
    }
   ],
   "source": [
    "# I am performing an ANOVA statistical test to see the significance of this chart.\n",
    "alpha = 0.05\n",
    "\n",
    "f, p = stats.f_oneway(df[df['yearbuilt'] < 1950].logerror,\n",
    "                     df[(df['yearbuilt'] >= 1950) & (df['yearbuilt'] < 1980)].logerror,\n",
    "                     df[df['yearbuilt'] >= 1980].logerror)\n",
    "\n",
    "f, p"
   ]
  },
  {
   "cell_type": "markdown",
   "id": "98ec7fe0",
   "metadata": {},
   "source": [
    "I reject the Null Hypothesis."
   ]
  },
  {
   "cell_type": "markdown",
   "id": "772703a2",
   "metadata": {},
   "source": [
    "### 4. How does the number of half baths affect log error?"
   ]
  },
  {
   "cell_type": "code",
   "execution_count": 96,
   "id": "d50ab616",
   "metadata": {},
   "outputs": [
    {
     "data": {
      "text/plain": [
       "<AxesSubplot:>"
      ]
     },
     "execution_count": 96,
     "metadata": {},
     "output_type": "execute_result"
    },
    {
     "data": {
      "image/png": "[encoded data removed]",
      "text/plain": [
       "<Figure size 432x288 with 1 Axes>"
      ]
     },
     "metadata": {
      "needs_background": "light"
     },
     "output_type": "display_data"
    }
   ],
   "source": [
    "df.half_bath.hist()"
   ]
  },
  {
   "cell_type": "code",
   "execution_count": 97,
   "id": "4324c68a",
   "metadata": {},
   "outputs": [
    {
     "data": {
      "text/plain": [
       "0.0    43998\n",
       "1.0     6484\n",
       "2.0       68\n",
       "3.0        8\n",
       "7.0        1\n",
       "Name: half_bath, dtype: int64"
      ]
     },
     "execution_count": 97,
     "metadata": {},
     "output_type": "execute_result"
    }
   ],
   "source": [
    "df.half_bath.value_counts()"
   ]
  },
  {
   "cell_type": "code",
   "execution_count": 98,
   "id": "4e687551",
   "metadata": {},
   "outputs": [],
   "source": [
    "y=[df.logerror[df.half_bath == 0.0].mean(),\n",
    "df.logerror[(df.half_bath >= 1.0) & (df.half_bath < 2.0)].mean(),\n",
    "df.logerror[df.half_bath >= 2.0].mean()]"
   ]
  },
  {
   "cell_type": "code",
   "execution_count": 99,
   "id": "7d283a32",
   "metadata": {},
   "outputs": [],
   "source": [
    "x = ['None', 'One', 'Two of more']"
   ]
  },
  {
   "cell_type": "code",
   "execution_count": 100,
   "id": "143e55cd",
   "metadata": {},
   "outputs": [
    {
     "data": {
      "image/png": "[encoded data removed]",
      "text/plain": [
       "<Figure size 432x288 with 1 Axes>"
      ]
     },
     "metadata": {
      "needs_background": "light"
     },
     "output_type": "display_data"
    }
   ],
   "source": [
    "plt.bar(x, y)\n",
    "plt.xlabel('Number of Half Baths')\n",
    "plt.ylabel('Average logerror')\n",
    "plt.title('Average Log Error by Number of Half Baths')\n",
    "plt.show()"
   ]
  },
  {
   "cell_type": "markdown",
   "id": "13759f62",
   "metadata": {},
   "source": [
    "It appears that as the number of half baths increases, so too does the average log error."
   ]
  },
  {
   "cell_type": "markdown",
   "id": "f370006e",
   "metadata": {},
   "source": [
    "### Null Hypothesis:\n",
    "- There is no significant difference between the logerrors according to the number of half baths. \n",
    "\n",
    "### Alternative Hypothesis\n",
    "- There is a statistically significant difference between the logerrors according to the number of half baths."
   ]
  },
  {
   "cell_type": "code",
   "execution_count": 101,
   "id": "832b6cb6",
   "metadata": {},
   "outputs": [
    {
     "data": {
      "text/plain": [
       "(8.537515866678534, 0.0001962591771208839)"
      ]
     },
     "execution_count": 101,
     "metadata": {},
     "output_type": "execute_result"
    }
   ],
   "source": [
    "# I am performing an ANOVA statistical test to see the significance of this chart.\n",
    "alpha = 0.05\n",
    "\n",
    "f, p = stats.f_oneway(df[df['half_bath'] == 0.0].logerror,\n",
    "                     df[(df['half_bath'] >= 1.0) & (df['half_bath'] < 2.0)].logerror,\n",
    "                     df[df['half_bath'] >= 2.0].logerror)\n",
    "\n",
    "f, p"
   ]
  },
  {
   "cell_type": "markdown",
   "id": "6f4ed655",
   "metadata": {},
   "source": [
    "I reject the Null Hypothesis. "
   ]
  },
  {
   "cell_type": "code",
   "execution_count": null,
   "id": "caf40db5",
   "metadata": {},
   "outputs": [],
   "source": []
  }
 ],
 "metadata": {
  "kernelspec": {
   "display_name": "Python 3 (ipykernel)",
   "language": "python",
   "name": "python3"
  },
  "language_info": {
   "codemirror_mode": {
    "name": "ipython",
    "version": 3
   },
   "file_extension": ".py",
   "mimetype": "text/x-python",
   "name": "python",
   "nbconvert_exporter": "python",
   "pygments_lexer": "ipython3",
   "version": "3.9.12"
  }
 },
 "nbformat": 4,
 "nbformat_minor": 5
}
