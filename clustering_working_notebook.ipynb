{
 "cells": [
  {
   "cell_type": "code",
   "execution_count": 1,
   "id": "c13b6c79",
   "metadata": {},
   "outputs": [],
   "source": [
    "import pandas as pd\n",
    "import env\n",
    "import numpy as np\n",
    "import matplotlib.pyplot as plt\n",
    "import seaborn as sns\n",
    "from sklearn.cluster import KMeans\n",
    "from sklearn.preprocessing import MinMaxScaler, RobustScaler\n",
    "from sklearn.model_selection import train_test_split\n",
    "import warnings\n",
    "warnings.filterwarnings('ignore')\n",
    "import wrangle\n",
    "pd.set_option('display.max_columns', None)\n",
    "from sklearn.cluster import KMeans"
   ]
  },
  {
   "cell_type": "markdown",
   "id": "0b8552bc",
   "metadata": {},
   "source": [
    "# Acquire"
   ]
  },
  {
   "cell_type": "code",
   "execution_count": 2,
   "id": "baaeec0d",
   "metadata": {},
   "outputs": [],
   "source": [
    "df = wrangle.new_zillow_data()"
   ]
  },
  {
   "cell_type": "markdown",
   "id": "0a326245",
   "metadata": {},
   "source": [
    "# Prepare"
   ]
  },
  {
   "cell_type": "code",
   "execution_count": 3,
   "id": "888e650c",
   "metadata": {},
   "outputs": [
    {
     "data": {
      "text/plain": [
       "(52319, 68)"
      ]
     },
     "execution_count": 3,
     "metadata": {},
     "output_type": "execute_result"
    }
   ],
   "source": [
    "df.shape"
   ]
  },
  {
   "cell_type": "code",
   "execution_count": 4,
   "id": "c484d5b2",
   "metadata": {},
   "outputs": [
    {
     "data": {
      "text/plain": [
       "['id',\n",
       " 'parcelid',\n",
       " 'airconditioningtypeid',\n",
       " 'architecturalstyletypeid',\n",
       " 'basementsqft',\n",
       " 'bathroomcnt',\n",
       " 'bedroomcnt',\n",
       " 'buildingclasstypeid',\n",
       " 'buildingqualitytypeid',\n",
       " 'calculatedbathnbr',\n",
       " 'decktypeid',\n",
       " 'finishedfloor1squarefeet',\n",
       " 'calculatedfinishedsquarefeet',\n",
       " 'finishedsquarefeet12',\n",
       " 'finishedsquarefeet13',\n",
       " 'finishedsquarefeet15',\n",
       " 'finishedsquarefeet50',\n",
       " 'finishedsquarefeet6',\n",
       " 'fips',\n",
       " 'fireplacecnt',\n",
       " 'fullbathcnt',\n",
       " 'garagecarcnt',\n",
       " 'garagetotalsqft',\n",
       " 'hashottuborspa',\n",
       " 'heatingorsystemtypeid',\n",
       " 'latitude',\n",
       " 'longitude',\n",
       " 'lotsizesquarefeet',\n",
       " 'poolcnt',\n",
       " 'poolsizesum',\n",
       " 'pooltypeid10',\n",
       " 'pooltypeid2',\n",
       " 'pooltypeid7',\n",
       " 'propertycountylandusecode',\n",
       " 'propertylandusetypeid',\n",
       " 'propertyzoningdesc',\n",
       " 'rawcensustractandblock',\n",
       " 'regionidcity',\n",
       " 'regionidcounty',\n",
       " 'regionidneighborhood',\n",
       " 'regionidzip',\n",
       " 'roomcnt',\n",
       " 'storytypeid',\n",
       " 'threequarterbathnbr',\n",
       " 'typeconstructiontypeid',\n",
       " 'unitcnt',\n",
       " 'yardbuildingsqft17',\n",
       " 'yardbuildingsqft26',\n",
       " 'yearbuilt',\n",
       " 'numberofstories',\n",
       " 'fireplaceflag',\n",
       " 'structuretaxvaluedollarcnt',\n",
       " 'taxvaluedollarcnt',\n",
       " 'assessmentyear',\n",
       " 'landtaxvaluedollarcnt',\n",
       " 'taxamount',\n",
       " 'taxdelinquencyflag',\n",
       " 'taxdelinquencyyear',\n",
       " 'censustractandblock',\n",
       " 'logerror',\n",
       " 'transactiondate',\n",
       " 'airconditioningdesc',\n",
       " 'architecturalstyledesc',\n",
       " 'buildingclassdesc',\n",
       " 'heatingorsystemdesc',\n",
       " 'propertylandusedesc',\n",
       " 'storydesc',\n",
       " 'typeconstructiondesc']"
      ]
     },
     "execution_count": 4,
     "metadata": {},
     "output_type": "execute_result"
    }
   ],
   "source": [
    "list(df.columns)"
   ]
  },
  {
   "cell_type": "code",
   "execution_count": 5,
   "id": "37f08380",
   "metadata": {},
   "outputs": [
    {
     "data": {
      "text/html": [
       "<div>\n",
       "<style scoped>\n",
       "    .dataframe tbody tr th:only-of-type {\n",
       "        vertical-align: middle;\n",
       "    }\n",
       "\n",
       "    .dataframe tbody tr th {\n",
       "        vertical-align: top;\n",
       "    }\n",
       "\n",
       "    .dataframe thead th {\n",
       "        text-align: right;\n",
       "    }\n",
       "</style>\n",
       "<table border=\"1\" class=\"dataframe\">\n",
       "  <thead>\n",
       "    <tr style=\"text-align: right;\">\n",
       "      <th>name</th>\n",
       "      <th>id</th>\n",
       "      <th>parcelid</th>\n",
       "      <th>airconditioningtypeid</th>\n",
       "      <th>architecturalstyletypeid</th>\n",
       "      <th>basementsqft</th>\n",
       "      <th>bathroomcnt</th>\n",
       "      <th>bedroomcnt</th>\n",
       "      <th>buildingclasstypeid</th>\n",
       "      <th>buildingqualitytypeid</th>\n",
       "      <th>calculatedbathnbr</th>\n",
       "      <th>decktypeid</th>\n",
       "      <th>finishedfloor1squarefeet</th>\n",
       "      <th>calculatedfinishedsquarefeet</th>\n",
       "      <th>finishedsquarefeet12</th>\n",
       "      <th>finishedsquarefeet13</th>\n",
       "      <th>finishedsquarefeet15</th>\n",
       "      <th>finishedsquarefeet50</th>\n",
       "      <th>finishedsquarefeet6</th>\n",
       "      <th>fips</th>\n",
       "      <th>fireplacecnt</th>\n",
       "      <th>fullbathcnt</th>\n",
       "      <th>garagecarcnt</th>\n",
       "      <th>garagetotalsqft</th>\n",
       "      <th>hashottuborspa</th>\n",
       "      <th>heatingorsystemtypeid</th>\n",
       "      <th>latitude</th>\n",
       "      <th>longitude</th>\n",
       "      <th>lotsizesquarefeet</th>\n",
       "      <th>poolcnt</th>\n",
       "      <th>poolsizesum</th>\n",
       "      <th>pooltypeid10</th>\n",
       "      <th>pooltypeid2</th>\n",
       "      <th>pooltypeid7</th>\n",
       "      <th>propertycountylandusecode</th>\n",
       "      <th>propertylandusetypeid</th>\n",
       "      <th>propertyzoningdesc</th>\n",
       "      <th>rawcensustractandblock</th>\n",
       "      <th>regionidcity</th>\n",
       "      <th>regionidcounty</th>\n",
       "      <th>regionidneighborhood</th>\n",
       "      <th>regionidzip</th>\n",
       "      <th>roomcnt</th>\n",
       "      <th>storytypeid</th>\n",
       "      <th>threequarterbathnbr</th>\n",
       "      <th>typeconstructiontypeid</th>\n",
       "      <th>unitcnt</th>\n",
       "      <th>yardbuildingsqft17</th>\n",
       "      <th>yardbuildingsqft26</th>\n",
       "      <th>yearbuilt</th>\n",
       "      <th>numberofstories</th>\n",
       "      <th>fireplaceflag</th>\n",
       "      <th>structuretaxvaluedollarcnt</th>\n",
       "      <th>taxvaluedollarcnt</th>\n",
       "      <th>assessmentyear</th>\n",
       "      <th>landtaxvaluedollarcnt</th>\n",
       "      <th>taxamount</th>\n",
       "      <th>taxdelinquencyflag</th>\n",
       "      <th>taxdelinquencyyear</th>\n",
       "      <th>censustractandblock</th>\n",
       "      <th>logerror</th>\n",
       "      <th>transactiondate</th>\n",
       "      <th>airconditioningdesc</th>\n",
       "      <th>architecturalstyledesc</th>\n",
       "      <th>buildingclassdesc</th>\n",
       "      <th>heatingorsystemdesc</th>\n",
       "      <th>propertylandusedesc</th>\n",
       "      <th>storydesc</th>\n",
       "      <th>typeconstructiondesc</th>\n",
       "    </tr>\n",
       "  </thead>\n",
       "  <tbody>\n",
       "    <tr>\n",
       "      <th>num_rows_missing</th>\n",
       "      <td>0</td>\n",
       "      <td>0</td>\n",
       "      <td>38704</td>\n",
       "      <td>52249</td>\n",
       "      <td>52272</td>\n",
       "      <td>0</td>\n",
       "      <td>0</td>\n",
       "      <td>52319</td>\n",
       "      <td>18665</td>\n",
       "      <td>135</td>\n",
       "      <td>51930</td>\n",
       "      <td>47948</td>\n",
       "      <td>81</td>\n",
       "      <td>246</td>\n",
       "      <td>52319</td>\n",
       "      <td>52319</td>\n",
       "      <td>47948</td>\n",
       "      <td>52154</td>\n",
       "      <td>0</td>\n",
       "      <td>45086</td>\n",
       "      <td>135</td>\n",
       "      <td>34335</td>\n",
       "      <td>34335</td>\n",
       "      <td>50805</td>\n",
       "      <td>18470</td>\n",
       "      <td>0</td>\n",
       "      <td>0</td>\n",
       "      <td>366</td>\n",
       "      <td>41242</td>\n",
       "      <td>51454</td>\n",
       "      <td>51876</td>\n",
       "      <td>51248</td>\n",
       "      <td>42329</td>\n",
       "      <td>0</td>\n",
       "      <td>0</td>\n",
       "      <td>18558</td>\n",
       "      <td>0</td>\n",
       "      <td>1036</td>\n",
       "      <td>0</td>\n",
       "      <td>33338</td>\n",
       "      <td>26</td>\n",
       "      <td>0</td>\n",
       "      <td>52272</td>\n",
       "      <td>45602</td>\n",
       "      <td>52243</td>\n",
       "      <td>18558</td>\n",
       "      <td>50384</td>\n",
       "      <td>52256</td>\n",
       "      <td>114</td>\n",
       "      <td>37787</td>\n",
       "      <td>52238</td>\n",
       "      <td>82</td>\n",
       "      <td>1</td>\n",
       "      <td>0</td>\n",
       "      <td>1</td>\n",
       "      <td>4</td>\n",
       "      <td>50251</td>\n",
       "      <td>50251</td>\n",
       "      <td>121</td>\n",
       "      <td>0</td>\n",
       "      <td>0</td>\n",
       "      <td>38704</td>\n",
       "      <td>52249</td>\n",
       "      <td>52319</td>\n",
       "      <td>18470</td>\n",
       "      <td>0</td>\n",
       "      <td>52272</td>\n",
       "      <td>52243</td>\n",
       "    </tr>\n",
       "    <tr>\n",
       "      <th>pct_rows_missing</th>\n",
       "      <td>0.0</td>\n",
       "      <td>0.0</td>\n",
       "      <td>0.739769</td>\n",
       "      <td>0.998662</td>\n",
       "      <td>0.999102</td>\n",
       "      <td>0.0</td>\n",
       "      <td>0.0</td>\n",
       "      <td>1.0</td>\n",
       "      <td>0.356754</td>\n",
       "      <td>0.00258</td>\n",
       "      <td>0.992565</td>\n",
       "      <td>0.916455</td>\n",
       "      <td>0.001548</td>\n",
       "      <td>0.004702</td>\n",
       "      <td>1.0</td>\n",
       "      <td>1.0</td>\n",
       "      <td>0.916455</td>\n",
       "      <td>0.996846</td>\n",
       "      <td>0.0</td>\n",
       "      <td>0.861752</td>\n",
       "      <td>0.00258</td>\n",
       "      <td>0.656263</td>\n",
       "      <td>0.656263</td>\n",
       "      <td>0.971062</td>\n",
       "      <td>0.353027</td>\n",
       "      <td>0.0</td>\n",
       "      <td>0.0</td>\n",
       "      <td>0.006996</td>\n",
       "      <td>0.78828</td>\n",
       "      <td>0.983467</td>\n",
       "      <td>0.991533</td>\n",
       "      <td>0.979529</td>\n",
       "      <td>0.809056</td>\n",
       "      <td>0.0</td>\n",
       "      <td>0.0</td>\n",
       "      <td>0.354709</td>\n",
       "      <td>0.0</td>\n",
       "      <td>0.019802</td>\n",
       "      <td>0.0</td>\n",
       "      <td>0.637206</td>\n",
       "      <td>0.000497</td>\n",
       "      <td>0.0</td>\n",
       "      <td>0.999102</td>\n",
       "      <td>0.871615</td>\n",
       "      <td>0.998547</td>\n",
       "      <td>0.354709</td>\n",
       "      <td>0.963015</td>\n",
       "      <td>0.998796</td>\n",
       "      <td>0.002179</td>\n",
       "      <td>0.722242</td>\n",
       "      <td>0.998452</td>\n",
       "      <td>0.001567</td>\n",
       "      <td>0.000019</td>\n",
       "      <td>0.0</td>\n",
       "      <td>0.000019</td>\n",
       "      <td>0.000076</td>\n",
       "      <td>0.960473</td>\n",
       "      <td>0.960473</td>\n",
       "      <td>0.002313</td>\n",
       "      <td>0.0</td>\n",
       "      <td>0.0</td>\n",
       "      <td>0.739769</td>\n",
       "      <td>0.998662</td>\n",
       "      <td>1.0</td>\n",
       "      <td>0.353027</td>\n",
       "      <td>0.0</td>\n",
       "      <td>0.999102</td>\n",
       "      <td>0.998547</td>\n",
       "    </tr>\n",
       "  </tbody>\n",
       "</table>\n",
       "</div>"
      ],
      "text/plain": [
       "name               id parcelid airconditioningtypeid architecturalstyletypeid  \\\n",
       "num_rows_missing    0        0                 38704                    52249   \n",
       "pct_rows_missing  0.0      0.0              0.739769                 0.998662   \n",
       "\n",
       "name             basementsqft bathroomcnt bedroomcnt buildingclasstypeid  \\\n",
       "num_rows_missing        52272           0          0               52319   \n",
       "pct_rows_missing     0.999102         0.0        0.0                 1.0   \n",
       "\n",
       "name             buildingqualitytypeid calculatedbathnbr decktypeid  \\\n",
       "num_rows_missing                 18665               135      51930   \n",
       "pct_rows_missing              0.356754           0.00258   0.992565   \n",
       "\n",
       "name             finishedfloor1squarefeet calculatedfinishedsquarefeet  \\\n",
       "num_rows_missing                    47948                           81   \n",
       "pct_rows_missing                 0.916455                     0.001548   \n",
       "\n",
       "name             finishedsquarefeet12 finishedsquarefeet13  \\\n",
       "num_rows_missing                  246                52319   \n",
       "pct_rows_missing             0.004702                  1.0   \n",
       "\n",
       "name             finishedsquarefeet15 finishedsquarefeet50  \\\n",
       "num_rows_missing                52319                47948   \n",
       "pct_rows_missing                  1.0             0.916455   \n",
       "\n",
       "name             finishedsquarefeet6 fips fireplacecnt fullbathcnt  \\\n",
       "num_rows_missing               52154    0        45086         135   \n",
       "pct_rows_missing            0.996846  0.0     0.861752     0.00258   \n",
       "\n",
       "name             garagecarcnt garagetotalsqft hashottuborspa  \\\n",
       "num_rows_missing        34335           34335          50805   \n",
       "pct_rows_missing     0.656263        0.656263       0.971062   \n",
       "\n",
       "name             heatingorsystemtypeid latitude longitude lotsizesquarefeet  \\\n",
       "num_rows_missing                 18470        0         0               366   \n",
       "pct_rows_missing              0.353027      0.0       0.0          0.006996   \n",
       "\n",
       "name              poolcnt poolsizesum pooltypeid10 pooltypeid2 pooltypeid7  \\\n",
       "num_rows_missing    41242       51454        51876       51248       42329   \n",
       "pct_rows_missing  0.78828    0.983467     0.991533    0.979529    0.809056   \n",
       "\n",
       "name             propertycountylandusecode propertylandusetypeid  \\\n",
       "num_rows_missing                         0                     0   \n",
       "pct_rows_missing                       0.0                   0.0   \n",
       "\n",
       "name             propertyzoningdesc rawcensustractandblock regionidcity  \\\n",
       "num_rows_missing              18558                      0         1036   \n",
       "pct_rows_missing           0.354709                    0.0     0.019802   \n",
       "\n",
       "name             regionidcounty regionidneighborhood regionidzip roomcnt  \\\n",
       "num_rows_missing              0                33338          26       0   \n",
       "pct_rows_missing            0.0             0.637206    0.000497     0.0   \n",
       "\n",
       "name             storytypeid threequarterbathnbr typeconstructiontypeid  \\\n",
       "num_rows_missing       52272               45602                  52243   \n",
       "pct_rows_missing    0.999102            0.871615               0.998547   \n",
       "\n",
       "name               unitcnt yardbuildingsqft17 yardbuildingsqft26 yearbuilt  \\\n",
       "num_rows_missing     18558              50384              52256       114   \n",
       "pct_rows_missing  0.354709           0.963015           0.998796  0.002179   \n",
       "\n",
       "name             numberofstories fireplaceflag structuretaxvaluedollarcnt  \\\n",
       "num_rows_missing           37787         52238                         82   \n",
       "pct_rows_missing        0.722242      0.998452                   0.001567   \n",
       "\n",
       "name             taxvaluedollarcnt assessmentyear landtaxvaluedollarcnt  \\\n",
       "num_rows_missing                 1              0                     1   \n",
       "pct_rows_missing          0.000019            0.0              0.000019   \n",
       "\n",
       "name             taxamount taxdelinquencyflag taxdelinquencyyear  \\\n",
       "num_rows_missing         4              50251              50251   \n",
       "pct_rows_missing  0.000076           0.960473           0.960473   \n",
       "\n",
       "name             censustractandblock logerror transactiondate  \\\n",
       "num_rows_missing                 121        0               0   \n",
       "pct_rows_missing            0.002313      0.0             0.0   \n",
       "\n",
       "name             airconditioningdesc architecturalstyledesc buildingclassdesc  \\\n",
       "num_rows_missing               38704                  52249             52319   \n",
       "pct_rows_missing            0.739769               0.998662               1.0   \n",
       "\n",
       "name             heatingorsystemdesc propertylandusedesc storydesc  \\\n",
       "num_rows_missing               18470                   0     52272   \n",
       "pct_rows_missing            0.353027                 0.0  0.999102   \n",
       "\n",
       "name             typeconstructiondesc  \n",
       "num_rows_missing                52243  \n",
       "pct_rows_missing             0.998547  "
      ]
     },
     "execution_count": 5,
     "metadata": {},
     "output_type": "execute_result"
    }
   ],
   "source": [
    "wrangle.null_counter(df).T"
   ]
  },
  {
   "cell_type": "code",
   "execution_count": 3,
   "id": "94f088be",
   "metadata": {},
   "outputs": [],
   "source": [
    "df = wrangle.null_dropper(df, 0.75, 0.75)"
   ]
  },
  {
   "cell_type": "code",
   "execution_count": 6,
   "id": "4568a928",
   "metadata": {},
   "outputs": [
    {
     "data": {
      "text/plain": [
       "(52317, 29)"
      ]
     },
     "execution_count": 6,
     "metadata": {},
     "output_type": "execute_result"
    }
   ],
   "source": [
    "df.shape"
   ]
  },
  {
   "cell_type": "code",
   "execution_count": 8,
   "id": "ea8e8b09",
   "metadata": {},
   "outputs": [
    {
     "data": {
      "text/plain": [
       "['id',\n",
       " 'parcelid',\n",
       " 'bathroomcnt',\n",
       " 'bedroomcnt',\n",
       " 'calculatedbathnbr',\n",
       " 'calculatedfinishedsquarefeet',\n",
       " 'finishedsquarefeet12',\n",
       " 'fips',\n",
       " 'fullbathcnt',\n",
       " 'latitude',\n",
       " 'longitude',\n",
       " 'lotsizesquarefeet',\n",
       " 'propertycountylandusecode',\n",
       " 'propertylandusetypeid',\n",
       " 'rawcensustractandblock',\n",
       " 'regionidcity',\n",
       " 'regionidcounty',\n",
       " 'regionidzip',\n",
       " 'roomcnt',\n",
       " 'yearbuilt',\n",
       " 'structuretaxvaluedollarcnt',\n",
       " 'taxvaluedollarcnt',\n",
       " 'assessmentyear',\n",
       " 'landtaxvaluedollarcnt',\n",
       " 'taxamount',\n",
       " 'censustractandblock',\n",
       " 'logerror',\n",
       " 'transactiondate',\n",
       " 'propertylandusedesc']"
      ]
     },
     "execution_count": 8,
     "metadata": {},
     "output_type": "execute_result"
    }
   ],
   "source": [
    "list(df.columns)"
   ]
  },
  {
   "cell_type": "code",
   "execution_count": 9,
   "id": "746d7636",
   "metadata": {},
   "outputs": [
    {
     "data": {
      "text/plain": [
       "id                                 0\n",
       "parcelid                           0\n",
       "bathroomcnt                        0\n",
       "bedroomcnt                         0\n",
       "calculatedbathnbr                133\n",
       "calculatedfinishedsquarefeet      79\n",
       "finishedsquarefeet12             244\n",
       "fips                               0\n",
       "fullbathcnt                      133\n",
       "latitude                           0\n",
       "longitude                          0\n",
       "lotsizesquarefeet                364\n",
       "propertycountylandusecode          0\n",
       "propertylandusetypeid              0\n",
       "rawcensustractandblock             0\n",
       "regionidcity                    1034\n",
       "regionidcounty                     0\n",
       "regionidzip                       24\n",
       "roomcnt                            0\n",
       "yearbuilt                        112\n",
       "structuretaxvaluedollarcnt        80\n",
       "taxvaluedollarcnt                  1\n",
       "assessmentyear                     0\n",
       "landtaxvaluedollarcnt              1\n",
       "taxamount                          4\n",
       "censustractandblock              119\n",
       "logerror                           0\n",
       "transactiondate                    0\n",
       "propertylandusedesc                0\n",
       "dtype: int64"
      ]
     },
     "execution_count": 9,
     "metadata": {},
     "output_type": "execute_result"
    }
   ],
   "source": [
    "df.isna().sum()"
   ]
  },
  {
   "cell_type": "code",
   "execution_count": 4,
   "id": "d62bd2dd",
   "metadata": {},
   "outputs": [],
   "source": [
    "df = df.dropna()"
   ]
  },
  {
   "cell_type": "code",
   "execution_count": 11,
   "id": "902708c7",
   "metadata": {},
   "outputs": [
    {
     "data": {
      "text/plain": [
       "id                              0\n",
       "parcelid                        0\n",
       "bathroomcnt                     0\n",
       "bedroomcnt                      0\n",
       "calculatedbathnbr               0\n",
       "calculatedfinishedsquarefeet    0\n",
       "finishedsquarefeet12            0\n",
       "fips                            0\n",
       "fullbathcnt                     0\n",
       "latitude                        0\n",
       "longitude                       0\n",
       "lotsizesquarefeet               0\n",
       "propertycountylandusecode       0\n",
       "propertylandusetypeid           0\n",
       "rawcensustractandblock          0\n",
       "regionidcity                    0\n",
       "regionidcounty                  0\n",
       "regionidzip                     0\n",
       "roomcnt                         0\n",
       "yearbuilt                       0\n",
       "structuretaxvaluedollarcnt      0\n",
       "taxvaluedollarcnt               0\n",
       "assessmentyear                  0\n",
       "landtaxvaluedollarcnt           0\n",
       "taxamount                       0\n",
       "censustractandblock             0\n",
       "logerror                        0\n",
       "transactiondate                 0\n",
       "propertylandusedesc             0\n",
       "dtype: int64"
      ]
     },
     "execution_count": 11,
     "metadata": {},
     "output_type": "execute_result"
    }
   ],
   "source": [
    "df.isna().sum()"
   ]
  },
  {
   "cell_type": "code",
   "execution_count": 7,
   "id": "7f313e70",
   "metadata": {},
   "outputs": [
    {
     "data": {
      "text/html": [
       "<div>\n",
       "<style scoped>\n",
       "    .dataframe tbody tr th:only-of-type {\n",
       "        vertical-align: middle;\n",
       "    }\n",
       "\n",
       "    .dataframe tbody tr th {\n",
       "        vertical-align: top;\n",
       "    }\n",
       "\n",
       "    .dataframe thead th {\n",
       "        text-align: right;\n",
       "    }\n",
       "</style>\n",
       "<table border=\"1\" class=\"dataframe\">\n",
       "  <thead>\n",
       "    <tr style=\"text-align: right;\">\n",
       "      <th></th>\n",
       "      <th>id</th>\n",
       "      <th>parcelid</th>\n",
       "      <th>bathroomcnt</th>\n",
       "      <th>bedroomcnt</th>\n",
       "      <th>calculatedbathnbr</th>\n",
       "      <th>calculatedfinishedsquarefeet</th>\n",
       "      <th>finishedsquarefeet12</th>\n",
       "      <th>fips</th>\n",
       "      <th>fullbathcnt</th>\n",
       "      <th>latitude</th>\n",
       "      <th>longitude</th>\n",
       "      <th>lotsizesquarefeet</th>\n",
       "      <th>propertycountylandusecode</th>\n",
       "      <th>propertylandusetypeid</th>\n",
       "      <th>rawcensustractandblock</th>\n",
       "      <th>regionidcity</th>\n",
       "      <th>regionidcounty</th>\n",
       "      <th>regionidzip</th>\n",
       "      <th>roomcnt</th>\n",
       "      <th>yearbuilt</th>\n",
       "      <th>structuretaxvaluedollarcnt</th>\n",
       "      <th>taxvaluedollarcnt</th>\n",
       "      <th>assessmentyear</th>\n",
       "      <th>landtaxvaluedollarcnt</th>\n",
       "      <th>taxamount</th>\n",
       "      <th>censustractandblock</th>\n",
       "      <th>logerror</th>\n",
       "      <th>transactiondate</th>\n",
       "      <th>propertylandusedesc</th>\n",
       "    </tr>\n",
       "  </thead>\n",
       "  <tbody>\n",
       "    <tr>\n",
       "      <th>0</th>\n",
       "      <td>1727539</td>\n",
       "      <td>14297519</td>\n",
       "      <td>3.5</td>\n",
       "      <td>4.0</td>\n",
       "      <td>3.5</td>\n",
       "      <td>3100.0</td>\n",
       "      <td>3100.0</td>\n",
       "      <td>6059.0</td>\n",
       "      <td>3.0</td>\n",
       "      <td>33634931.0</td>\n",
       "      <td>-117869207.0</td>\n",
       "      <td>4506.0</td>\n",
       "      <td>122</td>\n",
       "      <td>261.0</td>\n",
       "      <td>6.059063e+07</td>\n",
       "      <td>53571.0</td>\n",
       "      <td>1286.0</td>\n",
       "      <td>96978.0</td>\n",
       "      <td>0.0</td>\n",
       "      <td>1998.0</td>\n",
       "      <td>485713.0</td>\n",
       "      <td>1023282.0</td>\n",
       "      <td>2016.0</td>\n",
       "      <td>537569.0</td>\n",
       "      <td>11013.72</td>\n",
       "      <td>6.059063e+13</td>\n",
       "      <td>0.025595</td>\n",
       "      <td>2017-01-01</td>\n",
       "      <td>Single Family Residential</td>\n",
       "    </tr>\n",
       "    <tr>\n",
       "      <th>1</th>\n",
       "      <td>1387261</td>\n",
       "      <td>17052889</td>\n",
       "      <td>1.0</td>\n",
       "      <td>2.0</td>\n",
       "      <td>1.0</td>\n",
       "      <td>1465.0</td>\n",
       "      <td>1465.0</td>\n",
       "      <td>6111.0</td>\n",
       "      <td>1.0</td>\n",
       "      <td>34449266.0</td>\n",
       "      <td>-119281531.0</td>\n",
       "      <td>12647.0</td>\n",
       "      <td>1110</td>\n",
       "      <td>261.0</td>\n",
       "      <td>6.111001e+07</td>\n",
       "      <td>13091.0</td>\n",
       "      <td>2061.0</td>\n",
       "      <td>97099.0</td>\n",
       "      <td>5.0</td>\n",
       "      <td>1967.0</td>\n",
       "      <td>88000.0</td>\n",
       "      <td>464000.0</td>\n",
       "      <td>2016.0</td>\n",
       "      <td>376000.0</td>\n",
       "      <td>5672.48</td>\n",
       "      <td>6.111001e+13</td>\n",
       "      <td>0.055619</td>\n",
       "      <td>2017-01-01</td>\n",
       "      <td>Single Family Residential</td>\n",
       "    </tr>\n",
       "    <tr>\n",
       "      <th>2</th>\n",
       "      <td>11677</td>\n",
       "      <td>14186244</td>\n",
       "      <td>2.0</td>\n",
       "      <td>3.0</td>\n",
       "      <td>2.0</td>\n",
       "      <td>1243.0</td>\n",
       "      <td>1243.0</td>\n",
       "      <td>6059.0</td>\n",
       "      <td>2.0</td>\n",
       "      <td>33886168.0</td>\n",
       "      <td>-117823170.0</td>\n",
       "      <td>8432.0</td>\n",
       "      <td>122</td>\n",
       "      <td>261.0</td>\n",
       "      <td>6.059022e+07</td>\n",
       "      <td>21412.0</td>\n",
       "      <td>1286.0</td>\n",
       "      <td>97078.0</td>\n",
       "      <td>6.0</td>\n",
       "      <td>1962.0</td>\n",
       "      <td>85289.0</td>\n",
       "      <td>564778.0</td>\n",
       "      <td>2016.0</td>\n",
       "      <td>479489.0</td>\n",
       "      <td>6488.30</td>\n",
       "      <td>6.059022e+13</td>\n",
       "      <td>0.005383</td>\n",
       "      <td>2017-01-01</td>\n",
       "      <td>Single Family Residential</td>\n",
       "    </tr>\n",
       "    <tr>\n",
       "      <th>3</th>\n",
       "      <td>2288172</td>\n",
       "      <td>12177905</td>\n",
       "      <td>3.0</td>\n",
       "      <td>4.0</td>\n",
       "      <td>3.0</td>\n",
       "      <td>2376.0</td>\n",
       "      <td>2376.0</td>\n",
       "      <td>6037.0</td>\n",
       "      <td>3.0</td>\n",
       "      <td>34245180.0</td>\n",
       "      <td>-118240722.0</td>\n",
       "      <td>13038.0</td>\n",
       "      <td>0101</td>\n",
       "      <td>261.0</td>\n",
       "      <td>6.037300e+07</td>\n",
       "      <td>396551.0</td>\n",
       "      <td>3101.0</td>\n",
       "      <td>96330.0</td>\n",
       "      <td>0.0</td>\n",
       "      <td>1970.0</td>\n",
       "      <td>108918.0</td>\n",
       "      <td>145143.0</td>\n",
       "      <td>2016.0</td>\n",
       "      <td>36225.0</td>\n",
       "      <td>1777.51</td>\n",
       "      <td>6.037300e+13</td>\n",
       "      <td>-0.103410</td>\n",
       "      <td>2017-01-01</td>\n",
       "      <td>Single Family Residential</td>\n",
       "    </tr>\n",
       "    <tr>\n",
       "      <th>4</th>\n",
       "      <td>781532</td>\n",
       "      <td>12095076</td>\n",
       "      <td>3.0</td>\n",
       "      <td>4.0</td>\n",
       "      <td>3.0</td>\n",
       "      <td>2962.0</td>\n",
       "      <td>2962.0</td>\n",
       "      <td>6037.0</td>\n",
       "      <td>3.0</td>\n",
       "      <td>34145202.0</td>\n",
       "      <td>-118179824.0</td>\n",
       "      <td>63000.0</td>\n",
       "      <td>0101</td>\n",
       "      <td>261.0</td>\n",
       "      <td>6.037461e+07</td>\n",
       "      <td>47019.0</td>\n",
       "      <td>3101.0</td>\n",
       "      <td>96293.0</td>\n",
       "      <td>0.0</td>\n",
       "      <td>1950.0</td>\n",
       "      <td>276684.0</td>\n",
       "      <td>773303.0</td>\n",
       "      <td>2016.0</td>\n",
       "      <td>496619.0</td>\n",
       "      <td>9516.26</td>\n",
       "      <td>6.037461e+13</td>\n",
       "      <td>-0.001011</td>\n",
       "      <td>2017-01-01</td>\n",
       "      <td>Single Family Residential</td>\n",
       "    </tr>\n",
       "  </tbody>\n",
       "</table>\n",
       "</div>"
      ],
      "text/plain": [
       "        id  parcelid  bathroomcnt  bedroomcnt  calculatedbathnbr  \\\n",
       "0  1727539  14297519          3.5         4.0                3.5   \n",
       "1  1387261  17052889          1.0         2.0                1.0   \n",
       "2    11677  14186244          2.0         3.0                2.0   \n",
       "3  2288172  12177905          3.0         4.0                3.0   \n",
       "4   781532  12095076          3.0         4.0                3.0   \n",
       "\n",
       "   calculatedfinishedsquarefeet  finishedsquarefeet12    fips  fullbathcnt  \\\n",
       "0                        3100.0                3100.0  6059.0          3.0   \n",
       "1                        1465.0                1465.0  6111.0          1.0   \n",
       "2                        1243.0                1243.0  6059.0          2.0   \n",
       "3                        2376.0                2376.0  6037.0          3.0   \n",
       "4                        2962.0                2962.0  6037.0          3.0   \n",
       "\n",
       "     latitude    longitude  lotsizesquarefeet propertycountylandusecode  \\\n",
       "0  33634931.0 -117869207.0             4506.0                       122   \n",
       "1  34449266.0 -119281531.0            12647.0                      1110   \n",
       "2  33886168.0 -117823170.0             8432.0                       122   \n",
       "3  34245180.0 -118240722.0            13038.0                      0101   \n",
       "4  34145202.0 -118179824.0            63000.0                      0101   \n",
       "\n",
       "   propertylandusetypeid  rawcensustractandblock  regionidcity  \\\n",
       "0                  261.0            6.059063e+07       53571.0   \n",
       "1                  261.0            6.111001e+07       13091.0   \n",
       "2                  261.0            6.059022e+07       21412.0   \n",
       "3                  261.0            6.037300e+07      396551.0   \n",
       "4                  261.0            6.037461e+07       47019.0   \n",
       "\n",
       "   regionidcounty  regionidzip  roomcnt  yearbuilt  \\\n",
       "0          1286.0      96978.0      0.0     1998.0   \n",
       "1          2061.0      97099.0      5.0     1967.0   \n",
       "2          1286.0      97078.0      6.0     1962.0   \n",
       "3          3101.0      96330.0      0.0     1970.0   \n",
       "4          3101.0      96293.0      0.0     1950.0   \n",
       "\n",
       "   structuretaxvaluedollarcnt  taxvaluedollarcnt  assessmentyear  \\\n",
       "0                    485713.0          1023282.0          2016.0   \n",
       "1                     88000.0           464000.0          2016.0   \n",
       "2                     85289.0           564778.0          2016.0   \n",
       "3                    108918.0           145143.0          2016.0   \n",
       "4                    276684.0           773303.0          2016.0   \n",
       "\n",
       "   landtaxvaluedollarcnt  taxamount  censustractandblock  logerror  \\\n",
       "0               537569.0   11013.72         6.059063e+13  0.025595   \n",
       "1               376000.0    5672.48         6.111001e+13  0.055619   \n",
       "2               479489.0    6488.30         6.059022e+13  0.005383   \n",
       "3                36225.0    1777.51         6.037300e+13 -0.103410   \n",
       "4               496619.0    9516.26         6.037461e+13 -0.001011   \n",
       "\n",
       "  transactiondate        propertylandusedesc  \n",
       "0      2017-01-01  Single Family Residential  \n",
       "1      2017-01-01  Single Family Residential  \n",
       "2      2017-01-01  Single Family Residential  \n",
       "3      2017-01-01  Single Family Residential  \n",
       "4      2017-01-01  Single Family Residential  "
      ]
     },
     "execution_count": 7,
     "metadata": {},
     "output_type": "execute_result"
    }
   ],
   "source": [
    "df.head()"
   ]
  },
  {
   "cell_type": "code",
   "execution_count": 13,
   "id": "a1721d2b",
   "metadata": {},
   "outputs": [
    {
     "data": {
      "image/png": "[encoded data removed]",
      "text/plain": [
       "<Figure size 1728x1440 with 30 Axes>"
      ]
     },
     "metadata": {
      "needs_background": "light"
     },
     "output_type": "display_data"
    }
   ],
   "source": [
    "df.hist(figsize=(24, 20))\n",
    "plt.show()"
   ]
  },
  {
   "cell_type": "markdown",
   "id": "2b85b6a4",
   "metadata": {},
   "source": [
    "Redundant:\n",
    "- finishedsqaurefeet12\n",
    "- roomcnt\n",
    "- censustractandblock\n",
    "- landtaxvaluedollarcnt\n",
    "- taxamount\n",
    "- structuretaxvaluedollarcnt\n",
    "- propertycountylandusecode"
   ]
  },
  {
   "cell_type": "code",
   "execution_count": 5,
   "id": "566fb7ba",
   "metadata": {},
   "outputs": [],
   "source": [
    "df = df.drop(columns=['finishedsquarefeet12', 'roomcnt', 'censustractandblock', 'landtaxvaluedollarcnt', 'taxamount', 'structuretaxvaluedollarcnt', 'propertycountylandusecode'])"
   ]
  },
  {
   "cell_type": "code",
   "execution_count": 6,
   "id": "6b392e23",
   "metadata": {},
   "outputs": [],
   "source": [
    "df= df.drop(columns=['propertylandusetypeid'])"
   ]
  },
  {
   "cell_type": "code",
   "execution_count": 7,
   "id": "ca1d228d",
   "metadata": {},
   "outputs": [],
   "source": [
    "# Not necessary because I know these are all Single Family Residential\n",
    "df = df.drop(columns=['propertylandusedesc'])"
   ]
  },
  {
   "cell_type": "code",
   "execution_count": 11,
   "id": "efed6a6f",
   "metadata": {},
   "outputs": [
    {
     "data": {
      "text/plain": [
       "(50559, 20)"
      ]
     },
     "execution_count": 11,
     "metadata": {},
     "output_type": "execute_result"
    }
   ],
   "source": [
    "df.shape"
   ]
  },
  {
   "cell_type": "code",
   "execution_count": 13,
   "id": "d38cfc26",
   "metadata": {},
   "outputs": [
    {
     "name": "stdout",
     "output_type": "stream",
     "text": [
      "<class 'pandas.core.frame.DataFrame'>\n",
      "Int64Index: 50559 entries, 0 to 52318\n",
      "Data columns (total 20 columns):\n",
      " #   Column                        Non-Null Count  Dtype  \n",
      "---  ------                        --------------  -----  \n",
      " 0   id                            50559 non-null  int64  \n",
      " 1   parcelid                      50559 non-null  int64  \n",
      " 2   bathroomcnt                   50559 non-null  float64\n",
      " 3   bedroomcnt                    50559 non-null  float64\n",
      " 4   calculatedbathnbr             50559 non-null  float64\n",
      " 5   calculatedfinishedsquarefeet  50559 non-null  float64\n",
      " 6   fips                          50559 non-null  float64\n",
      " 7   fullbathcnt                   50559 non-null  float64\n",
      " 8   latitude                      50559 non-null  float64\n",
      " 9   longitude                     50559 non-null  float64\n",
      " 10  lotsizesquarefeet             50559 non-null  float64\n",
      " 11  rawcensustractandblock        50559 non-null  float64\n",
      " 12  regionidcity                  50559 non-null  float64\n",
      " 13  regionidcounty                50559 non-null  float64\n",
      " 14  regionidzip                   50559 non-null  float64\n",
      " 15  yearbuilt                     50559 non-null  float64\n",
      " 16  taxvaluedollarcnt             50559 non-null  float64\n",
      " 17  assessmentyear                50559 non-null  float64\n",
      " 18  logerror                      50559 non-null  float64\n",
      " 19  transactiondate               50559 non-null  object \n",
      "dtypes: float64(17), int64(2), object(1)\n",
      "memory usage: 8.1+ MB\n"
     ]
    }
   ],
   "source": [
    "df.info()"
   ]
  },
  {
   "cell_type": "code",
   "execution_count": 8,
   "id": "68ad0aa0",
   "metadata": {},
   "outputs": [],
   "source": [
    "# dropping this column since we have bathroomcnt, fullbathcnt, and I will make a half bath column\n",
    "df = df.drop(columns=['calculatedbathnbr'])"
   ]
  },
  {
   "cell_type": "code",
   "execution_count": 13,
   "id": "0eb516f6",
   "metadata": {},
   "outputs": [
    {
     "data": {
      "text/plain": [
       "(50559, 19)"
      ]
     },
     "execution_count": 13,
     "metadata": {},
     "output_type": "execute_result"
    }
   ],
   "source": [
    "df.shape"
   ]
  },
  {
   "cell_type": "code",
   "execution_count": 9,
   "id": "8117447a",
   "metadata": {},
   "outputs": [],
   "source": [
    "# creating a new column showing the number of half baths a house has\n",
    "df['half_bath'] = (df.bathroomcnt - df.fullbathcnt)/0.5"
   ]
  },
  {
   "cell_type": "code",
   "execution_count": 11,
   "id": "843cec8a",
   "metadata": {},
   "outputs": [
    {
     "data": {
      "text/plain": [
       "0        1.0\n",
       "1        0.0\n",
       "2        0.0\n",
       "3        0.0\n",
       "4        0.0\n",
       "        ... \n",
       "52314    0.0\n",
       "52315    0.0\n",
       "52316    0.0\n",
       "52317    0.0\n",
       "52318    0.0\n",
       "Name: half_bath, Length: 50559, dtype: float64"
      ]
     },
     "execution_count": 11,
     "metadata": {},
     "output_type": "execute_result"
    }
   ],
   "source": [
    "df.half_bath"
   ]
  },
  {
   "cell_type": "code",
   "execution_count": 13,
   "id": "12a18311",
   "metadata": {},
   "outputs": [
    {
     "data": {
      "text/plain": [
       "0.0    43998\n",
       "1.0     6484\n",
       "2.0       68\n",
       "3.0        8\n",
       "7.0        1\n",
       "Name: half_bath, dtype: int64"
      ]
     },
     "execution_count": 13,
     "metadata": {},
     "output_type": "execute_result"
    }
   ],
   "source": [
    "df.half_bath.value_counts()"
   ]
  },
  {
   "cell_type": "code",
   "execution_count": 19,
   "id": "b6b81525",
   "metadata": {},
   "outputs": [
    {
     "data": {
      "text/plain": [
       "3101.0    32739\n",
       "1286.0    13500\n",
       "2061.0     4320\n",
       "Name: regionidcounty, dtype: int64"
      ]
     },
     "execution_count": 19,
     "metadata": {},
     "output_type": "execute_result"
    }
   ],
   "source": [
    "df.regionidcounty.value_counts()"
   ]
  },
  {
   "cell_type": "code",
   "execution_count": 20,
   "id": "4462d8df",
   "metadata": {},
   "outputs": [
    {
     "data": {
      "text/plain": [
       "2017-06-30    779\n",
       "2017-04-28    591\n",
       "2017-05-31    549\n",
       "2017-07-28    526\n",
       "2017-08-31    514\n",
       "             ... \n",
       "2017-05-07      1\n",
       "2017-05-13      1\n",
       "2017-05-20      1\n",
       "2017-06-11      1\n",
       "2017-09-25      1\n",
       "Name: transactiondate, Length: 257, dtype: int64"
      ]
     },
     "execution_count": 20,
     "metadata": {},
     "output_type": "execute_result"
    }
   ],
   "source": [
    "df.transactiondate.value_counts()"
   ]
  },
  {
   "cell_type": "code",
   "execution_count": 10,
   "id": "ba4d8844",
   "metadata": {},
   "outputs": [],
   "source": [
    "df.rename(columns={'bedroomcnt':'bed', 'bathroomcnt':'bath', 'calculatedfinishedsquarefeet':'square_feet', 'fips':'county', 'lotsizesquarefeet':'lot_square_feet', 'regionidcity':'id_city', 'regionidcounty':'id_county', 'regionidzip':'id_zip', 'taxvaluedollarcnt':'appraisal'}, inplace = True)"
   ]
  },
  {
   "cell_type": "code",
   "execution_count": 11,
   "id": "a6a9097f",
   "metadata": {},
   "outputs": [],
   "source": [
    "df['county'].replace({6037.0: 'LA County', 6059.0: 'Orange County',\n",
    "               6111.0: 'Ventura County'}, inplace=True)"
   ]
  },
  {
   "cell_type": "code",
   "execution_count": 16,
   "id": "4f0a963f",
   "metadata": {},
   "outputs": [
    {
     "data": {
      "text/plain": [
       "Index(['id', 'parcelid', 'bath', 'bed', 'square_feet', 'county', 'fullbathcnt',\n",
       "       'latitude', 'longitude', 'lot_square_feet', 'rawcensustractandblock',\n",
       "       'id_city', 'id_county', 'id_zip', 'yearbuilt', 'appraisal',\n",
       "       'assessmentyear', 'logerror', 'transactiondate', 'half_bath'],\n",
       "      dtype='object')"
      ]
     },
     "execution_count": 16,
     "metadata": {},
     "output_type": "execute_result"
    }
   ],
   "source": [
    "df.columns"
   ]
  },
  {
   "cell_type": "markdown",
   "id": "afe08cff",
   "metadata": {},
   "source": [
    "## Split"
   ]
  },
  {
   "cell_type": "code",
   "execution_count": 12,
   "id": "3d7a4a22",
   "metadata": {},
   "outputs": [],
   "source": [
    "train, valid_test = train_test_split(df, test_size = 0.3, random_state = 123)\n",
    "\n",
    "validate, test = train_test_split(valid_test, test_size = 0.5, random_state = 123)"
   ]
  },
  {
   "cell_type": "code",
   "execution_count": 13,
   "id": "623edf1b",
   "metadata": {},
   "outputs": [
    {
     "name": "stdout",
     "output_type": "stream",
     "text": [
      "(35391, 20) (7584, 20) (7584, 20)\n"
     ]
    }
   ],
   "source": [
    "print(train.shape, validate.shape, test.shape)"
   ]
  },
  {
   "cell_type": "code",
   "execution_count": 17,
   "id": "ef0a438e",
   "metadata": {},
   "outputs": [
    {
     "data": {
      "text/html": [
       "<div>\n",
       "<style scoped>\n",
       "    .dataframe tbody tr th:only-of-type {\n",
       "        vertical-align: middle;\n",
       "    }\n",
       "\n",
       "    .dataframe tbody tr th {\n",
       "        vertical-align: top;\n",
       "    }\n",
       "\n",
       "    .dataframe thead th {\n",
       "        text-align: right;\n",
       "    }\n",
       "</style>\n",
       "<table border=\"1\" class=\"dataframe\">\n",
       "  <thead>\n",
       "    <tr style=\"text-align: right;\">\n",
       "      <th></th>\n",
       "      <th>id</th>\n",
       "      <th>parcelid</th>\n",
       "      <th>bath</th>\n",
       "      <th>bed</th>\n",
       "      <th>square_feet</th>\n",
       "      <th>county</th>\n",
       "      <th>fullbathcnt</th>\n",
       "      <th>latitude</th>\n",
       "      <th>longitude</th>\n",
       "      <th>lot_square_feet</th>\n",
       "      <th>rawcensustractandblock</th>\n",
       "      <th>id_city</th>\n",
       "      <th>id_county</th>\n",
       "      <th>id_zip</th>\n",
       "      <th>yearbuilt</th>\n",
       "      <th>appraisal</th>\n",
       "      <th>assessmentyear</th>\n",
       "      <th>logerror</th>\n",
       "      <th>transactiondate</th>\n",
       "      <th>half_bath</th>\n",
       "    </tr>\n",
       "  </thead>\n",
       "  <tbody>\n",
       "    <tr>\n",
       "      <th>12591</th>\n",
       "      <td>1151696</td>\n",
       "      <td>11281694</td>\n",
       "      <td>3.0</td>\n",
       "      <td>4.0</td>\n",
       "      <td>2338.0</td>\n",
       "      <td>LA County</td>\n",
       "      <td>3.0</td>\n",
       "      <td>34661359.0</td>\n",
       "      <td>-118159914.0</td>\n",
       "      <td>10152.0</td>\n",
       "      <td>6.037901e+07</td>\n",
       "      <td>5534.0</td>\n",
       "      <td>3101.0</td>\n",
       "      <td>97317.0</td>\n",
       "      <td>1969.0</td>\n",
       "      <td>214525.0</td>\n",
       "      <td>2016.0</td>\n",
       "      <td>0.084755</td>\n",
       "      <td>2017-03-21</td>\n",
       "      <td>0.0</td>\n",
       "    </tr>\n",
       "    <tr>\n",
       "      <th>2778</th>\n",
       "      <td>2104743</td>\n",
       "      <td>10847031</td>\n",
       "      <td>7.0</td>\n",
       "      <td>4.0</td>\n",
       "      <td>12039.0</td>\n",
       "      <td>LA County</td>\n",
       "      <td>7.0</td>\n",
       "      <td>34167197.0</td>\n",
       "      <td>-118434181.0</td>\n",
       "      <td>37630.0</td>\n",
       "      <td>6.037129e+07</td>\n",
       "      <td>12447.0</td>\n",
       "      <td>3101.0</td>\n",
       "      <td>96410.0</td>\n",
       "      <td>1992.0</td>\n",
       "      <td>3794515.0</td>\n",
       "      <td>2016.0</td>\n",
       "      <td>0.031378</td>\n",
       "      <td>2017-01-19</td>\n",
       "      <td>0.0</td>\n",
       "    </tr>\n",
       "    <tr>\n",
       "      <th>30932</th>\n",
       "      <td>1861487</td>\n",
       "      <td>14230822</td>\n",
       "      <td>2.0</td>\n",
       "      <td>3.0</td>\n",
       "      <td>1472.0</td>\n",
       "      <td>Orange County</td>\n",
       "      <td>2.0</td>\n",
       "      <td>33805416.0</td>\n",
       "      <td>-117827119.0</td>\n",
       "      <td>6200.0</td>\n",
       "      <td>6.059076e+07</td>\n",
       "      <td>33252.0</td>\n",
       "      <td>1286.0</td>\n",
       "      <td>97065.0</td>\n",
       "      <td>1960.0</td>\n",
       "      <td>488429.0</td>\n",
       "      <td>2016.0</td>\n",
       "      <td>-0.024276</td>\n",
       "      <td>2017-06-13</td>\n",
       "      <td>0.0</td>\n",
       "    </tr>\n",
       "  </tbody>\n",
       "</table>\n",
       "</div>"
      ],
      "text/plain": [
       "            id  parcelid  bath  bed  square_feet         county  fullbathcnt  \\\n",
       "12591  1151696  11281694   3.0  4.0       2338.0      LA County          3.0   \n",
       "2778   2104743  10847031   7.0  4.0      12039.0      LA County          7.0   \n",
       "30932  1861487  14230822   2.0  3.0       1472.0  Orange County          2.0   \n",
       "\n",
       "         latitude    longitude  lot_square_feet  rawcensustractandblock  \\\n",
       "12591  34661359.0 -118159914.0          10152.0            6.037901e+07   \n",
       "2778   34167197.0 -118434181.0          37630.0            6.037129e+07   \n",
       "30932  33805416.0 -117827119.0           6200.0            6.059076e+07   \n",
       "\n",
       "       id_city  id_county   id_zip  yearbuilt  appraisal  assessmentyear  \\\n",
       "12591   5534.0     3101.0  97317.0     1969.0   214525.0          2016.0   \n",
       "2778   12447.0     3101.0  96410.0     1992.0  3794515.0          2016.0   \n",
       "30932  33252.0     1286.0  97065.0     1960.0   488429.0          2016.0   \n",
       "\n",
       "       logerror transactiondate  half_bath  \n",
       "12591  0.084755      2017-03-21        0.0  \n",
       "2778   0.031378      2017-01-19        0.0  \n",
       "30932 -0.024276      2017-06-13        0.0  "
      ]
     },
     "execution_count": 17,
     "metadata": {},
     "output_type": "execute_result"
    }
   ],
   "source": [
    "train.head(3)"
   ]
  },
  {
   "cell_type": "markdown",
   "id": "20255f77",
   "metadata": {},
   "source": [
    "# Explore\n",
    "\n",
    "### 1. How does log error compare between the three counties?"
   ]
  },
  {
   "cell_type": "code",
   "execution_count": 47,
   "id": "4bfe3d04",
   "metadata": {},
   "outputs": [
    {
     "data": {
      "text/plain": [
       "<AxesSubplot:>"
      ]
     },
     "execution_count": 47,
     "metadata": {},
     "output_type": "execute_result"
    },
    {
     "data": {
      "image/png": "[encoded data removed]",
      "text/plain": [
       "<Figure size 432x288 with 1 Axes>"
      ]
     },
     "metadata": {
      "needs_background": "light"
     },
     "output_type": "display_data"
    }
   ],
   "source": [
    "df.logerror.hist()"
   ]
  },
  {
   "cell_type": "code",
   "execution_count": null,
   "id": "6ffa922e",
   "metadata": {},
   "outputs": [],
   "source": []
  },
  {
   "cell_type": "code",
   "execution_count": 57,
   "id": "780e0676",
   "metadata": {},
   "outputs": [
    {
     "data": {
      "text/plain": [
       "<AxesSubplot:>"
      ]
     },
     "execution_count": 57,
     "metadata": {},
     "output_type": "execute_result"
    },
    {
     "data": {
      "image/png": "[encoded data removed]",
      "text/plain": [
       "<Figure size 432x288 with 1 Axes>"
      ]
     },
     "metadata": {
      "needs_background": "light"
     },
     "output_type": "display_data"
    }
   ],
   "source": [
    "df.logerror[df.county == 'LA County'].hist()"
   ]
  },
  {
   "cell_type": "code",
   "execution_count": 58,
   "id": "9498c418",
   "metadata": {},
   "outputs": [
    {
     "data": {
      "text/plain": [
       "<AxesSubplot:>"
      ]
     },
     "execution_count": 58,
     "metadata": {},
     "output_type": "execute_result"
    },
    {
     "data": {
      "image/png": "[encoded data removed]",
      "text/plain": [
       "<Figure size 432x288 with 1 Axes>"
      ]
     },
     "metadata": {
      "needs_background": "light"
     },
     "output_type": "display_data"
    }
   ],
   "source": [
    "df.logerror[df.county == 'Orange County'].hist()"
   ]
  },
  {
   "cell_type": "code",
   "execution_count": 59,
   "id": "266cb58f",
   "metadata": {},
   "outputs": [
    {
     "data": {
      "text/plain": [
       "<AxesSubplot:>"
      ]
     },
     "execution_count": 59,
     "metadata": {},
     "output_type": "execute_result"
    },
    {
     "data": {
      "image/png": "[encoded data removed]",
      "text/plain": [
       "<Figure size 432x288 with 1 Axes>"
      ]
     },
     "metadata": {
      "needs_background": "light"
     },
     "output_type": "display_data"
    }
   ],
   "source": [
    "df.logerror[df.county == 'Ventura County'].hist()"
   ]
  },
  {
   "cell_type": "markdown",
   "id": "6ecf7751",
   "metadata": {},
   "source": [
    "It appears that the range of log error is more broad for Ventura County, i.e. The errors are larger in this county. "
   ]
  },
  {
   "cell_type": "code",
   "execution_count": 66,
   "id": "09221893",
   "metadata": {},
   "outputs": [],
   "source": [
    "avg_LA_logerror = df.logerror[df.county == 'LA County'].mean()\n",
    "avg_Orange_logerror = df.logerror[df.county == 'Orange County'].mean()\n",
    "avg_Ventura_logerror = df.logerror[df.county == 'Ventura County'].mean()"
   ]
  },
  {
   "cell_type": "code",
   "execution_count": 68,
   "id": "ff2fa6b6",
   "metadata": {},
   "outputs": [],
   "source": [
    "y = [avg_LA_logerror, avg_Orange_logerror, avg_Ventura_logerror]"
   ]
  },
  {
   "cell_type": "code",
   "execution_count": 69,
   "id": "67337a45",
   "metadata": {},
   "outputs": [],
   "source": [
    "x = ['LA County', 'Orange County', 'Ventura County']"
   ]
  },
  {
   "cell_type": "code",
   "execution_count": 71,
   "id": "c76fee04",
   "metadata": {},
   "outputs": [
    {
     "data": {
      "image/png": "[encoded data removed]",
      "text/plain": [
       "<Figure size 432x288 with 1 Axes>"
      ]
     },
     "metadata": {
      "needs_background": "light"
     },
     "output_type": "display_data"
    }
   ],
   "source": [
    "plt.bar(x, y)\n",
    "plt.ylabel('Average logerror')\n",
    "plt.title('Average Log error by County')\n",
    "plt.show()"
   ]
  },
  {
   "cell_type": "markdown",
   "id": "93c6771a",
   "metadata": {},
   "source": [
    "This chart shows that the average logerror is larger in Orange County. "
   ]
  },
  {
   "cell_type": "markdown",
   "id": "2bb11023",
   "metadata": {},
   "source": [
    "### Null Hypothesis:\n",
    "- There is no significant difference between the county's logerrors.\n",
    "\n",
    "### Alternative Hypothesis\n",
    "- There is a statistically significant difference between the county's logerrors. "
   ]
  },
  {
   "cell_type": "code",
   "execution_count": 14,
   "id": "fb85f709",
   "metadata": {},
   "outputs": [
    {
     "data": {
      "text/plain": [
       "(22.529040531309715, 1.660043739931129e-10)"
      ]
     },
     "execution_count": 14,
     "metadata": {},
     "output_type": "execute_result"
    }
   ],
   "source": [
    "# I am performing an ANOVA statistical test to see the significance of this chart.\n",
    "from scipy import stats\n",
    "alpha = 0.05\n",
    "\n",
    "f, p = stats.f_oneway(df[df['county'] == 'LA County'].logerror,\n",
    "                     df[df['county'] == 'Orange County'].logerror,\n",
    "                     df[df['county'] == 'Ventura County'].logerror)\n",
    "\n",
    "f, p"
   ]
  },
  {
   "cell_type": "markdown",
   "id": "2e5c045a",
   "metadata": {},
   "source": [
    "I reject the Null Hypothesis. "
   ]
  },
  {
   "cell_type": "markdown",
   "id": "8ace575a",
   "metadata": {},
   "source": [
    "### 2. How does size of a house affect logerror?"
   ]
  },
  {
   "cell_type": "markdown",
   "id": "25e39493",
   "metadata": {},
   "source": [
    "df.square_feet.hist()"
   ]
  },
  {
   "cell_type": "code",
   "execution_count": 85,
   "id": "0380f7da",
   "metadata": {},
   "outputs": [],
   "source": [
    "y=[df.logerror[df.square_feet < 2500].mean(),\n",
    "df.logerror[(df.square_feet >= 2500) & (df.square_feet < 5000)].mean(),\n",
    "df.logerror[df.square_feet >= 5000].mean()]"
   ]
  },
  {
   "cell_type": "code",
   "execution_count": 86,
   "id": "45489378",
   "metadata": {},
   "outputs": [],
   "source": [
    "x=['smedium', 'large', 'xl']"
   ]
  },
  {
   "cell_type": "code",
   "execution_count": 87,
   "id": "25bdabc7",
   "metadata": {},
   "outputs": [
    {
     "data": {
      "image/png": "[encoded data removed]",
      "text/plain": [
       "<Figure size 432x288 with 1 Axes>"
      ]
     },
     "metadata": {
      "needs_background": "light"
     },
     "output_type": "display_data"
    }
   ],
   "source": [
    "plt.bar(x, y)\n",
    "plt.xlabel('House bins')\n",
    "plt.ylabel('Average logerror')\n",
    "plt.title('Average Log Error by House Square Feet Bins')\n",
    "plt.show()"
   ]
  },
  {
   "cell_type": "markdown",
   "id": "51b2e1b5",
   "metadata": {},
   "source": [
    "It appears that as the square footage of a house increases, so too does the average logerror. Interesting. "
   ]
  },
  {
   "cell_type": "markdown",
   "id": "cf4ff241",
   "metadata": {},
   "source": [
    "### Null Hypothesis:\n",
    "- There is no significant difference between the logerrors according to house square footage.\n",
    "\n",
    "### Alternative Hypothesis\n",
    "- There is a statistically significant difference between the logerrors according to house square footage. "
   ]
  },
  {
   "cell_type": "code",
   "execution_count": 88,
   "id": "269dacaa",
   "metadata": {},
   "outputs": [
    {
     "data": {
      "text/plain": [
       "(44.00700236584575, 8.028208895897534e-20)"
      ]
     },
     "execution_count": 88,
     "metadata": {},
     "output_type": "execute_result"
    }
   ],
   "source": [
    "# I am performing an ANOVA statistical test to see the significance of this chart.\n",
    "from scipy import stats\n",
    "alpha = 0.05\n",
    "\n",
    "f, p = stats.f_oneway(df[df['square_feet'] < 2500].logerror,\n",
    "                     df[(df['square_feet'] >= 2500) & (df['square_feet'] < 5000)].logerror,\n",
    "                     df[df['square_feet'] >= 5000].logerror)\n",
    "\n",
    "f, p"
   ]
  },
  {
   "cell_type": "markdown",
   "id": "522cacf7",
   "metadata": {},
   "source": [
    "I reject the Null Hypothesis."
   ]
  },
  {
   "cell_type": "markdown",
   "id": "2d09c2df",
   "metadata": {},
   "source": [
    " ### 3. How does year built affect logerror?"
   ]
  },
  {
   "cell_type": "code",
   "execution_count": 89,
   "id": "45eedb6a",
   "metadata": {},
   "outputs": [
    {
     "data": {
      "text/plain": [
       "<AxesSubplot:>"
      ]
     },
     "execution_count": 89,
     "metadata": {},
     "output_type": "execute_result"
    },
    {
     "data": {
      "image/png": "[encoded data removed]",
      "text/plain": [
       "<Figure size 432x288 with 1 Axes>"
      ]
     },
     "metadata": {
      "needs_background": "light"
     },
     "output_type": "display_data"
    }
   ],
   "source": [
    "df.yearbuilt.hist()"
   ]
  },
  {
   "cell_type": "code",
   "execution_count": 90,
   "id": "fed828df",
   "metadata": {},
   "outputs": [],
   "source": [
    "y=[df.logerror[df.yearbuilt < 1950].mean(),\n",
    "df.logerror[(df.yearbuilt >= 1950) & (df.square_feet < 1980)].mean(),\n",
    "df.logerror[df.yearbuilt >= 1980].mean()]"
   ]
  },
  {
   "cell_type": "code",
   "execution_count": 93,
   "id": "b773a4ad",
   "metadata": {},
   "outputs": [],
   "source": [
    "x = ['Before 1950', '1950-1979', '1980-Present']"
   ]
  },
  {
   "cell_type": "code",
   "execution_count": 94,
   "id": "b7541427",
   "metadata": {},
   "outputs": [
    {
     "data": {
      "image/png": "[encoded data removed]",
      "text/plain": [
       "<Figure size 432x288 with 1 Axes>"
      ]
     },
     "metadata": {
      "needs_background": "light"
     },
     "output_type": "display_data"
    }
   ],
   "source": [
    "plt.bar(x, y)\n",
    "plt.xlabel('Year Built')\n",
    "plt.ylabel('Average logerror')\n",
    "plt.title('Average Log Error by Year Built')\n",
    "plt.show()"
   ]
  },
  {
   "cell_type": "markdown",
   "id": "9498895d",
   "metadata": {},
   "source": [
    "Interestingly, it appears that the older houses have a smaller logerror on average. I would have predicted it to be the other way around. "
   ]
  },
  {
   "cell_type": "markdown",
   "id": "3e02f1ef",
   "metadata": {},
   "source": [
    "### Null Hypothesis:\n",
    "- There is no significant difference between the logerrors according to year built. \n",
    "\n",
    "### Alternative Hypothesis\n",
    "- There is a statistically significant difference between the logerrors according to year built."
   ]
  },
  {
   "cell_type": "code",
   "execution_count": 95,
   "id": "68d5bc83",
   "metadata": {},
   "outputs": [
    {
     "data": {
      "text/plain": [
       "(9.361556106866363, 8.611533662895507e-05)"
      ]
     },
     "execution_count": 95,
     "metadata": {},
     "output_type": "execute_result"
    }
   ],
   "source": [
    "# I am performing an ANOVA statistical test to see the significance of this chart.\n",
    "alpha = 0.05\n",
    "\n",
    "f, p = stats.f_oneway(df[df['yearbuilt'] < 1950].logerror,\n",
    "                     df[(df['yearbuilt'] >= 1950) & (df['yearbuilt'] < 1980)].logerror,\n",
    "                     df[df['yearbuilt'] >= 1980].logerror)\n",
    "\n",
    "f, p"
   ]
  },
  {
   "cell_type": "markdown",
   "id": "2ef02b1f",
   "metadata": {},
   "source": [
    "I reject the Null Hypothesis."
   ]
  },
  {
   "cell_type": "markdown",
   "id": "084754c6",
   "metadata": {},
   "source": [
    "### 4. How does the number of half baths affect log error?"
   ]
  },
  {
   "cell_type": "code",
   "execution_count": 96,
   "id": "be58bb2c",
   "metadata": {},
   "outputs": [
    {
     "data": {
      "text/plain": [
       "<AxesSubplot:>"
      ]
     },
     "execution_count": 96,
     "metadata": {},
     "output_type": "execute_result"
    },
    {
     "data": {
      "image/png": "[encoded data removed]",
      "text/plain": [
       "<Figure size 432x288 with 1 Axes>"
      ]
     },
     "metadata": {
      "needs_background": "light"
     },
     "output_type": "display_data"
    }
   ],
   "source": [
    "df.half_bath.hist()"
   ]
  },
  {
   "cell_type": "code",
   "execution_count": 97,
   "id": "d1ca5edd",
   "metadata": {},
   "outputs": [
    {
     "data": {
      "text/plain": [
       "0.0    43998\n",
       "1.0     6484\n",
       "2.0       68\n",
       "3.0        8\n",
       "7.0        1\n",
       "Name: half_bath, dtype: int64"
      ]
     },
     "execution_count": 97,
     "metadata": {},
     "output_type": "execute_result"
    }
   ],
   "source": [
    "df.half_bath.value_counts()"
   ]
  },
  {
   "cell_type": "code",
   "execution_count": 98,
   "id": "4a0d9902",
   "metadata": {},
   "outputs": [],
   "source": [
    "y=[df.logerror[df.half_bath == 0.0].mean(),\n",
    "df.logerror[(df.half_bath >= 1.0) & (df.half_bath < 2.0)].mean(),\n",
    "df.logerror[df.half_bath >= 2.0].mean()]"
   ]
  },
  {
   "cell_type": "code",
   "execution_count": 99,
   "id": "9956ecff",
   "metadata": {},
   "outputs": [],
   "source": [
    "x = ['None', 'One', 'Two of more']"
   ]
  },
  {
   "cell_type": "code",
   "execution_count": 100,
   "id": "4344d9b0",
   "metadata": {},
   "outputs": [
    {
     "data": {
      "image/png": "[encoded data removed]",
      "text/plain": [
       "<Figure size 432x288 with 1 Axes>"
      ]
     },
     "metadata": {
      "needs_background": "light"
     },
     "output_type": "display_data"
    }
   ],
   "source": [
    "plt.bar(x, y)\n",
    "plt.xlabel('Number of Half Baths')\n",
    "plt.ylabel('Average logerror')\n",
    "plt.title('Average Log Error by Number of Half Baths')\n",
    "plt.show()"
   ]
  },
  {
   "cell_type": "markdown",
   "id": "daeb8997",
   "metadata": {},
   "source": [
    "It appears that as the number of half baths increases, so too does the average log error."
   ]
  },
  {
   "cell_type": "markdown",
   "id": "d86b8a2f",
   "metadata": {},
   "source": [
    "### Null Hypothesis:\n",
    "- There is no significant difference between the logerrors according to the number of half baths. \n",
    "\n",
    "### Alternative Hypothesis\n",
    "- There is a statistically significant difference between the logerrors according to the number of half baths."
   ]
  },
  {
   "cell_type": "code",
   "execution_count": 101,
   "id": "c7bd005e",
   "metadata": {},
   "outputs": [
    {
     "data": {
      "text/plain": [
       "(8.537515866678534, 0.0001962591771208839)"
      ]
     },
     "execution_count": 101,
     "metadata": {},
     "output_type": "execute_result"
    }
   ],
   "source": [
    "# I am performing an ANOVA statistical test to see the significance of this chart.\n",
    "alpha = 0.05\n",
    "\n",
    "f, p = stats.f_oneway(df[df['half_bath'] == 0.0].logerror,\n",
    "                     df[(df['half_bath'] >= 1.0) & (df['half_bath'] < 2.0)].logerror,\n",
    "                     df[df['half_bath'] >= 2.0].logerror)\n",
    "\n",
    "f, p"
   ]
  },
  {
   "cell_type": "markdown",
   "id": "8494b3c1",
   "metadata": {},
   "source": [
    "I reject the Null Hypothesis. "
   ]
  },
  {
   "cell_type": "markdown",
   "id": "d98b7b5f",
   "metadata": {},
   "source": [
    "## Clustering"
   ]
  },
  {
   "cell_type": "code",
   "execution_count": 30,
   "id": "70939f5d",
   "metadata": {},
   "outputs": [
    {
     "name": "stdout",
     "output_type": "stream",
     "text": [
      "<class 'pandas.core.frame.DataFrame'>\n",
      "Int64Index: 35391 entries, 12591 to 16271\n",
      "Data columns (total 20 columns):\n",
      " #   Column                  Non-Null Count  Dtype  \n",
      "---  ------                  --------------  -----  \n",
      " 0   id                      35391 non-null  int64  \n",
      " 1   parcelid                35391 non-null  int64  \n",
      " 2   bath                    35391 non-null  float64\n",
      " 3   bed                     35391 non-null  float64\n",
      " 4   square_feet             35391 non-null  float64\n",
      " 5   county                  35391 non-null  object \n",
      " 6   fullbathcnt             35391 non-null  float64\n",
      " 7   latitude                35391 non-null  float64\n",
      " 8   longitude               35391 non-null  float64\n",
      " 9   lot_square_feet         35391 non-null  float64\n",
      " 10  rawcensustractandblock  35391 non-null  float64\n",
      " 11  id_city                 35391 non-null  float64\n",
      " 12  id_county               35391 non-null  float64\n",
      " 13  id_zip                  35391 non-null  float64\n",
      " 14  yearbuilt               35391 non-null  float64\n",
      " 15  appraisal               35391 non-null  float64\n",
      " 16  assessmentyear          35391 non-null  float64\n",
      " 17  logerror                35391 non-null  float64\n",
      " 18  transactiondate         35391 non-null  object \n",
      " 19  half_bath               35391 non-null  float64\n",
      "dtypes: float64(16), int64(2), object(2)\n",
      "memory usage: 5.7+ MB\n"
     ]
    }
   ],
   "source": [
    "train.info()"
   ]
  },
  {
   "cell_type": "code",
   "execution_count": 15,
   "id": "64d4a980",
   "metadata": {},
   "outputs": [],
   "source": [
    "dummies_train = pd.get_dummies(train.county)\n",
    "dummies_validate = pd.get_dummies(validate.county)\n",
    "dummies_test = pd.get_dummies(test.county)"
   ]
  },
  {
   "cell_type": "code",
   "execution_count": 16,
   "id": "613f0a38",
   "metadata": {},
   "outputs": [],
   "source": [
    "train = pd.concat([train, dummies_train], axis = 1)\n",
    "validate = pd.concat([validate, dummies_validate], axis = 1)\n",
    "test = pd.concat([test, dummies_test], axis = 1)"
   ]
  },
  {
   "cell_type": "code",
   "execution_count": 17,
   "id": "b0cac806",
   "metadata": {},
   "outputs": [],
   "source": [
    "train.drop(columns=['county'], inplace = True)\n",
    "validate.drop(columns=['county'], inplace = True)\n",
    "test.drop(columns=['county'], inplace = True)"
   ]
  },
  {
   "cell_type": "code",
   "execution_count": 18,
   "id": "193b3c94",
   "metadata": {},
   "outputs": [],
   "source": [
    "train.drop(columns=['transactiondate'], inplace=True)\n",
    "validate.drop(columns=['transactiondate'], inplace=True)\n",
    "test.drop(columns=['transactiondate'], inplace=True)"
   ]
  },
  {
   "cell_type": "code",
   "execution_count": 24,
   "id": "1caa709b",
   "metadata": {},
   "outputs": [
    {
     "data": {
      "text/html": [
       "<div>\n",
       "<style scoped>\n",
       "    .dataframe tbody tr th:only-of-type {\n",
       "        vertical-align: middle;\n",
       "    }\n",
       "\n",
       "    .dataframe tbody tr th {\n",
       "        vertical-align: top;\n",
       "    }\n",
       "\n",
       "    .dataframe thead th {\n",
       "        text-align: right;\n",
       "    }\n",
       "</style>\n",
       "<table border=\"1\" class=\"dataframe\">\n",
       "  <thead>\n",
       "    <tr style=\"text-align: right;\">\n",
       "      <th></th>\n",
       "      <th>id</th>\n",
       "      <th>parcelid</th>\n",
       "      <th>bath</th>\n",
       "      <th>bed</th>\n",
       "      <th>square_feet</th>\n",
       "      <th>fullbathcnt</th>\n",
       "      <th>latitude</th>\n",
       "      <th>longitude</th>\n",
       "      <th>lot_square_feet</th>\n",
       "      <th>rawcensustractandblock</th>\n",
       "      <th>id_city</th>\n",
       "      <th>id_county</th>\n",
       "      <th>id_zip</th>\n",
       "      <th>yearbuilt</th>\n",
       "      <th>appraisal</th>\n",
       "      <th>assessmentyear</th>\n",
       "      <th>logerror</th>\n",
       "      <th>half_bath</th>\n",
       "      <th>LA County</th>\n",
       "      <th>Orange County</th>\n",
       "      <th>Ventura County</th>\n",
       "    </tr>\n",
       "  </thead>\n",
       "  <tbody>\n",
       "    <tr>\n",
       "      <th>12591</th>\n",
       "      <td>1151696</td>\n",
       "      <td>11281694</td>\n",
       "      <td>3.0</td>\n",
       "      <td>4.0</td>\n",
       "      <td>2338.0</td>\n",
       "      <td>3.0</td>\n",
       "      <td>34661359.0</td>\n",
       "      <td>-118159914.0</td>\n",
       "      <td>10152.0</td>\n",
       "      <td>6.037901e+07</td>\n",
       "      <td>5534.0</td>\n",
       "      <td>3101.0</td>\n",
       "      <td>97317.0</td>\n",
       "      <td>1969.0</td>\n",
       "      <td>214525.0</td>\n",
       "      <td>2016.0</td>\n",
       "      <td>0.084755</td>\n",
       "      <td>0.0</td>\n",
       "      <td>1</td>\n",
       "      <td>0</td>\n",
       "      <td>0</td>\n",
       "    </tr>\n",
       "  </tbody>\n",
       "</table>\n",
       "</div>"
      ],
      "text/plain": [
       "            id  parcelid  bath  bed  square_feet  fullbathcnt    latitude  \\\n",
       "12591  1151696  11281694   3.0  4.0       2338.0          3.0  34661359.0   \n",
       "\n",
       "         longitude  lot_square_feet  rawcensustractandblock  id_city  \\\n",
       "12591 -118159914.0          10152.0            6.037901e+07   5534.0   \n",
       "\n",
       "       id_county   id_zip  yearbuilt  appraisal  assessmentyear  logerror  \\\n",
       "12591     3101.0  97317.0     1969.0   214525.0          2016.0  0.084755   \n",
       "\n",
       "       half_bath  LA County  Orange County  Ventura County  \n",
       "12591        0.0          1              0               0  "
      ]
     },
     "execution_count": 24,
     "metadata": {},
     "output_type": "execute_result"
    }
   ],
   "source": [
    "train.head(1)"
   ]
  },
  {
   "cell_type": "code",
   "execution_count": 25,
   "id": "2055dee3",
   "metadata": {},
   "outputs": [],
   "source": [
    "'''y_train = train.logerror\n",
    "y_validate = validate.logerror\n",
    "y_test = test.logerror\n",
    "\n",
    "x_train = train.drop(columns=['logerror'])\n",
    "x_validate = validate.drop(columns=['logerror'])\n",
    "x_test = test.drop(columns=['logerror'])\n",
    "'''"
   ]
  },
  {
   "cell_type": "code",
   "execution_count": 19,
   "id": "68b0335a",
   "metadata": {},
   "outputs": [],
   "source": [
    "# train\n",
    "scaler = MinMaxScaler()\n",
    "\n",
    "scaler.fit(train[['bath', 'bed', 'square_feet', 'fullbathcnt', 'lot_square_feet', 'yearbuilt', 'appraisal', 'half_bath']])\n",
    "\n",
    "train_scaled = scaler.transform(train[['bath', 'bed', 'square_feet', 'fullbathcnt', 'lot_square_feet', 'yearbuilt', 'appraisal', 'half_bath']])"
   ]
  },
  {
   "cell_type": "code",
   "execution_count": 20,
   "id": "e45656a4",
   "metadata": {},
   "outputs": [],
   "source": [
    "# validate\n",
    "scaler = MinMaxScaler()\n",
    "\n",
    "scaler.fit(validate[['bath', 'bed', 'square_feet', 'fullbathcnt', 'lot_square_feet', 'yearbuilt', 'appraisal', 'half_bath']])\n",
    "\n",
    "validate_scaled = scaler.transform(validate[['bath', 'bed', 'square_feet', 'fullbathcnt', 'lot_square_feet', 'yearbuilt', 'appraisal', 'half_bath']])"
   ]
  },
  {
   "cell_type": "code",
   "execution_count": 21,
   "id": "09504162",
   "metadata": {},
   "outputs": [],
   "source": [
    "# test\n",
    "scaler = MinMaxScaler()\n",
    "\n",
    "scaler.fit(test[['bath', 'bed', 'square_feet', 'fullbathcnt', 'lot_square_feet', 'yearbuilt', 'appraisal', 'half_bath']])\n",
    "\n",
    "test_scaled = scaler.transform(test[['bath', 'bed', 'square_feet', 'fullbathcnt', 'lot_square_feet', 'yearbuilt', 'appraisal', 'half_bath']])"
   ]
  },
  {
   "cell_type": "code",
   "execution_count": 22,
   "id": "0f8ff835",
   "metadata": {},
   "outputs": [
    {
     "data": {
      "text/plain": [
       "array([[0.16666667, 0.36363636, 0.09673106, ..., 0.65942029, 0.00832497,\n",
       "        0.        ],\n",
       "       [0.5       , 0.36363636, 0.54400848, ..., 0.82608696, 0.14939166,\n",
       "        0.        ],\n",
       "       [0.08333333, 0.27272727, 0.05680299, ..., 0.5942029 , 0.01911794,\n",
       "        0.        ],\n",
       "       ...,\n",
       "       [0.25      , 0.36363636, 0.17059339, ..., 0.63043478, 0.09168171,\n",
       "        0.        ],\n",
       "       [0.08333333, 0.36363636, 0.05283784, ..., 0.61594203, 0.01437781,\n",
       "        0.        ],\n",
       "       [0.125     , 0.45454545, 0.09889806, ..., 0.63768116, 0.02803484,\n",
       "        0.14285714]])"
      ]
     },
     "execution_count": 22,
     "metadata": {},
     "output_type": "execute_result"
    }
   ],
   "source": [
    "train_scaled"
   ]
  },
  {
   "cell_type": "code",
   "execution_count": 29,
   "id": "b5277e18",
   "metadata": {},
   "outputs": [
    {
     "data": {
      "text/html": [
       "<div>\n",
       "<style scoped>\n",
       "    .dataframe tbody tr th:only-of-type {\n",
       "        vertical-align: middle;\n",
       "    }\n",
       "\n",
       "    .dataframe tbody tr th {\n",
       "        vertical-align: top;\n",
       "    }\n",
       "\n",
       "    .dataframe thead th {\n",
       "        text-align: right;\n",
       "    }\n",
       "</style>\n",
       "<table border=\"1\" class=\"dataframe\">\n",
       "  <thead>\n",
       "    <tr style=\"text-align: right;\">\n",
       "      <th></th>\n",
       "      <th>bath_scaled</th>\n",
       "      <th>bed_scaled</th>\n",
       "      <th>square_feet_scaled</th>\n",
       "      <th>fullbathcnt_scaled</th>\n",
       "      <th>lot_square_feet_scaled</th>\n",
       "      <th>yearbuilt_scaled</th>\n",
       "      <th>appraisal_scaled</th>\n",
       "      <th>half_bath_scaled</th>\n",
       "      <th>id</th>\n",
       "      <th>parcelid</th>\n",
       "      <th>bath</th>\n",
       "      <th>bed</th>\n",
       "      <th>square_feet</th>\n",
       "      <th>fullbathcnt</th>\n",
       "      <th>latitude</th>\n",
       "      <th>longitude</th>\n",
       "      <th>lot_square_feet</th>\n",
       "      <th>rawcensustractandblock</th>\n",
       "      <th>id_city</th>\n",
       "      <th>id_county</th>\n",
       "      <th>id_zip</th>\n",
       "      <th>yearbuilt</th>\n",
       "      <th>appraisal</th>\n",
       "      <th>assessmentyear</th>\n",
       "      <th>logerror</th>\n",
       "      <th>half_bath</th>\n",
       "      <th>LA County</th>\n",
       "      <th>Orange County</th>\n",
       "      <th>Ventura County</th>\n",
       "    </tr>\n",
       "  </thead>\n",
       "  <tbody>\n",
       "    <tr>\n",
       "      <th>44197</th>\n",
       "      <td>0.000000</td>\n",
       "      <td>0.222222</td>\n",
       "      <td>0.073761</td>\n",
       "      <td>0.000000</td>\n",
       "      <td>0.000637</td>\n",
       "      <td>0.488722</td>\n",
       "      <td>0.010455</td>\n",
       "      <td>0.0</td>\n",
       "      <td>2393021</td>\n",
       "      <td>12302820</td>\n",
       "      <td>1.0</td>\n",
       "      <td>2.0</td>\n",
       "      <td>1126.0</td>\n",
       "      <td>1.0</td>\n",
       "      <td>33940750.0</td>\n",
       "      <td>-118220611.0</td>\n",
       "      <td>4678.0</td>\n",
       "      <td>6.037536e+07</td>\n",
       "      <td>47762.0</td>\n",
       "      <td>3101.0</td>\n",
       "      <td>96125.0</td>\n",
       "      <td>1947.0</td>\n",
       "      <td>265150.0</td>\n",
       "      <td>2016.0</td>\n",
       "      <td>0.016056</td>\n",
       "      <td>0.0</td>\n",
       "      <td>1</td>\n",
       "      <td>0</td>\n",
       "      <td>0</td>\n",
       "    </tr>\n",
       "    <tr>\n",
       "      <th>43461</th>\n",
       "      <td>0.111111</td>\n",
       "      <td>0.333333</td>\n",
       "      <td>0.123141</td>\n",
       "      <td>0.111111</td>\n",
       "      <td>0.000823</td>\n",
       "      <td>0.578947</td>\n",
       "      <td>0.012338</td>\n",
       "      <td>0.0</td>\n",
       "      <td>1823556</td>\n",
       "      <td>11418342</td>\n",
       "      <td>2.0</td>\n",
       "      <td>3.0</td>\n",
       "      <td>1687.0</td>\n",
       "      <td>2.0</td>\n",
       "      <td>33921192.0</td>\n",
       "      <td>-118356806.0</td>\n",
       "      <td>5972.0</td>\n",
       "      <td>6.037602e+07</td>\n",
       "      <td>42150.0</td>\n",
       "      <td>3101.0</td>\n",
       "      <td>96107.0</td>\n",
       "      <td>1959.0</td>\n",
       "      <td>310048.0</td>\n",
       "      <td>2016.0</td>\n",
       "      <td>0.137172</td>\n",
       "      <td>0.0</td>\n",
       "      <td>1</td>\n",
       "      <td>0</td>\n",
       "      <td>0</td>\n",
       "    </tr>\n",
       "    <tr>\n",
       "      <th>19399</th>\n",
       "      <td>0.333333</td>\n",
       "      <td>0.444444</td>\n",
       "      <td>0.319338</td>\n",
       "      <td>0.333333</td>\n",
       "      <td>0.001257</td>\n",
       "      <td>0.917293</td>\n",
       "      <td>0.032594</td>\n",
       "      <td>0.0</td>\n",
       "      <td>2414836</td>\n",
       "      <td>17263461</td>\n",
       "      <td>4.0</td>\n",
       "      <td>4.0</td>\n",
       "      <td>3916.0</td>\n",
       "      <td>4.0</td>\n",
       "      <td>34263747.0</td>\n",
       "      <td>-118682712.0</td>\n",
       "      <td>8998.0</td>\n",
       "      <td>6.111008e+07</td>\n",
       "      <td>27110.0</td>\n",
       "      <td>2061.0</td>\n",
       "      <td>97116.0</td>\n",
       "      <td>2004.0</td>\n",
       "      <td>793000.0</td>\n",
       "      <td>2016.0</td>\n",
       "      <td>0.036370</td>\n",
       "      <td>0.0</td>\n",
       "      <td>0</td>\n",
       "      <td>0</td>\n",
       "      <td>1</td>\n",
       "    </tr>\n",
       "    <tr>\n",
       "      <th>50533</th>\n",
       "      <td>0.111111</td>\n",
       "      <td>0.444444</td>\n",
       "      <td>0.097879</td>\n",
       "      <td>0.111111</td>\n",
       "      <td>0.000683</td>\n",
       "      <td>0.676692</td>\n",
       "      <td>0.018402</td>\n",
       "      <td>0.0</td>\n",
       "      <td>1399441</td>\n",
       "      <td>14372753</td>\n",
       "      <td>2.0</td>\n",
       "      <td>4.0</td>\n",
       "      <td>1400.0</td>\n",
       "      <td>2.0</td>\n",
       "      <td>33634590.0</td>\n",
       "      <td>-117686058.0</td>\n",
       "      <td>5000.0</td>\n",
       "      <td>6.059052e+07</td>\n",
       "      <td>32380.0</td>\n",
       "      <td>1286.0</td>\n",
       "      <td>96962.0</td>\n",
       "      <td>1972.0</td>\n",
       "      <td>454616.0</td>\n",
       "      <td>2016.0</td>\n",
       "      <td>0.032161</td>\n",
       "      <td>0.0</td>\n",
       "      <td>0</td>\n",
       "      <td>1</td>\n",
       "      <td>0</td>\n",
       "    </tr>\n",
       "    <tr>\n",
       "      <th>24891</th>\n",
       "      <td>0.444444</td>\n",
       "      <td>0.555556</td>\n",
       "      <td>0.362908</td>\n",
       "      <td>0.444444</td>\n",
       "      <td>0.006231</td>\n",
       "      <td>0.924812</td>\n",
       "      <td>0.018626</td>\n",
       "      <td>0.0</td>\n",
       "      <td>372156</td>\n",
       "      <td>11239786</td>\n",
       "      <td>5.0</td>\n",
       "      <td>5.0</td>\n",
       "      <td>4411.0</td>\n",
       "      <td>5.0</td>\n",
       "      <td>34542642.0</td>\n",
       "      <td>-118118287.0</td>\n",
       "      <td>43672.0</td>\n",
       "      <td>6.037910e+07</td>\n",
       "      <td>40227.0</td>\n",
       "      <td>3101.0</td>\n",
       "      <td>97328.0</td>\n",
       "      <td>2005.0</td>\n",
       "      <td>459958.0</td>\n",
       "      <td>2016.0</td>\n",
       "      <td>0.017489</td>\n",
       "      <td>0.0</td>\n",
       "      <td>1</td>\n",
       "      <td>0</td>\n",
       "      <td>0</td>\n",
       "    </tr>\n",
       "    <tr>\n",
       "      <th>...</th>\n",
       "      <td>...</td>\n",
       "      <td>...</td>\n",
       "      <td>...</td>\n",
       "      <td>...</td>\n",
       "      <td>...</td>\n",
       "      <td>...</td>\n",
       "      <td>...</td>\n",
       "      <td>...</td>\n",
       "      <td>...</td>\n",
       "      <td>...</td>\n",
       "      <td>...</td>\n",
       "      <td>...</td>\n",
       "      <td>...</td>\n",
       "      <td>...</td>\n",
       "      <td>...</td>\n",
       "      <td>...</td>\n",
       "      <td>...</td>\n",
       "      <td>...</td>\n",
       "      <td>...</td>\n",
       "      <td>...</td>\n",
       "      <td>...</td>\n",
       "      <td>...</td>\n",
       "      <td>...</td>\n",
       "      <td>...</td>\n",
       "      <td>...</td>\n",
       "      <td>...</td>\n",
       "      <td>...</td>\n",
       "      <td>...</td>\n",
       "      <td>...</td>\n",
       "    </tr>\n",
       "    <tr>\n",
       "      <th>16014</th>\n",
       "      <td>0.111111</td>\n",
       "      <td>0.333333</td>\n",
       "      <td>0.080979</td>\n",
       "      <td>0.111111</td>\n",
       "      <td>0.001001</td>\n",
       "      <td>0.646617</td>\n",
       "      <td>0.018963</td>\n",
       "      <td>0.0</td>\n",
       "      <td>2827582</td>\n",
       "      <td>12851382</td>\n",
       "      <td>2.0</td>\n",
       "      <td>3.0</td>\n",
       "      <td>1208.0</td>\n",
       "      <td>2.0</td>\n",
       "      <td>33979491.0</td>\n",
       "      <td>-117887986.0</td>\n",
       "      <td>7211.0</td>\n",
       "      <td>6.037409e+07</td>\n",
       "      <td>22827.0</td>\n",
       "      <td>3101.0</td>\n",
       "      <td>96492.0</td>\n",
       "      <td>1968.0</td>\n",
       "      <td>468000.0</td>\n",
       "      <td>2016.0</td>\n",
       "      <td>0.182098</td>\n",
       "      <td>0.0</td>\n",
       "      <td>1</td>\n",
       "      <td>0</td>\n",
       "      <td>0</td>\n",
       "    </tr>\n",
       "    <tr>\n",
       "      <th>19827</th>\n",
       "      <td>0.111111</td>\n",
       "      <td>0.444444</td>\n",
       "      <td>0.129830</td>\n",
       "      <td>0.111111</td>\n",
       "      <td>0.006198</td>\n",
       "      <td>0.781955</td>\n",
       "      <td>0.002164</td>\n",
       "      <td>0.0</td>\n",
       "      <td>1793250</td>\n",
       "      <td>11242226</td>\n",
       "      <td>2.0</td>\n",
       "      <td>4.0</td>\n",
       "      <td>1763.0</td>\n",
       "      <td>2.0</td>\n",
       "      <td>34494908.0</td>\n",
       "      <td>-118159875.0</td>\n",
       "      <td>43444.0</td>\n",
       "      <td>6.037911e+07</td>\n",
       "      <td>16677.0</td>\n",
       "      <td>3101.0</td>\n",
       "      <td>97298.0</td>\n",
       "      <td>1986.0</td>\n",
       "      <td>67465.0</td>\n",
       "      <td>2016.0</td>\n",
       "      <td>-0.026999</td>\n",
       "      <td>0.0</td>\n",
       "      <td>1</td>\n",
       "      <td>0</td>\n",
       "      <td>0</td>\n",
       "    </tr>\n",
       "    <tr>\n",
       "      <th>50376</th>\n",
       "      <td>0.111111</td>\n",
       "      <td>0.333333</td>\n",
       "      <td>0.076226</td>\n",
       "      <td>0.111111</td>\n",
       "      <td>0.000986</td>\n",
       "      <td>0.578947</td>\n",
       "      <td>0.007390</td>\n",
       "      <td>0.0</td>\n",
       "      <td>2248404</td>\n",
       "      <td>14063188</td>\n",
       "      <td>2.0</td>\n",
       "      <td>3.0</td>\n",
       "      <td>1154.0</td>\n",
       "      <td>2.0</td>\n",
       "      <td>33696326.0</td>\n",
       "      <td>-117984848.0</td>\n",
       "      <td>7110.0</td>\n",
       "      <td>6.059099e+07</td>\n",
       "      <td>25218.0</td>\n",
       "      <td>1286.0</td>\n",
       "      <td>96964.0</td>\n",
       "      <td>1959.0</td>\n",
       "      <td>192067.0</td>\n",
       "      <td>2016.0</td>\n",
       "      <td>0.058211</td>\n",
       "      <td>0.0</td>\n",
       "      <td>0</td>\n",
       "      <td>1</td>\n",
       "      <td>0</td>\n",
       "    </tr>\n",
       "    <tr>\n",
       "      <th>28971</th>\n",
       "      <td>0.111111</td>\n",
       "      <td>0.333333</td>\n",
       "      <td>0.137488</td>\n",
       "      <td>0.111111</td>\n",
       "      <td>0.001322</td>\n",
       "      <td>0.578947</td>\n",
       "      <td>0.016245</td>\n",
       "      <td>0.0</td>\n",
       "      <td>2806016</td>\n",
       "      <td>11053574</td>\n",
       "      <td>2.0</td>\n",
       "      <td>3.0</td>\n",
       "      <td>1850.0</td>\n",
       "      <td>2.0</td>\n",
       "      <td>34230420.0</td>\n",
       "      <td>-118477226.0</td>\n",
       "      <td>9449.0</td>\n",
       "      <td>6.037117e+07</td>\n",
       "      <td>12447.0</td>\n",
       "      <td>3101.0</td>\n",
       "      <td>96369.0</td>\n",
       "      <td>1959.0</td>\n",
       "      <td>403194.0</td>\n",
       "      <td>2016.0</td>\n",
       "      <td>-0.002942</td>\n",
       "      <td>0.0</td>\n",
       "      <td>1</td>\n",
       "      <td>0</td>\n",
       "      <td>0</td>\n",
       "    </tr>\n",
       "    <tr>\n",
       "      <th>48872</th>\n",
       "      <td>0.000000</td>\n",
       "      <td>0.333333</td>\n",
       "      <td>0.078690</td>\n",
       "      <td>0.000000</td>\n",
       "      <td>0.000581</td>\n",
       "      <td>0.330827</td>\n",
       "      <td>0.012004</td>\n",
       "      <td>0.0</td>\n",
       "      <td>2095994</td>\n",
       "      <td>12524546</td>\n",
       "      <td>1.0</td>\n",
       "      <td>3.0</td>\n",
       "      <td>1182.0</td>\n",
       "      <td>1.0</td>\n",
       "      <td>33780971.0</td>\n",
       "      <td>-118142501.0</td>\n",
       "      <td>4287.0</td>\n",
       "      <td>6.037577e+07</td>\n",
       "      <td>46298.0</td>\n",
       "      <td>3101.0</td>\n",
       "      <td>96238.0</td>\n",
       "      <td>1926.0</td>\n",
       "      <td>302086.0</td>\n",
       "      <td>2016.0</td>\n",
       "      <td>-0.095595</td>\n",
       "      <td>0.0</td>\n",
       "      <td>1</td>\n",
       "      <td>0</td>\n",
       "      <td>0</td>\n",
       "    </tr>\n",
       "  </tbody>\n",
       "</table>\n",
       "<p>7584 rows × 29 columns</p>\n",
       "</div>"
      ],
      "text/plain": [
       "       bath_scaled  bed_scaled  square_feet_scaled  fullbathcnt_scaled  \\\n",
       "44197     0.000000    0.222222            0.073761            0.000000   \n",
       "43461     0.111111    0.333333            0.123141            0.111111   \n",
       "19399     0.333333    0.444444            0.319338            0.333333   \n",
       "50533     0.111111    0.444444            0.097879            0.111111   \n",
       "24891     0.444444    0.555556            0.362908            0.444444   \n",
       "...            ...         ...                 ...                 ...   \n",
       "16014     0.111111    0.333333            0.080979            0.111111   \n",
       "19827     0.111111    0.444444            0.129830            0.111111   \n",
       "50376     0.111111    0.333333            0.076226            0.111111   \n",
       "28971     0.111111    0.333333            0.137488            0.111111   \n",
       "48872     0.000000    0.333333            0.078690            0.000000   \n",
       "\n",
       "       lot_square_feet_scaled  yearbuilt_scaled  appraisal_scaled  \\\n",
       "44197                0.000637          0.488722          0.010455   \n",
       "43461                0.000823          0.578947          0.012338   \n",
       "19399                0.001257          0.917293          0.032594   \n",
       "50533                0.000683          0.676692          0.018402   \n",
       "24891                0.006231          0.924812          0.018626   \n",
       "...                       ...               ...               ...   \n",
       "16014                0.001001          0.646617          0.018963   \n",
       "19827                0.006198          0.781955          0.002164   \n",
       "50376                0.000986          0.578947          0.007390   \n",
       "28971                0.001322          0.578947          0.016245   \n",
       "48872                0.000581          0.330827          0.012004   \n",
       "\n",
       "       half_bath_scaled       id  parcelid  bath  bed  square_feet  \\\n",
       "44197               0.0  2393021  12302820   1.0  2.0       1126.0   \n",
       "43461               0.0  1823556  11418342   2.0  3.0       1687.0   \n",
       "19399               0.0  2414836  17263461   4.0  4.0       3916.0   \n",
       "50533               0.0  1399441  14372753   2.0  4.0       1400.0   \n",
       "24891               0.0   372156  11239786   5.0  5.0       4411.0   \n",
       "...                 ...      ...       ...   ...  ...          ...   \n",
       "16014               0.0  2827582  12851382   2.0  3.0       1208.0   \n",
       "19827               0.0  1793250  11242226   2.0  4.0       1763.0   \n",
       "50376               0.0  2248404  14063188   2.0  3.0       1154.0   \n",
       "28971               0.0  2806016  11053574   2.0  3.0       1850.0   \n",
       "48872               0.0  2095994  12524546   1.0  3.0       1182.0   \n",
       "\n",
       "       fullbathcnt    latitude    longitude  lot_square_feet  \\\n",
       "44197          1.0  33940750.0 -118220611.0           4678.0   \n",
       "43461          2.0  33921192.0 -118356806.0           5972.0   \n",
       "19399          4.0  34263747.0 -118682712.0           8998.0   \n",
       "50533          2.0  33634590.0 -117686058.0           5000.0   \n",
       "24891          5.0  34542642.0 -118118287.0          43672.0   \n",
       "...            ...         ...          ...              ...   \n",
       "16014          2.0  33979491.0 -117887986.0           7211.0   \n",
       "19827          2.0  34494908.0 -118159875.0          43444.0   \n",
       "50376          2.0  33696326.0 -117984848.0           7110.0   \n",
       "28971          2.0  34230420.0 -118477226.0           9449.0   \n",
       "48872          1.0  33780971.0 -118142501.0           4287.0   \n",
       "\n",
       "       rawcensustractandblock  id_city  id_county   id_zip  yearbuilt  \\\n",
       "44197            6.037536e+07  47762.0     3101.0  96125.0     1947.0   \n",
       "43461            6.037602e+07  42150.0     3101.0  96107.0     1959.0   \n",
       "19399            6.111008e+07  27110.0     2061.0  97116.0     2004.0   \n",
       "50533            6.059052e+07  32380.0     1286.0  96962.0     1972.0   \n",
       "24891            6.037910e+07  40227.0     3101.0  97328.0     2005.0   \n",
       "...                       ...      ...        ...      ...        ...   \n",
       "16014            6.037409e+07  22827.0     3101.0  96492.0     1968.0   \n",
       "19827            6.037911e+07  16677.0     3101.0  97298.0     1986.0   \n",
       "50376            6.059099e+07  25218.0     1286.0  96964.0     1959.0   \n",
       "28971            6.037117e+07  12447.0     3101.0  96369.0     1959.0   \n",
       "48872            6.037577e+07  46298.0     3101.0  96238.0     1926.0   \n",
       "\n",
       "       appraisal  assessmentyear  logerror  half_bath  LA County  \\\n",
       "44197   265150.0          2016.0  0.016056        0.0          1   \n",
       "43461   310048.0          2016.0  0.137172        0.0          1   \n",
       "19399   793000.0          2016.0  0.036370        0.0          0   \n",
       "50533   454616.0          2016.0  0.032161        0.0          0   \n",
       "24891   459958.0          2016.0  0.017489        0.0          1   \n",
       "...          ...             ...       ...        ...        ...   \n",
       "16014   468000.0          2016.0  0.182098        0.0          1   \n",
       "19827    67465.0          2016.0 -0.026999        0.0          1   \n",
       "50376   192067.0          2016.0  0.058211        0.0          0   \n",
       "28971   403194.0          2016.0 -0.002942        0.0          1   \n",
       "48872   302086.0          2016.0 -0.095595        0.0          1   \n",
       "\n",
       "       Orange County  Ventura County  \n",
       "44197              0               0  \n",
       "43461              0               0  \n",
       "19399              0               1  \n",
       "50533              1               0  \n",
       "24891              0               0  \n",
       "...              ...             ...  \n",
       "16014              0               0  \n",
       "19827              0               0  \n",
       "50376              1               0  \n",
       "28971              0               0  \n",
       "48872              0               0  \n",
       "\n",
       "[7584 rows x 29 columns]"
      ]
     },
     "execution_count": 29,
     "metadata": {},
     "output_type": "execute_result"
    }
   ],
   "source": [
    "validate_scaled"
   ]
  },
  {
   "cell_type": "code",
   "execution_count": 24,
   "id": "45c4f688",
   "metadata": {},
   "outputs": [
    {
     "data": {
      "text/html": [
       "<div>\n",
       "<style scoped>\n",
       "    .dataframe tbody tr th:only-of-type {\n",
       "        vertical-align: middle;\n",
       "    }\n",
       "\n",
       "    .dataframe tbody tr th {\n",
       "        vertical-align: top;\n",
       "    }\n",
       "\n",
       "    .dataframe thead th {\n",
       "        text-align: right;\n",
       "    }\n",
       "</style>\n",
       "<table border=\"1\" class=\"dataframe\">\n",
       "  <thead>\n",
       "    <tr style=\"text-align: right;\">\n",
       "      <th></th>\n",
       "      <th>id</th>\n",
       "      <th>parcelid</th>\n",
       "      <th>bath</th>\n",
       "      <th>bed</th>\n",
       "      <th>square_feet</th>\n",
       "      <th>fullbathcnt</th>\n",
       "      <th>latitude</th>\n",
       "      <th>longitude</th>\n",
       "      <th>lot_square_feet</th>\n",
       "      <th>rawcensustractandblock</th>\n",
       "      <th>id_city</th>\n",
       "      <th>id_county</th>\n",
       "      <th>id_zip</th>\n",
       "      <th>yearbuilt</th>\n",
       "      <th>appraisal</th>\n",
       "      <th>assessmentyear</th>\n",
       "      <th>logerror</th>\n",
       "      <th>half_bath</th>\n",
       "      <th>LA County</th>\n",
       "      <th>Orange County</th>\n",
       "      <th>Ventura County</th>\n",
       "    </tr>\n",
       "  </thead>\n",
       "  <tbody>\n",
       "    <tr>\n",
       "      <th>44197</th>\n",
       "      <td>2393021</td>\n",
       "      <td>12302820</td>\n",
       "      <td>1.0</td>\n",
       "      <td>2.0</td>\n",
       "      <td>1126.0</td>\n",
       "      <td>1.0</td>\n",
       "      <td>33940750.0</td>\n",
       "      <td>-118220611.0</td>\n",
       "      <td>4678.0</td>\n",
       "      <td>6.037536e+07</td>\n",
       "      <td>47762.0</td>\n",
       "      <td>3101.0</td>\n",
       "      <td>96125.0</td>\n",
       "      <td>1947.0</td>\n",
       "      <td>265150.0</td>\n",
       "      <td>2016.0</td>\n",
       "      <td>0.016056</td>\n",
       "      <td>0.0</td>\n",
       "      <td>1</td>\n",
       "      <td>0</td>\n",
       "      <td>0</td>\n",
       "    </tr>\n",
       "    <tr>\n",
       "      <th>43461</th>\n",
       "      <td>1823556</td>\n",
       "      <td>11418342</td>\n",
       "      <td>2.0</td>\n",
       "      <td>3.0</td>\n",
       "      <td>1687.0</td>\n",
       "      <td>2.0</td>\n",
       "      <td>33921192.0</td>\n",
       "      <td>-118356806.0</td>\n",
       "      <td>5972.0</td>\n",
       "      <td>6.037602e+07</td>\n",
       "      <td>42150.0</td>\n",
       "      <td>3101.0</td>\n",
       "      <td>96107.0</td>\n",
       "      <td>1959.0</td>\n",
       "      <td>310048.0</td>\n",
       "      <td>2016.0</td>\n",
       "      <td>0.137172</td>\n",
       "      <td>0.0</td>\n",
       "      <td>1</td>\n",
       "      <td>0</td>\n",
       "      <td>0</td>\n",
       "    </tr>\n",
       "    <tr>\n",
       "      <th>19399</th>\n",
       "      <td>2414836</td>\n",
       "      <td>17263461</td>\n",
       "      <td>4.0</td>\n",
       "      <td>4.0</td>\n",
       "      <td>3916.0</td>\n",
       "      <td>4.0</td>\n",
       "      <td>34263747.0</td>\n",
       "      <td>-118682712.0</td>\n",
       "      <td>8998.0</td>\n",
       "      <td>6.111008e+07</td>\n",
       "      <td>27110.0</td>\n",
       "      <td>2061.0</td>\n",
       "      <td>97116.0</td>\n",
       "      <td>2004.0</td>\n",
       "      <td>793000.0</td>\n",
       "      <td>2016.0</td>\n",
       "      <td>0.036370</td>\n",
       "      <td>0.0</td>\n",
       "      <td>0</td>\n",
       "      <td>0</td>\n",
       "      <td>1</td>\n",
       "    </tr>\n",
       "    <tr>\n",
       "      <th>50533</th>\n",
       "      <td>1399441</td>\n",
       "      <td>14372753</td>\n",
       "      <td>2.0</td>\n",
       "      <td>4.0</td>\n",
       "      <td>1400.0</td>\n",
       "      <td>2.0</td>\n",
       "      <td>33634590.0</td>\n",
       "      <td>-117686058.0</td>\n",
       "      <td>5000.0</td>\n",
       "      <td>6.059052e+07</td>\n",
       "      <td>32380.0</td>\n",
       "      <td>1286.0</td>\n",
       "      <td>96962.0</td>\n",
       "      <td>1972.0</td>\n",
       "      <td>454616.0</td>\n",
       "      <td>2016.0</td>\n",
       "      <td>0.032161</td>\n",
       "      <td>0.0</td>\n",
       "      <td>0</td>\n",
       "      <td>1</td>\n",
       "      <td>0</td>\n",
       "    </tr>\n",
       "    <tr>\n",
       "      <th>24891</th>\n",
       "      <td>372156</td>\n",
       "      <td>11239786</td>\n",
       "      <td>5.0</td>\n",
       "      <td>5.0</td>\n",
       "      <td>4411.0</td>\n",
       "      <td>5.0</td>\n",
       "      <td>34542642.0</td>\n",
       "      <td>-118118287.0</td>\n",
       "      <td>43672.0</td>\n",
       "      <td>6.037910e+07</td>\n",
       "      <td>40227.0</td>\n",
       "      <td>3101.0</td>\n",
       "      <td>97328.0</td>\n",
       "      <td>2005.0</td>\n",
       "      <td>459958.0</td>\n",
       "      <td>2016.0</td>\n",
       "      <td>0.017489</td>\n",
       "      <td>0.0</td>\n",
       "      <td>1</td>\n",
       "      <td>0</td>\n",
       "      <td>0</td>\n",
       "    </tr>\n",
       "    <tr>\n",
       "      <th>...</th>\n",
       "      <td>...</td>\n",
       "      <td>...</td>\n",
       "      <td>...</td>\n",
       "      <td>...</td>\n",
       "      <td>...</td>\n",
       "      <td>...</td>\n",
       "      <td>...</td>\n",
       "      <td>...</td>\n",
       "      <td>...</td>\n",
       "      <td>...</td>\n",
       "      <td>...</td>\n",
       "      <td>...</td>\n",
       "      <td>...</td>\n",
       "      <td>...</td>\n",
       "      <td>...</td>\n",
       "      <td>...</td>\n",
       "      <td>...</td>\n",
       "      <td>...</td>\n",
       "      <td>...</td>\n",
       "      <td>...</td>\n",
       "      <td>...</td>\n",
       "    </tr>\n",
       "    <tr>\n",
       "      <th>16014</th>\n",
       "      <td>2827582</td>\n",
       "      <td>12851382</td>\n",
       "      <td>2.0</td>\n",
       "      <td>3.0</td>\n",
       "      <td>1208.0</td>\n",
       "      <td>2.0</td>\n",
       "      <td>33979491.0</td>\n",
       "      <td>-117887986.0</td>\n",
       "      <td>7211.0</td>\n",
       "      <td>6.037409e+07</td>\n",
       "      <td>22827.0</td>\n",
       "      <td>3101.0</td>\n",
       "      <td>96492.0</td>\n",
       "      <td>1968.0</td>\n",
       "      <td>468000.0</td>\n",
       "      <td>2016.0</td>\n",
       "      <td>0.182098</td>\n",
       "      <td>0.0</td>\n",
       "      <td>1</td>\n",
       "      <td>0</td>\n",
       "      <td>0</td>\n",
       "    </tr>\n",
       "    <tr>\n",
       "      <th>19827</th>\n",
       "      <td>1793250</td>\n",
       "      <td>11242226</td>\n",
       "      <td>2.0</td>\n",
       "      <td>4.0</td>\n",
       "      <td>1763.0</td>\n",
       "      <td>2.0</td>\n",
       "      <td>34494908.0</td>\n",
       "      <td>-118159875.0</td>\n",
       "      <td>43444.0</td>\n",
       "      <td>6.037911e+07</td>\n",
       "      <td>16677.0</td>\n",
       "      <td>3101.0</td>\n",
       "      <td>97298.0</td>\n",
       "      <td>1986.0</td>\n",
       "      <td>67465.0</td>\n",
       "      <td>2016.0</td>\n",
       "      <td>-0.026999</td>\n",
       "      <td>0.0</td>\n",
       "      <td>1</td>\n",
       "      <td>0</td>\n",
       "      <td>0</td>\n",
       "    </tr>\n",
       "    <tr>\n",
       "      <th>50376</th>\n",
       "      <td>2248404</td>\n",
       "      <td>14063188</td>\n",
       "      <td>2.0</td>\n",
       "      <td>3.0</td>\n",
       "      <td>1154.0</td>\n",
       "      <td>2.0</td>\n",
       "      <td>33696326.0</td>\n",
       "      <td>-117984848.0</td>\n",
       "      <td>7110.0</td>\n",
       "      <td>6.059099e+07</td>\n",
       "      <td>25218.0</td>\n",
       "      <td>1286.0</td>\n",
       "      <td>96964.0</td>\n",
       "      <td>1959.0</td>\n",
       "      <td>192067.0</td>\n",
       "      <td>2016.0</td>\n",
       "      <td>0.058211</td>\n",
       "      <td>0.0</td>\n",
       "      <td>0</td>\n",
       "      <td>1</td>\n",
       "      <td>0</td>\n",
       "    </tr>\n",
       "    <tr>\n",
       "      <th>28971</th>\n",
       "      <td>2806016</td>\n",
       "      <td>11053574</td>\n",
       "      <td>2.0</td>\n",
       "      <td>3.0</td>\n",
       "      <td>1850.0</td>\n",
       "      <td>2.0</td>\n",
       "      <td>34230420.0</td>\n",
       "      <td>-118477226.0</td>\n",
       "      <td>9449.0</td>\n",
       "      <td>6.037117e+07</td>\n",
       "      <td>12447.0</td>\n",
       "      <td>3101.0</td>\n",
       "      <td>96369.0</td>\n",
       "      <td>1959.0</td>\n",
       "      <td>403194.0</td>\n",
       "      <td>2016.0</td>\n",
       "      <td>-0.002942</td>\n",
       "      <td>0.0</td>\n",
       "      <td>1</td>\n",
       "      <td>0</td>\n",
       "      <td>0</td>\n",
       "    </tr>\n",
       "    <tr>\n",
       "      <th>48872</th>\n",
       "      <td>2095994</td>\n",
       "      <td>12524546</td>\n",
       "      <td>1.0</td>\n",
       "      <td>3.0</td>\n",
       "      <td>1182.0</td>\n",
       "      <td>1.0</td>\n",
       "      <td>33780971.0</td>\n",
       "      <td>-118142501.0</td>\n",
       "      <td>4287.0</td>\n",
       "      <td>6.037577e+07</td>\n",
       "      <td>46298.0</td>\n",
       "      <td>3101.0</td>\n",
       "      <td>96238.0</td>\n",
       "      <td>1926.0</td>\n",
       "      <td>302086.0</td>\n",
       "      <td>2016.0</td>\n",
       "      <td>-0.095595</td>\n",
       "      <td>0.0</td>\n",
       "      <td>1</td>\n",
       "      <td>0</td>\n",
       "      <td>0</td>\n",
       "    </tr>\n",
       "  </tbody>\n",
       "</table>\n",
       "<p>7584 rows × 21 columns</p>\n",
       "</div>"
      ],
      "text/plain": [
       "            id  parcelid  bath  bed  square_feet  fullbathcnt    latitude  \\\n",
       "44197  2393021  12302820   1.0  2.0       1126.0          1.0  33940750.0   \n",
       "43461  1823556  11418342   2.0  3.0       1687.0          2.0  33921192.0   \n",
       "19399  2414836  17263461   4.0  4.0       3916.0          4.0  34263747.0   \n",
       "50533  1399441  14372753   2.0  4.0       1400.0          2.0  33634590.0   \n",
       "24891   372156  11239786   5.0  5.0       4411.0          5.0  34542642.0   \n",
       "...        ...       ...   ...  ...          ...          ...         ...   \n",
       "16014  2827582  12851382   2.0  3.0       1208.0          2.0  33979491.0   \n",
       "19827  1793250  11242226   2.0  4.0       1763.0          2.0  34494908.0   \n",
       "50376  2248404  14063188   2.0  3.0       1154.0          2.0  33696326.0   \n",
       "28971  2806016  11053574   2.0  3.0       1850.0          2.0  34230420.0   \n",
       "48872  2095994  12524546   1.0  3.0       1182.0          1.0  33780971.0   \n",
       "\n",
       "         longitude  lot_square_feet  rawcensustractandblock  id_city  \\\n",
       "44197 -118220611.0           4678.0            6.037536e+07  47762.0   \n",
       "43461 -118356806.0           5972.0            6.037602e+07  42150.0   \n",
       "19399 -118682712.0           8998.0            6.111008e+07  27110.0   \n",
       "50533 -117686058.0           5000.0            6.059052e+07  32380.0   \n",
       "24891 -118118287.0          43672.0            6.037910e+07  40227.0   \n",
       "...            ...              ...                     ...      ...   \n",
       "16014 -117887986.0           7211.0            6.037409e+07  22827.0   \n",
       "19827 -118159875.0          43444.0            6.037911e+07  16677.0   \n",
       "50376 -117984848.0           7110.0            6.059099e+07  25218.0   \n",
       "28971 -118477226.0           9449.0            6.037117e+07  12447.0   \n",
       "48872 -118142501.0           4287.0            6.037577e+07  46298.0   \n",
       "\n",
       "       id_county   id_zip  yearbuilt  appraisal  assessmentyear  logerror  \\\n",
       "44197     3101.0  96125.0     1947.0   265150.0          2016.0  0.016056   \n",
       "43461     3101.0  96107.0     1959.0   310048.0          2016.0  0.137172   \n",
       "19399     2061.0  97116.0     2004.0   793000.0          2016.0  0.036370   \n",
       "50533     1286.0  96962.0     1972.0   454616.0          2016.0  0.032161   \n",
       "24891     3101.0  97328.0     2005.0   459958.0          2016.0  0.017489   \n",
       "...          ...      ...        ...        ...             ...       ...   \n",
       "16014     3101.0  96492.0     1968.0   468000.0          2016.0  0.182098   \n",
       "19827     3101.0  97298.0     1986.0    67465.0          2016.0 -0.026999   \n",
       "50376     1286.0  96964.0     1959.0   192067.0          2016.0  0.058211   \n",
       "28971     3101.0  96369.0     1959.0   403194.0          2016.0 -0.002942   \n",
       "48872     3101.0  96238.0     1926.0   302086.0          2016.0 -0.095595   \n",
       "\n",
       "       half_bath  LA County  Orange County  Ventura County  \n",
       "44197        0.0          1              0               0  \n",
       "43461        0.0          1              0               0  \n",
       "19399        0.0          0              0               1  \n",
       "50533        0.0          0              1               0  \n",
       "24891        0.0          1              0               0  \n",
       "...          ...        ...            ...             ...  \n",
       "16014        0.0          1              0               0  \n",
       "19827        0.0          1              0               0  \n",
       "50376        0.0          0              1               0  \n",
       "28971        0.0          1              0               0  \n",
       "48872        0.0          1              0               0  \n",
       "\n",
       "[7584 rows x 21 columns]"
      ]
     },
     "execution_count": 24,
     "metadata": {},
     "output_type": "execute_result"
    }
   ],
   "source": [
    "validate"
   ]
  },
  {
   "cell_type": "code",
   "execution_count": 25,
   "id": "fd38b594",
   "metadata": {},
   "outputs": [],
   "source": [
    "# turn scaled data back into DF\n",
    "\n",
    "train_scaled = pd.DataFrame(train_scaled, index=train.index, columns=['bath_scaled', 'bed_scaled', 'square_feet_scaled', 'fullbathcnt_scaled', 'lot_square_feet_scaled', 'yearbuilt_scaled', 'appraisal_scaled', 'half_bath_scaled'])\n",
    "validate_scaled = pd.DataFrame(validate_scaled, index=validate.index, columns=['bath_scaled', 'bed_scaled', 'square_feet_scaled', 'fullbathcnt_scaled', 'lot_square_feet_scaled', 'yearbuilt_scaled', 'appraisal_scaled', 'half_bath_scaled'])\n",
    "test_scaled = pd.DataFrame(test_scaled, index=validate.index, columns=['bath_scaled', 'bed_scaled', 'square_feet_scaled', 'fullbathcnt_scaled', 'lot_square_feet_scaled', 'yearbuilt_scaled', 'appraisal_scaled', 'half_bath_scaled'])"
   ]
  },
  {
   "cell_type": "code",
   "execution_count": 24,
   "id": "966bd55a",
   "metadata": {},
   "outputs": [
    {
     "data": {
      "text/html": [
       "<div>\n",
       "<style scoped>\n",
       "    .dataframe tbody tr th:only-of-type {\n",
       "        vertical-align: middle;\n",
       "    }\n",
       "\n",
       "    .dataframe tbody tr th {\n",
       "        vertical-align: top;\n",
       "    }\n",
       "\n",
       "    .dataframe thead th {\n",
       "        text-align: right;\n",
       "    }\n",
       "</style>\n",
       "<table border=\"1\" class=\"dataframe\">\n",
       "  <thead>\n",
       "    <tr style=\"text-align: right;\">\n",
       "      <th></th>\n",
       "      <th>bath_scaled</th>\n",
       "      <th>bed_scaled</th>\n",
       "      <th>square_feet_scaled</th>\n",
       "      <th>fullbathcnt_scaled</th>\n",
       "      <th>lot_square_feet_scaled</th>\n",
       "      <th>yearbuilt_scaled</th>\n",
       "      <th>appraisal_scaled</th>\n",
       "      <th>half_bath_scaled</th>\n",
       "    </tr>\n",
       "  </thead>\n",
       "  <tbody>\n",
       "    <tr>\n",
       "      <th>12591</th>\n",
       "      <td>0.166667</td>\n",
       "      <td>0.363636</td>\n",
       "      <td>0.096731</td>\n",
       "      <td>0.166667</td>\n",
       "      <td>0.001388</td>\n",
       "      <td>0.659420</td>\n",
       "      <td>0.008325</td>\n",
       "      <td>0.0</td>\n",
       "    </tr>\n",
       "    <tr>\n",
       "      <th>2778</th>\n",
       "      <td>0.500000</td>\n",
       "      <td>0.363636</td>\n",
       "      <td>0.544008</td>\n",
       "      <td>0.500000</td>\n",
       "      <td>0.005330</td>\n",
       "      <td>0.826087</td>\n",
       "      <td>0.149392</td>\n",
       "      <td>0.0</td>\n",
       "    </tr>\n",
       "    <tr>\n",
       "      <th>30932</th>\n",
       "      <td>0.083333</td>\n",
       "      <td>0.272727</td>\n",
       "      <td>0.056803</td>\n",
       "      <td>0.083333</td>\n",
       "      <td>0.000821</td>\n",
       "      <td>0.594203</td>\n",
       "      <td>0.019118</td>\n",
       "      <td>0.0</td>\n",
       "    </tr>\n",
       "    <tr>\n",
       "      <th>48667</th>\n",
       "      <td>0.083333</td>\n",
       "      <td>0.272727</td>\n",
       "      <td>0.084836</td>\n",
       "      <td>0.083333</td>\n",
       "      <td>0.001596</td>\n",
       "      <td>0.710145</td>\n",
       "      <td>0.013194</td>\n",
       "      <td>0.0</td>\n",
       "    </tr>\n",
       "    <tr>\n",
       "      <th>5836</th>\n",
       "      <td>0.083333</td>\n",
       "      <td>0.272727</td>\n",
       "      <td>0.052930</td>\n",
       "      <td>0.083333</td>\n",
       "      <td>0.000971</td>\n",
       "      <td>0.586957</td>\n",
       "      <td>0.002350</td>\n",
       "      <td>0.0</td>\n",
       "    </tr>\n",
       "  </tbody>\n",
       "</table>\n",
       "</div>"
      ],
      "text/plain": [
       "       bath_scaled  bed_scaled  square_feet_scaled  fullbathcnt_scaled  \\\n",
       "12591     0.166667    0.363636            0.096731            0.166667   \n",
       "2778      0.500000    0.363636            0.544008            0.500000   \n",
       "30932     0.083333    0.272727            0.056803            0.083333   \n",
       "48667     0.083333    0.272727            0.084836            0.083333   \n",
       "5836      0.083333    0.272727            0.052930            0.083333   \n",
       "\n",
       "       lot_square_feet_scaled  yearbuilt_scaled  appraisal_scaled  \\\n",
       "12591                0.001388          0.659420          0.008325   \n",
       "2778                 0.005330          0.826087          0.149392   \n",
       "30932                0.000821          0.594203          0.019118   \n",
       "48667                0.001596          0.710145          0.013194   \n",
       "5836                 0.000971          0.586957          0.002350   \n",
       "\n",
       "       half_bath_scaled  \n",
       "12591               0.0  \n",
       "2778                0.0  \n",
       "30932               0.0  \n",
       "48667               0.0  \n",
       "5836                0.0  "
      ]
     },
     "execution_count": 24,
     "metadata": {},
     "output_type": "execute_result"
    }
   ],
   "source": [
    "train_scaled.head()"
   ]
  },
  {
   "cell_type": "code",
   "execution_count": 27,
   "id": "4903acd3",
   "metadata": {},
   "outputs": [],
   "source": [
    "train_scaled = pd.concat([train_scaled, train], axis = 1)\n",
    "validate_scaled = pd.concat([validate_scaled, validate], axis = 1)\n",
    "test_scaled = pd.concat([test_scaled, test], axis = 1)"
   ]
  },
  {
   "cell_type": "code",
   "execution_count": 26,
   "id": "2ec1ab49",
   "metadata": {},
   "outputs": [
    {
     "data": {
      "text/html": [
       "<div>\n",
       "<style scoped>\n",
       "    .dataframe tbody tr th:only-of-type {\n",
       "        vertical-align: middle;\n",
       "    }\n",
       "\n",
       "    .dataframe tbody tr th {\n",
       "        vertical-align: top;\n",
       "    }\n",
       "\n",
       "    .dataframe thead th {\n",
       "        text-align: right;\n",
       "    }\n",
       "</style>\n",
       "<table border=\"1\" class=\"dataframe\">\n",
       "  <thead>\n",
       "    <tr style=\"text-align: right;\">\n",
       "      <th></th>\n",
       "      <th>bath_scaled</th>\n",
       "      <th>bed_scaled</th>\n",
       "      <th>square_feet_scaled</th>\n",
       "      <th>fullbathcnt_scaled</th>\n",
       "      <th>lot_square_feet_scaled</th>\n",
       "      <th>yearbuilt_scaled</th>\n",
       "      <th>appraisal_scaled</th>\n",
       "      <th>half_bath_scaled</th>\n",
       "      <th>id</th>\n",
       "      <th>parcelid</th>\n",
       "      <th>bath</th>\n",
       "      <th>bed</th>\n",
       "      <th>square_feet</th>\n",
       "      <th>fullbathcnt</th>\n",
       "      <th>latitude</th>\n",
       "      <th>longitude</th>\n",
       "      <th>lot_square_feet</th>\n",
       "      <th>rawcensustractandblock</th>\n",
       "      <th>id_city</th>\n",
       "      <th>id_county</th>\n",
       "      <th>id_zip</th>\n",
       "      <th>yearbuilt</th>\n",
       "      <th>appraisal</th>\n",
       "      <th>assessmentyear</th>\n",
       "      <th>logerror</th>\n",
       "      <th>half_bath</th>\n",
       "      <th>LA County</th>\n",
       "      <th>Orange County</th>\n",
       "      <th>Ventura County</th>\n",
       "    </tr>\n",
       "  </thead>\n",
       "  <tbody>\n",
       "    <tr>\n",
       "      <th>12591</th>\n",
       "      <td>0.166667</td>\n",
       "      <td>0.363636</td>\n",
       "      <td>0.096731</td>\n",
       "      <td>0.166667</td>\n",
       "      <td>0.001388</td>\n",
       "      <td>0.659420</td>\n",
       "      <td>0.008325</td>\n",
       "      <td>0.0</td>\n",
       "      <td>1151696</td>\n",
       "      <td>11281694</td>\n",
       "      <td>3.0</td>\n",
       "      <td>4.0</td>\n",
       "      <td>2338.0</td>\n",
       "      <td>3.0</td>\n",
       "      <td>34661359.0</td>\n",
       "      <td>-118159914.0</td>\n",
       "      <td>10152.0</td>\n",
       "      <td>6.037901e+07</td>\n",
       "      <td>5534.0</td>\n",
       "      <td>3101.0</td>\n",
       "      <td>97317.0</td>\n",
       "      <td>1969.0</td>\n",
       "      <td>214525.0</td>\n",
       "      <td>2016.0</td>\n",
       "      <td>0.084755</td>\n",
       "      <td>0.0</td>\n",
       "      <td>1</td>\n",
       "      <td>0</td>\n",
       "      <td>0</td>\n",
       "    </tr>\n",
       "    <tr>\n",
       "      <th>2778</th>\n",
       "      <td>0.500000</td>\n",
       "      <td>0.363636</td>\n",
       "      <td>0.544008</td>\n",
       "      <td>0.500000</td>\n",
       "      <td>0.005330</td>\n",
       "      <td>0.826087</td>\n",
       "      <td>0.149392</td>\n",
       "      <td>0.0</td>\n",
       "      <td>2104743</td>\n",
       "      <td>10847031</td>\n",
       "      <td>7.0</td>\n",
       "      <td>4.0</td>\n",
       "      <td>12039.0</td>\n",
       "      <td>7.0</td>\n",
       "      <td>34167197.0</td>\n",
       "      <td>-118434181.0</td>\n",
       "      <td>37630.0</td>\n",
       "      <td>6.037129e+07</td>\n",
       "      <td>12447.0</td>\n",
       "      <td>3101.0</td>\n",
       "      <td>96410.0</td>\n",
       "      <td>1992.0</td>\n",
       "      <td>3794515.0</td>\n",
       "      <td>2016.0</td>\n",
       "      <td>0.031378</td>\n",
       "      <td>0.0</td>\n",
       "      <td>1</td>\n",
       "      <td>0</td>\n",
       "      <td>0</td>\n",
       "    </tr>\n",
       "  </tbody>\n",
       "</table>\n",
       "</div>"
      ],
      "text/plain": [
       "       bath_scaled  bed_scaled  square_feet_scaled  fullbathcnt_scaled  \\\n",
       "12591     0.166667    0.363636            0.096731            0.166667   \n",
       "2778      0.500000    0.363636            0.544008            0.500000   \n",
       "\n",
       "       lot_square_feet_scaled  yearbuilt_scaled  appraisal_scaled  \\\n",
       "12591                0.001388          0.659420          0.008325   \n",
       "2778                 0.005330          0.826087          0.149392   \n",
       "\n",
       "       half_bath_scaled       id  parcelid  bath  bed  square_feet  \\\n",
       "12591               0.0  1151696  11281694   3.0  4.0       2338.0   \n",
       "2778                0.0  2104743  10847031   7.0  4.0      12039.0   \n",
       "\n",
       "       fullbathcnt    latitude    longitude  lot_square_feet  \\\n",
       "12591          3.0  34661359.0 -118159914.0          10152.0   \n",
       "2778           7.0  34167197.0 -118434181.0          37630.0   \n",
       "\n",
       "       rawcensustractandblock  id_city  id_county   id_zip  yearbuilt  \\\n",
       "12591            6.037901e+07   5534.0     3101.0  97317.0     1969.0   \n",
       "2778             6.037129e+07  12447.0     3101.0  96410.0     1992.0   \n",
       "\n",
       "       appraisal  assessmentyear  logerror  half_bath  LA County  \\\n",
       "12591   214525.0          2016.0  0.084755        0.0          1   \n",
       "2778   3794515.0          2016.0  0.031378        0.0          1   \n",
       "\n",
       "       Orange County  Ventura County  \n",
       "12591              0               0  \n",
       "2778               0               0  "
      ]
     },
     "execution_count": 26,
     "metadata": {},
     "output_type": "execute_result"
    }
   ],
   "source": [
    "train_scaled.head(2)"
   ]
  },
  {
   "cell_type": "markdown",
   "id": "15e34313",
   "metadata": {},
   "source": [
    "### House Cluster"
   ]
  },
  {
   "cell_type": "code",
   "execution_count": 30,
   "id": "880670f1",
   "metadata": {},
   "outputs": [],
   "source": [
    "house_cluster = train_scaled[['square_feet_scaled', 'bed_scaled', 'half_bath_scaled']]\n",
    "k_range = range(2,20)"
   ]
  },
  {
   "cell_type": "code",
   "execution_count": 31,
   "id": "f77bdf6d",
   "metadata": {},
   "outputs": [],
   "source": [
    "house_cluster_validate = validate_scaled[['square_feet_scaled', 'bed_scaled', 'half_bath_scaled']]\n",
    "k_range = range(2,20)"
   ]
  },
  {
   "cell_type": "code",
   "execution_count": 32,
   "id": "0e33f6fa",
   "metadata": {},
   "outputs": [],
   "source": [
    "house_cluster_test = test_scaled[['square_feet_scaled', 'bed_scaled', 'half_bath_scaled']]\n",
    "k_range = range(2,20)"
   ]
  },
  {
   "cell_type": "code",
   "execution_count": 30,
   "id": "09766249",
   "metadata": {},
   "outputs": [
    {
     "data": {
      "image/png": "[encoded data removed]",
      "text/plain": [
       "<Figure size 648x432 with 1 Axes>"
      ]
     },
     "metadata": {},
     "output_type": "display_data"
    }
   ],
   "source": [
    "# lets plot inertia vs k\n",
    "\n",
    "with plt.style.context('seaborn-whitegrid'):\n",
    "    plt.figure(figsize=(9, 6))\n",
    "    pd.Series({k: KMeans(k, random_state=42).fit(house_cluster).inertia_ for k in range(2, 12)}).plot(marker='x')\n",
    "    plt.xticks(range(2, 12))\n",
    "    plt.xlabel('k')\n",
    "    plt.ylabel('inertia')\n",
    "    plt.title('Change in inertia as k increases')"
   ]
  },
  {
   "cell_type": "code",
   "execution_count": 33,
   "id": "5418bf7d",
   "metadata": {},
   "outputs": [],
   "source": [
    "# train\n",
    "kmeans = KMeans(n_clusters=3, random_state=123)\n",
    "kmeans.fit(house_cluster)\n",
    "\n",
    "train_scaled['house_cluster'] = kmeans.predict(house_cluster)\n",
    "train_scaled.house_cluster = train_scaled.house_cluster.astype('category')"
   ]
  },
  {
   "cell_type": "code",
   "execution_count": 34,
   "id": "85d4db55",
   "metadata": {},
   "outputs": [],
   "source": [
    "# validate\n",
    "kmeans = KMeans(n_clusters=3, random_state=123)\n",
    "kmeans.fit(house_cluster_validate)\n",
    "\n",
    "validate_scaled['house_cluster'] = kmeans.predict(house_cluster_validate)\n",
    "validate_scaled.house_cluster = validate_scaled.house_cluster.astype('category')"
   ]
  },
  {
   "cell_type": "code",
   "execution_count": 62,
   "id": "61c8d4f7",
   "metadata": {},
   "outputs": [
    {
     "data": {
      "text/html": [
       "<div>\n",
       "<style scoped>\n",
       "    .dataframe tbody tr th:only-of-type {\n",
       "        vertical-align: middle;\n",
       "    }\n",
       "\n",
       "    .dataframe tbody tr th {\n",
       "        vertical-align: top;\n",
       "    }\n",
       "\n",
       "    .dataframe thead th {\n",
       "        text-align: right;\n",
       "    }\n",
       "</style>\n",
       "<table border=\"1\" class=\"dataframe\">\n",
       "  <thead>\n",
       "    <tr style=\"text-align: right;\">\n",
       "      <th></th>\n",
       "      <th>bath_scaled</th>\n",
       "      <th>bed_scaled</th>\n",
       "      <th>square_feet_scaled</th>\n",
       "      <th>fullbathcnt_scaled</th>\n",
       "      <th>lot_square_feet_scaled</th>\n",
       "      <th>yearbuilt_scaled</th>\n",
       "      <th>appraisal_scaled</th>\n",
       "      <th>half_bath_scaled</th>\n",
       "      <th>id</th>\n",
       "      <th>parcelid</th>\n",
       "      <th>bath</th>\n",
       "      <th>bed</th>\n",
       "      <th>square_feet</th>\n",
       "      <th>fullbathcnt</th>\n",
       "      <th>latitude</th>\n",
       "      <th>longitude</th>\n",
       "      <th>lot_square_feet</th>\n",
       "      <th>rawcensustractandblock</th>\n",
       "      <th>id_city</th>\n",
       "      <th>id_county</th>\n",
       "      <th>id_zip</th>\n",
       "      <th>yearbuilt</th>\n",
       "      <th>appraisal</th>\n",
       "      <th>assessmentyear</th>\n",
       "      <th>logerror</th>\n",
       "      <th>half_bath</th>\n",
       "      <th>LA County</th>\n",
       "      <th>Orange County</th>\n",
       "      <th>Ventura County</th>\n",
       "      <th>house_cluster</th>\n",
       "    </tr>\n",
       "  </thead>\n",
       "  <tbody>\n",
       "    <tr>\n",
       "      <th>12591</th>\n",
       "      <td>0.166667</td>\n",
       "      <td>0.363636</td>\n",
       "      <td>0.096731</td>\n",
       "      <td>0.166667</td>\n",
       "      <td>0.001388</td>\n",
       "      <td>0.65942</td>\n",
       "      <td>0.008325</td>\n",
       "      <td>0.0</td>\n",
       "      <td>1151696</td>\n",
       "      <td>11281694</td>\n",
       "      <td>3.0</td>\n",
       "      <td>4.0</td>\n",
       "      <td>2338.0</td>\n",
       "      <td>3.0</td>\n",
       "      <td>34661359.0</td>\n",
       "      <td>-118159914.0</td>\n",
       "      <td>10152.0</td>\n",
       "      <td>6.037901e+07</td>\n",
       "      <td>5534.0</td>\n",
       "      <td>3101.0</td>\n",
       "      <td>97317.0</td>\n",
       "      <td>1969.0</td>\n",
       "      <td>214525.0</td>\n",
       "      <td>2016.0</td>\n",
       "      <td>0.084755</td>\n",
       "      <td>0.0</td>\n",
       "      <td>1</td>\n",
       "      <td>0</td>\n",
       "      <td>0</td>\n",
       "      <td>1</td>\n",
       "    </tr>\n",
       "  </tbody>\n",
       "</table>\n",
       "</div>"
      ],
      "text/plain": [
       "       bath_scaled  bed_scaled  square_feet_scaled  fullbathcnt_scaled  \\\n",
       "12591     0.166667    0.363636            0.096731            0.166667   \n",
       "\n",
       "       lot_square_feet_scaled  yearbuilt_scaled  appraisal_scaled  \\\n",
       "12591                0.001388           0.65942          0.008325   \n",
       "\n",
       "       half_bath_scaled       id  parcelid  bath  bed  square_feet  \\\n",
       "12591               0.0  1151696  11281694   3.0  4.0       2338.0   \n",
       "\n",
       "       fullbathcnt    latitude    longitude  lot_square_feet  \\\n",
       "12591          3.0  34661359.0 -118159914.0          10152.0   \n",
       "\n",
       "       rawcensustractandblock  id_city  id_county   id_zip  yearbuilt  \\\n",
       "12591            6.037901e+07   5534.0     3101.0  97317.0     1969.0   \n",
       "\n",
       "       appraisal  assessmentyear  logerror  half_bath  LA County  \\\n",
       "12591   214525.0          2016.0  0.084755        0.0          1   \n",
       "\n",
       "       Orange County  Ventura County house_cluster  \n",
       "12591              0               0             1  "
      ]
     },
     "execution_count": 62,
     "metadata": {},
     "output_type": "execute_result"
    }
   ],
   "source": [
    "train_scaled.head(1)"
   ]
  },
  {
   "cell_type": "code",
   "execution_count": 63,
   "id": "8ac0833f",
   "metadata": {},
   "outputs": [],
   "source": [
    "y = (train_scaled.logerror[train_scaled.house_cluster == 0].mean(),\n",
    "      train_scaled.logerror[train_scaled.house_cluster == 1].mean(),\n",
    "      train_scaled.logerror[train_scaled.house_cluster == 2].mean())\n",
    "\n",
    "x = ['House Cluster 0', 'House Cluster 1', 'House Cluster 2']"
   ]
  },
  {
   "cell_type": "code",
   "execution_count": 64,
   "id": "f0a53a1e",
   "metadata": {},
   "outputs": [
    {
     "data": {
      "image/png": "[encoded data removed]",
      "text/plain": [
       "<Figure size 1152x576 with 1 Axes>"
      ]
     },
     "metadata": {
      "needs_background": "light"
     },
     "output_type": "display_data"
    }
   ],
   "source": [
    "plt.figure(figsize=(16,8))\n",
    "plt.bar(x, y)\n",
    "plt.xlabel('House Cluster')\n",
    "plt.ylabel('Average logerror')\n",
    "plt.title('Average Log Error by House Cluster')\n",
    "plt.show()"
   ]
  },
  {
   "cell_type": "markdown",
   "id": "d4ec1c41",
   "metadata": {},
   "source": [
    "House Cluster 0 has the largest average logerror."
   ]
  },
  {
   "cell_type": "code",
   "execution_count": 65,
   "id": "55a481a8",
   "metadata": {},
   "outputs": [
    {
     "data": {
      "text/plain": [
       "<seaborn.axisgrid.FacetGrid at 0x2941a4220>"
      ]
     },
     "execution_count": 65,
     "metadata": {},
     "output_type": "execute_result"
    },
    {
     "data": {
      "image/png": "[encoded data removed]",
      "text/plain": [
       "<Figure size 774.625x720 with 3 Axes>"
      ]
     },
     "metadata": {
      "needs_background": "light"
     },
     "output_type": "display_data"
    }
   ],
   "source": [
    "# UNSCALED\n",
    "sns.relplot(data=train_scaled, x=\"square_feet\", y=\"bed\", col=\"house_cluster\", hue=\"half_bath\", col_wrap=2)"
   ]
  },
  {
   "cell_type": "markdown",
   "id": "8b3b5286",
   "metadata": {},
   "source": [
    "0. House cluster 0 seems to be medium square feet with more bedrooms and half baths. Potential name = Medium House, High Half Bath\n",
    "1. House cluster 1 seems to be medium to large square feet with Medium to High number of bedrooms and Low Half Baths. Potential name = Large House, Low Half Baths.\n",
    "2. House cluster 2 seems to be small square feet with low number of bedrooms and half baths.\n",
    "    Potential name = Small House, Low half bath"
   ]
  },
  {
   "cell_type": "code",
   "execution_count": 66,
   "id": "ff275391",
   "metadata": {},
   "outputs": [
    {
     "data": {
      "text/plain": [
       "<seaborn.axisgrid.FacetGrid at 0x29447b100>"
      ]
     },
     "execution_count": 66,
     "metadata": {},
     "output_type": "execute_result"
    },
    {
     "data": {
      "image/png": "[encoded data removed]",
      "text/plain": [
       "<Figure size 874x720 with 3 Axes>"
      ]
     },
     "metadata": {
      "needs_background": "light"
     },
     "output_type": "display_data"
    }
   ],
   "source": [
    "# SCALED\n",
    "sns.relplot(data=train_scaled, x=\"square_feet_scaled\", y=\"bed_scaled\", col=\"house_cluster\", hue=\"half_bath_scaled\", col_wrap=2)"
   ]
  },
  {
   "cell_type": "code",
   "execution_count": 68,
   "id": "27f2ca55",
   "metadata": {},
   "outputs": [
    {
     "data": {
      "text/plain": [
       "<AxesSubplot:xlabel='square_feet_scaled', ylabel='bed_scaled'>"
      ]
     },
     "execution_count": 68,
     "metadata": {},
     "output_type": "execute_result"
    },
    {
     "data": {
      "image/png": "[encoded data removed]",
      "text/plain": [
       "<Figure size 1152x576 with 1 Axes>"
      ]
     },
     "metadata": {
      "needs_background": "light"
     },
     "output_type": "display_data"
    }
   ],
   "source": [
    "plt.figure(figsize=(16,8))\n",
    "sns.scatterplot(data = train_scaled, x = 'square_feet_scaled', y='bed_scaled', hue='house_cluster')"
   ]
  },
  {
   "cell_type": "code",
   "execution_count": 69,
   "id": "e83d4511",
   "metadata": {},
   "outputs": [
    {
     "data": {
      "text/plain": [
       "Text(0.5, 1.0, 'Cluster 0: larger high half bath, Cluster 1: larger low half bath, Cluster 2: small low half bath')"
      ]
     },
     "execution_count": 69,
     "metadata": {},
     "output_type": "execute_result"
    },
    {
     "data": {
      "image/png": "[encoded data removed]",
      "text/plain": [
       "<Figure size 1152x576 with 1 Axes>"
      ]
     },
     "metadata": {
      "needs_background": "light"
     },
     "output_type": "display_data"
    }
   ],
   "source": [
    "plt.figure(figsize=(16,8))\n",
    "sns.scatterplot(data = train_scaled, x = 'square_feet_scaled', y='half_bath_scaled', hue='house_cluster')\n",
    "plt.title(\"Cluster 0: larger high half bath, Cluster 1: larger low half bath, Cluster 2: small low half bath\")"
   ]
  },
  {
   "cell_type": "markdown",
   "id": "c09f8d4e",
   "metadata": {},
   "source": [
    "### Age/size cluster"
   ]
  },
  {
   "cell_type": "code",
   "execution_count": 37,
   "id": "d444a608",
   "metadata": {},
   "outputs": [],
   "source": [
    "age_size_cluster_train = train_scaled[['yearbuilt_scaled', 'square_feet_scaled', 'lot_square_feet_scaled']]\n",
    "k_range = range(2,20)"
   ]
  },
  {
   "cell_type": "code",
   "execution_count": 71,
   "id": "5ca70f84",
   "metadata": {},
   "outputs": [
    {
     "data": {
      "image/png": "[encoded data removed]",
      "text/plain": [
       "<Figure size 648x432 with 1 Axes>"
      ]
     },
     "metadata": {},
     "output_type": "display_data"
    }
   ],
   "source": [
    "# lets plot inertia vs k\n",
    "\n",
    "with plt.style.context('seaborn-whitegrid'):\n",
    "    plt.figure(figsize=(9, 6))\n",
    "    pd.Series({k: KMeans(k, random_state=42).fit(age_size_cluster).inertia_ for k in range(2, 12)}).plot(marker='x')\n",
    "    plt.xticks(range(2, 12))\n",
    "    plt.xlabel('k')\n",
    "    plt.ylabel('inertia')\n",
    "    plt.title('Change in inertia as k increases')"
   ]
  },
  {
   "cell_type": "code",
   "execution_count": 38,
   "id": "9dff4aeb",
   "metadata": {},
   "outputs": [],
   "source": [
    "#train\n",
    "kmeans = KMeans(n_clusters=3, random_state=123)\n",
    "kmeans.fit(age_size_cluster_train)\n",
    "\n",
    "train_scaled['age_size_cluster'] = kmeans.predict(age_size_cluster_train)\n",
    "train_scaled.age_size_cluster = train_scaled.age_size_cluster.astype('category')"
   ]
  },
  {
   "cell_type": "code",
   "execution_count": 39,
   "id": "928ad753",
   "metadata": {},
   "outputs": [],
   "source": [
    "# validate\n",
    "\n",
    "age_size_cluster_validate = validate_scaled[['yearbuilt_scaled', 'square_feet_scaled', 'lot_square_feet_scaled']]\n",
    "k_range = range(2,20)\n",
    "\n",
    "kmeans = KMeans(n_clusters=3, random_state=123)\n",
    "kmeans.fit(age_size_cluster_validate)\n",
    "\n",
    "validate_scaled['age_size_cluster'] = kmeans.predict(age_size_cluster_validate)\n",
    "validate_scaled.age_size_cluster = validate_scaled.age_size_cluster.astype('category')"
   ]
  },
  {
   "cell_type": "code",
   "execution_count": 75,
   "id": "1b6ae1ef",
   "metadata": {},
   "outputs": [],
   "source": [
    "y = (train_scaled.logerror[train_scaled.age_size_cluster == 0].mean(),\n",
    "      train_scaled.logerror[train_scaled.age_size_cluster == 1].mean(),\n",
    "      train_scaled.logerror[train_scaled.age_size_cluster == 2].mean())\n",
    "\n",
    "x = ['Age/size Cluster 0', 'Age/size Cluster 1', 'Age/size Cluster 2']"
   ]
  },
  {
   "cell_type": "code",
   "execution_count": 76,
   "id": "29f5e1cf",
   "metadata": {},
   "outputs": [
    {
     "data": {
      "image/png": "[encoded data removed]",
      "text/plain": [
       "<Figure size 1152x576 with 1 Axes>"
      ]
     },
     "metadata": {
      "needs_background": "light"
     },
     "output_type": "display_data"
    }
   ],
   "source": [
    "plt.figure(figsize=(16,8))\n",
    "plt.bar(x, y)\n",
    "plt.xlabel('Age/Size Cluster')\n",
    "plt.ylabel('Average logerror')\n",
    "plt.title('Average Log Error by Age/Size Cluster')\n",
    "plt.show()"
   ]
  },
  {
   "cell_type": "markdown",
   "id": "5cc2ec4c",
   "metadata": {},
   "source": [
    "Age/size clusters 0 and 2 are higher than cluster 1."
   ]
  },
  {
   "cell_type": "code",
   "execution_count": 81,
   "id": "71533815",
   "metadata": {},
   "outputs": [
    {
     "data": {
      "text/plain": [
       "<seaborn.axisgrid.FacetGrid at 0x1183e6ca0>"
      ]
     },
     "execution_count": 81,
     "metadata": {},
     "output_type": "execute_result"
    },
    {
     "data": {
      "image/png": "[encoded data removed]",
      "text/plain": [
       "<Figure size 824.125x720 with 3 Axes>"
      ]
     },
     "metadata": {
      "needs_background": "light"
     },
     "output_type": "display_data"
    }
   ],
   "source": [
    "sns.relplot(data=train_scaled, x=\"yearbuilt_scaled\", y=\"lot_square_feet_scaled\", col=\"age_size_cluster\", hue='square_feet_scaled', col_wrap=2)"
   ]
  },
  {
   "cell_type": "markdown",
   "id": "c91e019f",
   "metadata": {},
   "source": [
    "0. Cluster 0 are the larger, older houses.\n",
    "1. Cluster 1 are the smaller, newer houses.\n",
    "2. Cluster 2 are the smaller, medium aged houses. "
   ]
  },
  {
   "cell_type": "markdown",
   "id": "5d804a5e",
   "metadata": {},
   "source": [
    "### - Null Hypothesis: There is no difference in log error between the age/size clusters.\n",
    "\n",
    "### - Alternative Hypothesis: There is a difference in log error between the age/size clusters."
   ]
  },
  {
   "cell_type": "code",
   "execution_count": 82,
   "id": "f1cfa3d8",
   "metadata": {},
   "outputs": [
    {
     "data": {
      "text/plain": [
       "(11.329146170825815, 1.206115264662951e-05)"
      ]
     },
     "execution_count": 82,
     "metadata": {},
     "output_type": "execute_result"
    }
   ],
   "source": [
    "alpha = 0.05\n",
    "\n",
    "f, p = stats.f_oneway(train_scaled.logerror[train_scaled.age_size_cluster == 0], train_scaled.logerror[train_scaled.age_size_cluster == 1], train_scaled.logerror[train_scaled.age_size_cluster == 2])\n",
    "f, p"
   ]
  },
  {
   "cell_type": "markdown",
   "id": "146766ae",
   "metadata": {},
   "source": [
    "Reject the null hypothesis, there is a statistically significant differance in log error between age/size clusters."
   ]
  },
  {
   "cell_type": "markdown",
   "id": "654d2c36",
   "metadata": {},
   "source": [
    "## Modeling\n",
    "\n",
    "### Baseline"
   ]
  },
  {
   "cell_type": "code",
   "execution_count": 37,
   "id": "07dfe795",
   "metadata": {},
   "outputs": [
    {
     "data": {
      "text/html": [
       "<div>\n",
       "<style scoped>\n",
       "    .dataframe tbody tr th:only-of-type {\n",
       "        vertical-align: middle;\n",
       "    }\n",
       "\n",
       "    .dataframe tbody tr th {\n",
       "        vertical-align: top;\n",
       "    }\n",
       "\n",
       "    .dataframe thead th {\n",
       "        text-align: right;\n",
       "    }\n",
       "</style>\n",
       "<table border=\"1\" class=\"dataframe\">\n",
       "  <thead>\n",
       "    <tr style=\"text-align: right;\">\n",
       "      <th></th>\n",
       "      <th>bath_scaled</th>\n",
       "      <th>bed_scaled</th>\n",
       "      <th>square_feet_scaled</th>\n",
       "      <th>fullbathcnt_scaled</th>\n",
       "      <th>lot_square_feet_scaled</th>\n",
       "      <th>yearbuilt_scaled</th>\n",
       "      <th>appraisal_scaled</th>\n",
       "      <th>half_bath_scaled</th>\n",
       "      <th>id</th>\n",
       "      <th>parcelid</th>\n",
       "      <th>bath</th>\n",
       "      <th>bed</th>\n",
       "      <th>square_feet</th>\n",
       "      <th>fullbathcnt</th>\n",
       "      <th>latitude</th>\n",
       "      <th>longitude</th>\n",
       "      <th>lot_square_feet</th>\n",
       "      <th>rawcensustractandblock</th>\n",
       "      <th>id_city</th>\n",
       "      <th>id_county</th>\n",
       "      <th>id_zip</th>\n",
       "      <th>yearbuilt</th>\n",
       "      <th>appraisal</th>\n",
       "      <th>assessmentyear</th>\n",
       "      <th>logerror</th>\n",
       "      <th>half_bath</th>\n",
       "      <th>LA County</th>\n",
       "      <th>Orange County</th>\n",
       "      <th>Ventura County</th>\n",
       "      <th>house_cluster</th>\n",
       "      <th>age_size_cluster</th>\n",
       "    </tr>\n",
       "  </thead>\n",
       "  <tbody>\n",
       "    <tr>\n",
       "      <th>12591</th>\n",
       "      <td>0.166667</td>\n",
       "      <td>0.363636</td>\n",
       "      <td>0.096731</td>\n",
       "      <td>0.166667</td>\n",
       "      <td>0.001388</td>\n",
       "      <td>0.65942</td>\n",
       "      <td>0.008325</td>\n",
       "      <td>0.0</td>\n",
       "      <td>1151696</td>\n",
       "      <td>11281694</td>\n",
       "      <td>3.0</td>\n",
       "      <td>4.0</td>\n",
       "      <td>2338.0</td>\n",
       "      <td>3.0</td>\n",
       "      <td>34661359.0</td>\n",
       "      <td>-118159914.0</td>\n",
       "      <td>10152.0</td>\n",
       "      <td>6.037901e+07</td>\n",
       "      <td>5534.0</td>\n",
       "      <td>3101.0</td>\n",
       "      <td>97317.0</td>\n",
       "      <td>1969.0</td>\n",
       "      <td>214525.0</td>\n",
       "      <td>2016.0</td>\n",
       "      <td>0.084755</td>\n",
       "      <td>0.0</td>\n",
       "      <td>1</td>\n",
       "      <td>0</td>\n",
       "      <td>0</td>\n",
       "      <td>1</td>\n",
       "      <td>2</td>\n",
       "    </tr>\n",
       "  </tbody>\n",
       "</table>\n",
       "</div>"
      ],
      "text/plain": [
       "       bath_scaled  bed_scaled  square_feet_scaled  fullbathcnt_scaled  \\\n",
       "12591     0.166667    0.363636            0.096731            0.166667   \n",
       "\n",
       "       lot_square_feet_scaled  yearbuilt_scaled  appraisal_scaled  \\\n",
       "12591                0.001388           0.65942          0.008325   \n",
       "\n",
       "       half_bath_scaled       id  parcelid  bath  bed  square_feet  \\\n",
       "12591               0.0  1151696  11281694   3.0  4.0       2338.0   \n",
       "\n",
       "       fullbathcnt    latitude    longitude  lot_square_feet  \\\n",
       "12591          3.0  34661359.0 -118159914.0          10152.0   \n",
       "\n",
       "       rawcensustractandblock  id_city  id_county   id_zip  yearbuilt  \\\n",
       "12591            6.037901e+07   5534.0     3101.0  97317.0     1969.0   \n",
       "\n",
       "       appraisal  assessmentyear  logerror  half_bath  LA County  \\\n",
       "12591   214525.0          2016.0  0.084755        0.0          1   \n",
       "\n",
       "       Orange County  Ventura County house_cluster age_size_cluster  \n",
       "12591              0               0             1                2  "
      ]
     },
     "execution_count": 37,
     "metadata": {},
     "output_type": "execute_result"
    }
   ],
   "source": [
    "train_scaled.head(1)"
   ]
  },
  {
   "cell_type": "code",
   "execution_count": 41,
   "id": "877fea01",
   "metadata": {},
   "outputs": [],
   "source": [
    "dummy_df_train = pd.get_dummies(train_scaled[['house_cluster', 'age_size_cluster']])\n",
    "train_scaled = pd.concat([train_scaled, dummy_df_train], axis = 1)\n",
    "\n",
    "dummy_df_validate = pd.get_dummies(validate_scaled[['house_cluster', 'age_size_cluster']])\n",
    "validate_scaled = pd.concat([validate_scaled, dummy_df_validate], axis = 1)"
   ]
  },
  {
   "cell_type": "code",
   "execution_count": 88,
   "id": "f246622b",
   "metadata": {},
   "outputs": [
    {
     "data": {
      "text/html": [
       "<div>\n",
       "<style scoped>\n",
       "    .dataframe tbody tr th:only-of-type {\n",
       "        vertical-align: middle;\n",
       "    }\n",
       "\n",
       "    .dataframe tbody tr th {\n",
       "        vertical-align: top;\n",
       "    }\n",
       "\n",
       "    .dataframe thead th {\n",
       "        text-align: right;\n",
       "    }\n",
       "</style>\n",
       "<table border=\"1\" class=\"dataframe\">\n",
       "  <thead>\n",
       "    <tr style=\"text-align: right;\">\n",
       "      <th></th>\n",
       "      <th>bath_scaled</th>\n",
       "      <th>bed_scaled</th>\n",
       "      <th>square_feet_scaled</th>\n",
       "      <th>fullbathcnt_scaled</th>\n",
       "      <th>lot_square_feet_scaled</th>\n",
       "      <th>yearbuilt_scaled</th>\n",
       "      <th>appraisal_scaled</th>\n",
       "      <th>half_bath_scaled</th>\n",
       "      <th>id</th>\n",
       "      <th>parcelid</th>\n",
       "      <th>bath</th>\n",
       "      <th>bed</th>\n",
       "      <th>square_feet</th>\n",
       "      <th>fullbathcnt</th>\n",
       "      <th>latitude</th>\n",
       "      <th>longitude</th>\n",
       "      <th>lot_square_feet</th>\n",
       "      <th>rawcensustractandblock</th>\n",
       "      <th>id_city</th>\n",
       "      <th>id_county</th>\n",
       "      <th>id_zip</th>\n",
       "      <th>yearbuilt</th>\n",
       "      <th>appraisal</th>\n",
       "      <th>assessmentyear</th>\n",
       "      <th>logerror</th>\n",
       "      <th>half_bath</th>\n",
       "      <th>LA County</th>\n",
       "      <th>Orange County</th>\n",
       "      <th>Ventura County</th>\n",
       "      <th>house_cluster</th>\n",
       "      <th>age_size_cluster</th>\n",
       "      <th>house_cluster_0</th>\n",
       "      <th>house_cluster_1</th>\n",
       "      <th>house_cluster_2</th>\n",
       "      <th>age_size_cluster_0</th>\n",
       "      <th>age_size_cluster_1</th>\n",
       "      <th>age_size_cluster_2</th>\n",
       "    </tr>\n",
       "  </thead>\n",
       "  <tbody>\n",
       "    <tr>\n",
       "      <th>12591</th>\n",
       "      <td>0.166667</td>\n",
       "      <td>0.363636</td>\n",
       "      <td>0.096731</td>\n",
       "      <td>0.166667</td>\n",
       "      <td>0.001388</td>\n",
       "      <td>0.659420</td>\n",
       "      <td>0.008325</td>\n",
       "      <td>0.0</td>\n",
       "      <td>1151696</td>\n",
       "      <td>11281694</td>\n",
       "      <td>3.0</td>\n",
       "      <td>4.0</td>\n",
       "      <td>2338.0</td>\n",
       "      <td>3.0</td>\n",
       "      <td>34661359.0</td>\n",
       "      <td>-118159914.0</td>\n",
       "      <td>10152.0</td>\n",
       "      <td>6.037901e+07</td>\n",
       "      <td>5534.0</td>\n",
       "      <td>3101.0</td>\n",
       "      <td>97317.0</td>\n",
       "      <td>1969.0</td>\n",
       "      <td>214525.0</td>\n",
       "      <td>2016.0</td>\n",
       "      <td>0.084755</td>\n",
       "      <td>0.0</td>\n",
       "      <td>1</td>\n",
       "      <td>0</td>\n",
       "      <td>0</td>\n",
       "      <td>1</td>\n",
       "      <td>2</td>\n",
       "      <td>0</td>\n",
       "      <td>1</td>\n",
       "      <td>0</td>\n",
       "      <td>0</td>\n",
       "      <td>0</td>\n",
       "      <td>1</td>\n",
       "    </tr>\n",
       "    <tr>\n",
       "      <th>2778</th>\n",
       "      <td>0.500000</td>\n",
       "      <td>0.363636</td>\n",
       "      <td>0.544008</td>\n",
       "      <td>0.500000</td>\n",
       "      <td>0.005330</td>\n",
       "      <td>0.826087</td>\n",
       "      <td>0.149392</td>\n",
       "      <td>0.0</td>\n",
       "      <td>2104743</td>\n",
       "      <td>10847031</td>\n",
       "      <td>7.0</td>\n",
       "      <td>4.0</td>\n",
       "      <td>12039.0</td>\n",
       "      <td>7.0</td>\n",
       "      <td>34167197.0</td>\n",
       "      <td>-118434181.0</td>\n",
       "      <td>37630.0</td>\n",
       "      <td>6.037129e+07</td>\n",
       "      <td>12447.0</td>\n",
       "      <td>3101.0</td>\n",
       "      <td>96410.0</td>\n",
       "      <td>1992.0</td>\n",
       "      <td>3794515.0</td>\n",
       "      <td>2016.0</td>\n",
       "      <td>0.031378</td>\n",
       "      <td>0.0</td>\n",
       "      <td>1</td>\n",
       "      <td>0</td>\n",
       "      <td>0</td>\n",
       "      <td>1</td>\n",
       "      <td>0</td>\n",
       "      <td>0</td>\n",
       "      <td>1</td>\n",
       "      <td>0</td>\n",
       "      <td>1</td>\n",
       "      <td>0</td>\n",
       "      <td>0</td>\n",
       "    </tr>\n",
       "    <tr>\n",
       "      <th>30932</th>\n",
       "      <td>0.083333</td>\n",
       "      <td>0.272727</td>\n",
       "      <td>0.056803</td>\n",
       "      <td>0.083333</td>\n",
       "      <td>0.000821</td>\n",
       "      <td>0.594203</td>\n",
       "      <td>0.019118</td>\n",
       "      <td>0.0</td>\n",
       "      <td>1861487</td>\n",
       "      <td>14230822</td>\n",
       "      <td>2.0</td>\n",
       "      <td>3.0</td>\n",
       "      <td>1472.0</td>\n",
       "      <td>2.0</td>\n",
       "      <td>33805416.0</td>\n",
       "      <td>-117827119.0</td>\n",
       "      <td>6200.0</td>\n",
       "      <td>6.059076e+07</td>\n",
       "      <td>33252.0</td>\n",
       "      <td>1286.0</td>\n",
       "      <td>97065.0</td>\n",
       "      <td>1960.0</td>\n",
       "      <td>488429.0</td>\n",
       "      <td>2016.0</td>\n",
       "      <td>-0.024276</td>\n",
       "      <td>0.0</td>\n",
       "      <td>0</td>\n",
       "      <td>1</td>\n",
       "      <td>0</td>\n",
       "      <td>2</td>\n",
       "      <td>2</td>\n",
       "      <td>0</td>\n",
       "      <td>0</td>\n",
       "      <td>1</td>\n",
       "      <td>0</td>\n",
       "      <td>0</td>\n",
       "      <td>1</td>\n",
       "    </tr>\n",
       "    <tr>\n",
       "      <th>48667</th>\n",
       "      <td>0.083333</td>\n",
       "      <td>0.272727</td>\n",
       "      <td>0.084836</td>\n",
       "      <td>0.083333</td>\n",
       "      <td>0.001596</td>\n",
       "      <td>0.710145</td>\n",
       "      <td>0.013194</td>\n",
       "      <td>0.0</td>\n",
       "      <td>1617053</td>\n",
       "      <td>12150225</td>\n",
       "      <td>2.0</td>\n",
       "      <td>3.0</td>\n",
       "      <td>2080.0</td>\n",
       "      <td>2.0</td>\n",
       "      <td>34232342.0</td>\n",
       "      <td>-118227111.0</td>\n",
       "      <td>11606.0</td>\n",
       "      <td>6.037300e+07</td>\n",
       "      <td>46080.0</td>\n",
       "      <td>3101.0</td>\n",
       "      <td>96330.0</td>\n",
       "      <td>1976.0</td>\n",
       "      <td>338082.0</td>\n",
       "      <td>2016.0</td>\n",
       "      <td>0.003152</td>\n",
       "      <td>0.0</td>\n",
       "      <td>1</td>\n",
       "      <td>0</td>\n",
       "      <td>0</td>\n",
       "      <td>2</td>\n",
       "      <td>0</td>\n",
       "      <td>0</td>\n",
       "      <td>0</td>\n",
       "      <td>1</td>\n",
       "      <td>1</td>\n",
       "      <td>0</td>\n",
       "      <td>0</td>\n",
       "    </tr>\n",
       "    <tr>\n",
       "      <th>5836</th>\n",
       "      <td>0.083333</td>\n",
       "      <td>0.272727</td>\n",
       "      <td>0.052930</td>\n",
       "      <td>0.083333</td>\n",
       "      <td>0.000971</td>\n",
       "      <td>0.586957</td>\n",
       "      <td>0.002350</td>\n",
       "      <td>0.0</td>\n",
       "      <td>1114046</td>\n",
       "      <td>13850784</td>\n",
       "      <td>2.0</td>\n",
       "      <td>3.0</td>\n",
       "      <td>1388.0</td>\n",
       "      <td>2.0</td>\n",
       "      <td>33944851.0</td>\n",
       "      <td>-117942074.0</td>\n",
       "      <td>7245.0</td>\n",
       "      <td>6.059001e+07</td>\n",
       "      <td>18874.0</td>\n",
       "      <td>1286.0</td>\n",
       "      <td>96186.0</td>\n",
       "      <td>1959.0</td>\n",
       "      <td>62884.0</td>\n",
       "      <td>2016.0</td>\n",
       "      <td>0.007861</td>\n",
       "      <td>0.0</td>\n",
       "      <td>0</td>\n",
       "      <td>1</td>\n",
       "      <td>0</td>\n",
       "      <td>2</td>\n",
       "      <td>2</td>\n",
       "      <td>0</td>\n",
       "      <td>0</td>\n",
       "      <td>1</td>\n",
       "      <td>0</td>\n",
       "      <td>0</td>\n",
       "      <td>1</td>\n",
       "    </tr>\n",
       "  </tbody>\n",
       "</table>\n",
       "</div>"
      ],
      "text/plain": [
       "       bath_scaled  bed_scaled  square_feet_scaled  fullbathcnt_scaled  \\\n",
       "12591     0.166667    0.363636            0.096731            0.166667   \n",
       "2778      0.500000    0.363636            0.544008            0.500000   \n",
       "30932     0.083333    0.272727            0.056803            0.083333   \n",
       "48667     0.083333    0.272727            0.084836            0.083333   \n",
       "5836      0.083333    0.272727            0.052930            0.083333   \n",
       "\n",
       "       lot_square_feet_scaled  yearbuilt_scaled  appraisal_scaled  \\\n",
       "12591                0.001388          0.659420          0.008325   \n",
       "2778                 0.005330          0.826087          0.149392   \n",
       "30932                0.000821          0.594203          0.019118   \n",
       "48667                0.001596          0.710145          0.013194   \n",
       "5836                 0.000971          0.586957          0.002350   \n",
       "\n",
       "       half_bath_scaled       id  parcelid  bath  bed  square_feet  \\\n",
       "12591               0.0  1151696  11281694   3.0  4.0       2338.0   \n",
       "2778                0.0  2104743  10847031   7.0  4.0      12039.0   \n",
       "30932               0.0  1861487  14230822   2.0  3.0       1472.0   \n",
       "48667               0.0  1617053  12150225   2.0  3.0       2080.0   \n",
       "5836                0.0  1114046  13850784   2.0  3.0       1388.0   \n",
       "\n",
       "       fullbathcnt    latitude    longitude  lot_square_feet  \\\n",
       "12591          3.0  34661359.0 -118159914.0          10152.0   \n",
       "2778           7.0  34167197.0 -118434181.0          37630.0   \n",
       "30932          2.0  33805416.0 -117827119.0           6200.0   \n",
       "48667          2.0  34232342.0 -118227111.0          11606.0   \n",
       "5836           2.0  33944851.0 -117942074.0           7245.0   \n",
       "\n",
       "       rawcensustractandblock  id_city  id_county   id_zip  yearbuilt  \\\n",
       "12591            6.037901e+07   5534.0     3101.0  97317.0     1969.0   \n",
       "2778             6.037129e+07  12447.0     3101.0  96410.0     1992.0   \n",
       "30932            6.059076e+07  33252.0     1286.0  97065.0     1960.0   \n",
       "48667            6.037300e+07  46080.0     3101.0  96330.0     1976.0   \n",
       "5836             6.059001e+07  18874.0     1286.0  96186.0     1959.0   \n",
       "\n",
       "       appraisal  assessmentyear  logerror  half_bath  LA County  \\\n",
       "12591   214525.0          2016.0  0.084755        0.0          1   \n",
       "2778   3794515.0          2016.0  0.031378        0.0          1   \n",
       "30932   488429.0          2016.0 -0.024276        0.0          0   \n",
       "48667   338082.0          2016.0  0.003152        0.0          1   \n",
       "5836     62884.0          2016.0  0.007861        0.0          0   \n",
       "\n",
       "       Orange County  Ventura County house_cluster age_size_cluster  \\\n",
       "12591              0               0             1                2   \n",
       "2778               0               0             1                0   \n",
       "30932              1               0             2                2   \n",
       "48667              0               0             2                0   \n",
       "5836               1               0             2                2   \n",
       "\n",
       "       house_cluster_0  house_cluster_1  house_cluster_2  age_size_cluster_0  \\\n",
       "12591                0                1                0                   0   \n",
       "2778                 0                1                0                   1   \n",
       "30932                0                0                1                   0   \n",
       "48667                0                0                1                   1   \n",
       "5836                 0                0                1                   0   \n",
       "\n",
       "       age_size_cluster_1  age_size_cluster_2  \n",
       "12591                   0                   1  \n",
       "2778                    0                   0  \n",
       "30932                   0                   1  \n",
       "48667                   0                   0  \n",
       "5836                    0                   1  "
      ]
     },
     "execution_count": 88,
     "metadata": {},
     "output_type": "execute_result"
    }
   ],
   "source": [
    "train_scaled.head()"
   ]
  },
  {
   "cell_type": "code",
   "execution_count": 42,
   "id": "f8c23595",
   "metadata": {},
   "outputs": [
    {
     "data": {
      "text/html": [
       "<div>\n",
       "<style scoped>\n",
       "    .dataframe tbody tr th:only-of-type {\n",
       "        vertical-align: middle;\n",
       "    }\n",
       "\n",
       "    .dataframe tbody tr th {\n",
       "        vertical-align: top;\n",
       "    }\n",
       "\n",
       "    .dataframe thead th {\n",
       "        text-align: right;\n",
       "    }\n",
       "</style>\n",
       "<table border=\"1\" class=\"dataframe\">\n",
       "  <thead>\n",
       "    <tr style=\"text-align: right;\">\n",
       "      <th></th>\n",
       "      <th>bath_scaled</th>\n",
       "      <th>bed_scaled</th>\n",
       "      <th>square_feet_scaled</th>\n",
       "      <th>fullbathcnt_scaled</th>\n",
       "      <th>lot_square_feet_scaled</th>\n",
       "      <th>yearbuilt_scaled</th>\n",
       "      <th>appraisal_scaled</th>\n",
       "      <th>half_bath_scaled</th>\n",
       "      <th>id</th>\n",
       "      <th>parcelid</th>\n",
       "      <th>bath</th>\n",
       "      <th>bed</th>\n",
       "      <th>square_feet</th>\n",
       "      <th>fullbathcnt</th>\n",
       "      <th>latitude</th>\n",
       "      <th>longitude</th>\n",
       "      <th>lot_square_feet</th>\n",
       "      <th>rawcensustractandblock</th>\n",
       "      <th>id_city</th>\n",
       "      <th>id_county</th>\n",
       "      <th>id_zip</th>\n",
       "      <th>yearbuilt</th>\n",
       "      <th>appraisal</th>\n",
       "      <th>assessmentyear</th>\n",
       "      <th>logerror</th>\n",
       "      <th>half_bath</th>\n",
       "      <th>LA County</th>\n",
       "      <th>Orange County</th>\n",
       "      <th>Ventura County</th>\n",
       "      <th>house_cluster</th>\n",
       "      <th>age_size_cluster</th>\n",
       "      <th>house_cluster_0</th>\n",
       "      <th>house_cluster_1</th>\n",
       "      <th>house_cluster_2</th>\n",
       "      <th>age_size_cluster_0</th>\n",
       "      <th>age_size_cluster_1</th>\n",
       "      <th>age_size_cluster_2</th>\n",
       "    </tr>\n",
       "  </thead>\n",
       "  <tbody>\n",
       "    <tr>\n",
       "      <th>44197</th>\n",
       "      <td>0.000000</td>\n",
       "      <td>0.222222</td>\n",
       "      <td>0.073761</td>\n",
       "      <td>0.000000</td>\n",
       "      <td>0.000637</td>\n",
       "      <td>0.488722</td>\n",
       "      <td>0.010455</td>\n",
       "      <td>0.0</td>\n",
       "      <td>2393021</td>\n",
       "      <td>12302820</td>\n",
       "      <td>1.0</td>\n",
       "      <td>2.0</td>\n",
       "      <td>1126.0</td>\n",
       "      <td>1.0</td>\n",
       "      <td>33940750.0</td>\n",
       "      <td>-118220611.0</td>\n",
       "      <td>4678.0</td>\n",
       "      <td>6.037536e+07</td>\n",
       "      <td>47762.0</td>\n",
       "      <td>3101.0</td>\n",
       "      <td>96125.0</td>\n",
       "      <td>1947.0</td>\n",
       "      <td>265150.0</td>\n",
       "      <td>2016.0</td>\n",
       "      <td>0.016056</td>\n",
       "      <td>0.0</td>\n",
       "      <td>1</td>\n",
       "      <td>0</td>\n",
       "      <td>0</td>\n",
       "      <td>0</td>\n",
       "      <td>0</td>\n",
       "      <td>1</td>\n",
       "      <td>0</td>\n",
       "      <td>0</td>\n",
       "      <td>1</td>\n",
       "      <td>0</td>\n",
       "      <td>0</td>\n",
       "    </tr>\n",
       "    <tr>\n",
       "      <th>43461</th>\n",
       "      <td>0.111111</td>\n",
       "      <td>0.333333</td>\n",
       "      <td>0.123141</td>\n",
       "      <td>0.111111</td>\n",
       "      <td>0.000823</td>\n",
       "      <td>0.578947</td>\n",
       "      <td>0.012338</td>\n",
       "      <td>0.0</td>\n",
       "      <td>1823556</td>\n",
       "      <td>11418342</td>\n",
       "      <td>2.0</td>\n",
       "      <td>3.0</td>\n",
       "      <td>1687.0</td>\n",
       "      <td>2.0</td>\n",
       "      <td>33921192.0</td>\n",
       "      <td>-118356806.0</td>\n",
       "      <td>5972.0</td>\n",
       "      <td>6.037602e+07</td>\n",
       "      <td>42150.0</td>\n",
       "      <td>3101.0</td>\n",
       "      <td>96107.0</td>\n",
       "      <td>1959.0</td>\n",
       "      <td>310048.0</td>\n",
       "      <td>2016.0</td>\n",
       "      <td>0.137172</td>\n",
       "      <td>0.0</td>\n",
       "      <td>1</td>\n",
       "      <td>0</td>\n",
       "      <td>0</td>\n",
       "      <td>0</td>\n",
       "      <td>0</td>\n",
       "      <td>1</td>\n",
       "      <td>0</td>\n",
       "      <td>0</td>\n",
       "      <td>1</td>\n",
       "      <td>0</td>\n",
       "      <td>0</td>\n",
       "    </tr>\n",
       "    <tr>\n",
       "      <th>19399</th>\n",
       "      <td>0.333333</td>\n",
       "      <td>0.444444</td>\n",
       "      <td>0.319338</td>\n",
       "      <td>0.333333</td>\n",
       "      <td>0.001257</td>\n",
       "      <td>0.917293</td>\n",
       "      <td>0.032594</td>\n",
       "      <td>0.0</td>\n",
       "      <td>2414836</td>\n",
       "      <td>17263461</td>\n",
       "      <td>4.0</td>\n",
       "      <td>4.0</td>\n",
       "      <td>3916.0</td>\n",
       "      <td>4.0</td>\n",
       "      <td>34263747.0</td>\n",
       "      <td>-118682712.0</td>\n",
       "      <td>8998.0</td>\n",
       "      <td>6.111008e+07</td>\n",
       "      <td>27110.0</td>\n",
       "      <td>2061.0</td>\n",
       "      <td>97116.0</td>\n",
       "      <td>2004.0</td>\n",
       "      <td>793000.0</td>\n",
       "      <td>2016.0</td>\n",
       "      <td>0.036370</td>\n",
       "      <td>0.0</td>\n",
       "      <td>0</td>\n",
       "      <td>0</td>\n",
       "      <td>1</td>\n",
       "      <td>2</td>\n",
       "      <td>1</td>\n",
       "      <td>0</td>\n",
       "      <td>0</td>\n",
       "      <td>1</td>\n",
       "      <td>0</td>\n",
       "      <td>1</td>\n",
       "      <td>0</td>\n",
       "    </tr>\n",
       "    <tr>\n",
       "      <th>50533</th>\n",
       "      <td>0.111111</td>\n",
       "      <td>0.444444</td>\n",
       "      <td>0.097879</td>\n",
       "      <td>0.111111</td>\n",
       "      <td>0.000683</td>\n",
       "      <td>0.676692</td>\n",
       "      <td>0.018402</td>\n",
       "      <td>0.0</td>\n",
       "      <td>1399441</td>\n",
       "      <td>14372753</td>\n",
       "      <td>2.0</td>\n",
       "      <td>4.0</td>\n",
       "      <td>1400.0</td>\n",
       "      <td>2.0</td>\n",
       "      <td>33634590.0</td>\n",
       "      <td>-117686058.0</td>\n",
       "      <td>5000.0</td>\n",
       "      <td>6.059052e+07</td>\n",
       "      <td>32380.0</td>\n",
       "      <td>1286.0</td>\n",
       "      <td>96962.0</td>\n",
       "      <td>1972.0</td>\n",
       "      <td>454616.0</td>\n",
       "      <td>2016.0</td>\n",
       "      <td>0.032161</td>\n",
       "      <td>0.0</td>\n",
       "      <td>0</td>\n",
       "      <td>1</td>\n",
       "      <td>0</td>\n",
       "      <td>2</td>\n",
       "      <td>0</td>\n",
       "      <td>0</td>\n",
       "      <td>0</td>\n",
       "      <td>1</td>\n",
       "      <td>1</td>\n",
       "      <td>0</td>\n",
       "      <td>0</td>\n",
       "    </tr>\n",
       "    <tr>\n",
       "      <th>24891</th>\n",
       "      <td>0.444444</td>\n",
       "      <td>0.555556</td>\n",
       "      <td>0.362908</td>\n",
       "      <td>0.444444</td>\n",
       "      <td>0.006231</td>\n",
       "      <td>0.924812</td>\n",
       "      <td>0.018626</td>\n",
       "      <td>0.0</td>\n",
       "      <td>372156</td>\n",
       "      <td>11239786</td>\n",
       "      <td>5.0</td>\n",
       "      <td>5.0</td>\n",
       "      <td>4411.0</td>\n",
       "      <td>5.0</td>\n",
       "      <td>34542642.0</td>\n",
       "      <td>-118118287.0</td>\n",
       "      <td>43672.0</td>\n",
       "      <td>6.037910e+07</td>\n",
       "      <td>40227.0</td>\n",
       "      <td>3101.0</td>\n",
       "      <td>97328.0</td>\n",
       "      <td>2005.0</td>\n",
       "      <td>459958.0</td>\n",
       "      <td>2016.0</td>\n",
       "      <td>0.017489</td>\n",
       "      <td>0.0</td>\n",
       "      <td>1</td>\n",
       "      <td>0</td>\n",
       "      <td>0</td>\n",
       "      <td>2</td>\n",
       "      <td>1</td>\n",
       "      <td>0</td>\n",
       "      <td>0</td>\n",
       "      <td>1</td>\n",
       "      <td>0</td>\n",
       "      <td>1</td>\n",
       "      <td>0</td>\n",
       "    </tr>\n",
       "    <tr>\n",
       "      <th>...</th>\n",
       "      <td>...</td>\n",
       "      <td>...</td>\n",
       "      <td>...</td>\n",
       "      <td>...</td>\n",
       "      <td>...</td>\n",
       "      <td>...</td>\n",
       "      <td>...</td>\n",
       "      <td>...</td>\n",
       "      <td>...</td>\n",
       "      <td>...</td>\n",
       "      <td>...</td>\n",
       "      <td>...</td>\n",
       "      <td>...</td>\n",
       "      <td>...</td>\n",
       "      <td>...</td>\n",
       "      <td>...</td>\n",
       "      <td>...</td>\n",
       "      <td>...</td>\n",
       "      <td>...</td>\n",
       "      <td>...</td>\n",
       "      <td>...</td>\n",
       "      <td>...</td>\n",
       "      <td>...</td>\n",
       "      <td>...</td>\n",
       "      <td>...</td>\n",
       "      <td>...</td>\n",
       "      <td>...</td>\n",
       "      <td>...</td>\n",
       "      <td>...</td>\n",
       "      <td>...</td>\n",
       "      <td>...</td>\n",
       "      <td>...</td>\n",
       "      <td>...</td>\n",
       "      <td>...</td>\n",
       "      <td>...</td>\n",
       "      <td>...</td>\n",
       "      <td>...</td>\n",
       "    </tr>\n",
       "    <tr>\n",
       "      <th>16014</th>\n",
       "      <td>0.111111</td>\n",
       "      <td>0.333333</td>\n",
       "      <td>0.080979</td>\n",
       "      <td>0.111111</td>\n",
       "      <td>0.001001</td>\n",
       "      <td>0.646617</td>\n",
       "      <td>0.018963</td>\n",
       "      <td>0.0</td>\n",
       "      <td>2827582</td>\n",
       "      <td>12851382</td>\n",
       "      <td>2.0</td>\n",
       "      <td>3.0</td>\n",
       "      <td>1208.0</td>\n",
       "      <td>2.0</td>\n",
       "      <td>33979491.0</td>\n",
       "      <td>-117887986.0</td>\n",
       "      <td>7211.0</td>\n",
       "      <td>6.037409e+07</td>\n",
       "      <td>22827.0</td>\n",
       "      <td>3101.0</td>\n",
       "      <td>96492.0</td>\n",
       "      <td>1968.0</td>\n",
       "      <td>468000.0</td>\n",
       "      <td>2016.0</td>\n",
       "      <td>0.182098</td>\n",
       "      <td>0.0</td>\n",
       "      <td>1</td>\n",
       "      <td>0</td>\n",
       "      <td>0</td>\n",
       "      <td>0</td>\n",
       "      <td>0</td>\n",
       "      <td>1</td>\n",
       "      <td>0</td>\n",
       "      <td>0</td>\n",
       "      <td>1</td>\n",
       "      <td>0</td>\n",
       "      <td>0</td>\n",
       "    </tr>\n",
       "    <tr>\n",
       "      <th>19827</th>\n",
       "      <td>0.111111</td>\n",
       "      <td>0.444444</td>\n",
       "      <td>0.129830</td>\n",
       "      <td>0.111111</td>\n",
       "      <td>0.006198</td>\n",
       "      <td>0.781955</td>\n",
       "      <td>0.002164</td>\n",
       "      <td>0.0</td>\n",
       "      <td>1793250</td>\n",
       "      <td>11242226</td>\n",
       "      <td>2.0</td>\n",
       "      <td>4.0</td>\n",
       "      <td>1763.0</td>\n",
       "      <td>2.0</td>\n",
       "      <td>34494908.0</td>\n",
       "      <td>-118159875.0</td>\n",
       "      <td>43444.0</td>\n",
       "      <td>6.037911e+07</td>\n",
       "      <td>16677.0</td>\n",
       "      <td>3101.0</td>\n",
       "      <td>97298.0</td>\n",
       "      <td>1986.0</td>\n",
       "      <td>67465.0</td>\n",
       "      <td>2016.0</td>\n",
       "      <td>-0.026999</td>\n",
       "      <td>0.0</td>\n",
       "      <td>1</td>\n",
       "      <td>0</td>\n",
       "      <td>0</td>\n",
       "      <td>2</td>\n",
       "      <td>1</td>\n",
       "      <td>0</td>\n",
       "      <td>0</td>\n",
       "      <td>1</td>\n",
       "      <td>0</td>\n",
       "      <td>1</td>\n",
       "      <td>0</td>\n",
       "    </tr>\n",
       "    <tr>\n",
       "      <th>50376</th>\n",
       "      <td>0.111111</td>\n",
       "      <td>0.333333</td>\n",
       "      <td>0.076226</td>\n",
       "      <td>0.111111</td>\n",
       "      <td>0.000986</td>\n",
       "      <td>0.578947</td>\n",
       "      <td>0.007390</td>\n",
       "      <td>0.0</td>\n",
       "      <td>2248404</td>\n",
       "      <td>14063188</td>\n",
       "      <td>2.0</td>\n",
       "      <td>3.0</td>\n",
       "      <td>1154.0</td>\n",
       "      <td>2.0</td>\n",
       "      <td>33696326.0</td>\n",
       "      <td>-117984848.0</td>\n",
       "      <td>7110.0</td>\n",
       "      <td>6.059099e+07</td>\n",
       "      <td>25218.0</td>\n",
       "      <td>1286.0</td>\n",
       "      <td>96964.0</td>\n",
       "      <td>1959.0</td>\n",
       "      <td>192067.0</td>\n",
       "      <td>2016.0</td>\n",
       "      <td>0.058211</td>\n",
       "      <td>0.0</td>\n",
       "      <td>0</td>\n",
       "      <td>1</td>\n",
       "      <td>0</td>\n",
       "      <td>0</td>\n",
       "      <td>0</td>\n",
       "      <td>1</td>\n",
       "      <td>0</td>\n",
       "      <td>0</td>\n",
       "      <td>1</td>\n",
       "      <td>0</td>\n",
       "      <td>0</td>\n",
       "    </tr>\n",
       "    <tr>\n",
       "      <th>28971</th>\n",
       "      <td>0.111111</td>\n",
       "      <td>0.333333</td>\n",
       "      <td>0.137488</td>\n",
       "      <td>0.111111</td>\n",
       "      <td>0.001322</td>\n",
       "      <td>0.578947</td>\n",
       "      <td>0.016245</td>\n",
       "      <td>0.0</td>\n",
       "      <td>2806016</td>\n",
       "      <td>11053574</td>\n",
       "      <td>2.0</td>\n",
       "      <td>3.0</td>\n",
       "      <td>1850.0</td>\n",
       "      <td>2.0</td>\n",
       "      <td>34230420.0</td>\n",
       "      <td>-118477226.0</td>\n",
       "      <td>9449.0</td>\n",
       "      <td>6.037117e+07</td>\n",
       "      <td>12447.0</td>\n",
       "      <td>3101.0</td>\n",
       "      <td>96369.0</td>\n",
       "      <td>1959.0</td>\n",
       "      <td>403194.0</td>\n",
       "      <td>2016.0</td>\n",
       "      <td>-0.002942</td>\n",
       "      <td>0.0</td>\n",
       "      <td>1</td>\n",
       "      <td>0</td>\n",
       "      <td>0</td>\n",
       "      <td>0</td>\n",
       "      <td>0</td>\n",
       "      <td>1</td>\n",
       "      <td>0</td>\n",
       "      <td>0</td>\n",
       "      <td>1</td>\n",
       "      <td>0</td>\n",
       "      <td>0</td>\n",
       "    </tr>\n",
       "    <tr>\n",
       "      <th>48872</th>\n",
       "      <td>0.000000</td>\n",
       "      <td>0.333333</td>\n",
       "      <td>0.078690</td>\n",
       "      <td>0.000000</td>\n",
       "      <td>0.000581</td>\n",
       "      <td>0.330827</td>\n",
       "      <td>0.012004</td>\n",
       "      <td>0.0</td>\n",
       "      <td>2095994</td>\n",
       "      <td>12524546</td>\n",
       "      <td>1.0</td>\n",
       "      <td>3.0</td>\n",
       "      <td>1182.0</td>\n",
       "      <td>1.0</td>\n",
       "      <td>33780971.0</td>\n",
       "      <td>-118142501.0</td>\n",
       "      <td>4287.0</td>\n",
       "      <td>6.037577e+07</td>\n",
       "      <td>46298.0</td>\n",
       "      <td>3101.0</td>\n",
       "      <td>96238.0</td>\n",
       "      <td>1926.0</td>\n",
       "      <td>302086.0</td>\n",
       "      <td>2016.0</td>\n",
       "      <td>-0.095595</td>\n",
       "      <td>0.0</td>\n",
       "      <td>1</td>\n",
       "      <td>0</td>\n",
       "      <td>0</td>\n",
       "      <td>0</td>\n",
       "      <td>2</td>\n",
       "      <td>1</td>\n",
       "      <td>0</td>\n",
       "      <td>0</td>\n",
       "      <td>0</td>\n",
       "      <td>0</td>\n",
       "      <td>1</td>\n",
       "    </tr>\n",
       "  </tbody>\n",
       "</table>\n",
       "<p>7584 rows × 37 columns</p>\n",
       "</div>"
      ],
      "text/plain": [
       "       bath_scaled  bed_scaled  square_feet_scaled  fullbathcnt_scaled  \\\n",
       "44197     0.000000    0.222222            0.073761            0.000000   \n",
       "43461     0.111111    0.333333            0.123141            0.111111   \n",
       "19399     0.333333    0.444444            0.319338            0.333333   \n",
       "50533     0.111111    0.444444            0.097879            0.111111   \n",
       "24891     0.444444    0.555556            0.362908            0.444444   \n",
       "...            ...         ...                 ...                 ...   \n",
       "16014     0.111111    0.333333            0.080979            0.111111   \n",
       "19827     0.111111    0.444444            0.129830            0.111111   \n",
       "50376     0.111111    0.333333            0.076226            0.111111   \n",
       "28971     0.111111    0.333333            0.137488            0.111111   \n",
       "48872     0.000000    0.333333            0.078690            0.000000   \n",
       "\n",
       "       lot_square_feet_scaled  yearbuilt_scaled  appraisal_scaled  \\\n",
       "44197                0.000637          0.488722          0.010455   \n",
       "43461                0.000823          0.578947          0.012338   \n",
       "19399                0.001257          0.917293          0.032594   \n",
       "50533                0.000683          0.676692          0.018402   \n",
       "24891                0.006231          0.924812          0.018626   \n",
       "...                       ...               ...               ...   \n",
       "16014                0.001001          0.646617          0.018963   \n",
       "19827                0.006198          0.781955          0.002164   \n",
       "50376                0.000986          0.578947          0.007390   \n",
       "28971                0.001322          0.578947          0.016245   \n",
       "48872                0.000581          0.330827          0.012004   \n",
       "\n",
       "       half_bath_scaled       id  parcelid  bath  bed  square_feet  \\\n",
       "44197               0.0  2393021  12302820   1.0  2.0       1126.0   \n",
       "43461               0.0  1823556  11418342   2.0  3.0       1687.0   \n",
       "19399               0.0  2414836  17263461   4.0  4.0       3916.0   \n",
       "50533               0.0  1399441  14372753   2.0  4.0       1400.0   \n",
       "24891               0.0   372156  11239786   5.0  5.0       4411.0   \n",
       "...                 ...      ...       ...   ...  ...          ...   \n",
       "16014               0.0  2827582  12851382   2.0  3.0       1208.0   \n",
       "19827               0.0  1793250  11242226   2.0  4.0       1763.0   \n",
       "50376               0.0  2248404  14063188   2.0  3.0       1154.0   \n",
       "28971               0.0  2806016  11053574   2.0  3.0       1850.0   \n",
       "48872               0.0  2095994  12524546   1.0  3.0       1182.0   \n",
       "\n",
       "       fullbathcnt    latitude    longitude  lot_square_feet  \\\n",
       "44197          1.0  33940750.0 -118220611.0           4678.0   \n",
       "43461          2.0  33921192.0 -118356806.0           5972.0   \n",
       "19399          4.0  34263747.0 -118682712.0           8998.0   \n",
       "50533          2.0  33634590.0 -117686058.0           5000.0   \n",
       "24891          5.0  34542642.0 -118118287.0          43672.0   \n",
       "...            ...         ...          ...              ...   \n",
       "16014          2.0  33979491.0 -117887986.0           7211.0   \n",
       "19827          2.0  34494908.0 -118159875.0          43444.0   \n",
       "50376          2.0  33696326.0 -117984848.0           7110.0   \n",
       "28971          2.0  34230420.0 -118477226.0           9449.0   \n",
       "48872          1.0  33780971.0 -118142501.0           4287.0   \n",
       "\n",
       "       rawcensustractandblock  id_city  id_county   id_zip  yearbuilt  \\\n",
       "44197            6.037536e+07  47762.0     3101.0  96125.0     1947.0   \n",
       "43461            6.037602e+07  42150.0     3101.0  96107.0     1959.0   \n",
       "19399            6.111008e+07  27110.0     2061.0  97116.0     2004.0   \n",
       "50533            6.059052e+07  32380.0     1286.0  96962.0     1972.0   \n",
       "24891            6.037910e+07  40227.0     3101.0  97328.0     2005.0   \n",
       "...                       ...      ...        ...      ...        ...   \n",
       "16014            6.037409e+07  22827.0     3101.0  96492.0     1968.0   \n",
       "19827            6.037911e+07  16677.0     3101.0  97298.0     1986.0   \n",
       "50376            6.059099e+07  25218.0     1286.0  96964.0     1959.0   \n",
       "28971            6.037117e+07  12447.0     3101.0  96369.0     1959.0   \n",
       "48872            6.037577e+07  46298.0     3101.0  96238.0     1926.0   \n",
       "\n",
       "       appraisal  assessmentyear  logerror  half_bath  LA County  \\\n",
       "44197   265150.0          2016.0  0.016056        0.0          1   \n",
       "43461   310048.0          2016.0  0.137172        0.0          1   \n",
       "19399   793000.0          2016.0  0.036370        0.0          0   \n",
       "50533   454616.0          2016.0  0.032161        0.0          0   \n",
       "24891   459958.0          2016.0  0.017489        0.0          1   \n",
       "...          ...             ...       ...        ...        ...   \n",
       "16014   468000.0          2016.0  0.182098        0.0          1   \n",
       "19827    67465.0          2016.0 -0.026999        0.0          1   \n",
       "50376   192067.0          2016.0  0.058211        0.0          0   \n",
       "28971   403194.0          2016.0 -0.002942        0.0          1   \n",
       "48872   302086.0          2016.0 -0.095595        0.0          1   \n",
       "\n",
       "       Orange County  Ventura County house_cluster age_size_cluster  \\\n",
       "44197              0               0             0                0   \n",
       "43461              0               0             0                0   \n",
       "19399              0               1             2                1   \n",
       "50533              1               0             2                0   \n",
       "24891              0               0             2                1   \n",
       "...              ...             ...           ...              ...   \n",
       "16014              0               0             0                0   \n",
       "19827              0               0             2                1   \n",
       "50376              1               0             0                0   \n",
       "28971              0               0             0                0   \n",
       "48872              0               0             0                2   \n",
       "\n",
       "       house_cluster_0  house_cluster_1  house_cluster_2  age_size_cluster_0  \\\n",
       "44197                1                0                0                   1   \n",
       "43461                1                0                0                   1   \n",
       "19399                0                0                1                   0   \n",
       "50533                0                0                1                   1   \n",
       "24891                0                0                1                   0   \n",
       "...                ...              ...              ...                 ...   \n",
       "16014                1                0                0                   1   \n",
       "19827                0                0                1                   0   \n",
       "50376                1                0                0                   1   \n",
       "28971                1                0                0                   1   \n",
       "48872                1                0                0                   0   \n",
       "\n",
       "       age_size_cluster_1  age_size_cluster_2  \n",
       "44197                   0                   0  \n",
       "43461                   0                   0  \n",
       "19399                   1                   0  \n",
       "50533                   0                   0  \n",
       "24891                   1                   0  \n",
       "...                   ...                 ...  \n",
       "16014                   0                   0  \n",
       "19827                   1                   0  \n",
       "50376                   0                   0  \n",
       "28971                   0                   0  \n",
       "48872                   0                   1  \n",
       "\n",
       "[7584 rows x 37 columns]"
      ]
     },
     "execution_count": 42,
     "metadata": {},
     "output_type": "execute_result"
    }
   ],
   "source": [
    "validate_scaled"
   ]
  },
  {
   "cell_type": "code",
   "execution_count": 43,
   "id": "a0a74fd5",
   "metadata": {},
   "outputs": [],
   "source": [
    "y_train = train_scaled.logerror\n",
    "y_validate = validate_scaled.logerror\n",
    "y_test = test_scaled.logerror\n",
    "\n",
    "x_train = train_scaled.drop(columns=['logerror'])\n",
    "x_validate = validate_scaled.drop(columns=['logerror'])\n",
    "x_test = test_scaled.drop(columns=['logerror'])"
   ]
  },
  {
   "cell_type": "code",
   "execution_count": 44,
   "id": "941a26dc",
   "metadata": {},
   "outputs": [],
   "source": [
    "y_train = pd.DataFrame(y_train)\n",
    "y_validate = pd.DataFrame(y_validate)\n",
    "y_test = pd.DataFrame(y_test)"
   ]
  },
  {
   "cell_type": "code",
   "execution_count": 45,
   "id": "e5657a6c",
   "metadata": {},
   "outputs": [
    {
     "data": {
      "text/plain": [
       "0.01797354929457556"
      ]
     },
     "execution_count": 45,
     "metadata": {},
     "output_type": "execute_result"
    }
   ],
   "source": [
    "# baseline predictor\n",
    "y_train.logerror.mean()"
   ]
  },
  {
   "cell_type": "code",
   "execution_count": 46,
   "id": "47922604",
   "metadata": {},
   "outputs": [],
   "source": [
    "y_train['baseline'] = y_train.logerror.mean()\n",
    "y_validate['baseline'] = y_validate.logerror.mean()"
   ]
  },
  {
   "cell_type": "code",
   "execution_count": 47,
   "id": "b0d10488",
   "metadata": {},
   "outputs": [],
   "source": [
    "from sklearn.feature_selection import SelectKBest, f_regression\n",
    "from sklearn.metrics import mean_squared_error\n",
    "from sklearn.linear_model import LinearRegression, LassoLars, TweedieRegressor\n",
    "from sklearn.preprocessing import PolynomialFeatures"
   ]
  },
  {
   "cell_type": "code",
   "execution_count": 102,
   "id": "3d523dd3",
   "metadata": {},
   "outputs": [
    {
     "name": "stdout",
     "output_type": "stream",
     "text": [
      "0.17399889316814268 0.18727602422316578\n"
     ]
    }
   ],
   "source": [
    "rmse_train_baseline = mean_squared_error(y_train.logerror, y_train.baseline)**(1/2)\n",
    "rmse_validate_baseline = mean_squared_error(y_validate.logerror, y_validate.baseline)**(1/2)\n",
    "print(rmse_train, rmse_validate)"
   ]
  },
  {
   "cell_type": "markdown",
   "id": "e7a828bd",
   "metadata": {},
   "source": [
    "## Feature Engineering\n",
    "\n",
    "### Select K Best"
   ]
  },
  {
   "cell_type": "code",
   "execution_count": 49,
   "id": "6d158c00",
   "metadata": {},
   "outputs": [
    {
     "data": {
      "text/plain": [
       "SelectKBest(k=4, score_func=<function f_regression at 0x148a8d550>)"
      ]
     },
     "execution_count": 49,
     "metadata": {},
     "output_type": "execute_result"
    }
   ],
   "source": [
    "kbest = SelectKBest(f_regression, k=4)\n",
    "\n",
    "kbest.fit(x_train, y_train.logerror)"
   ]
  },
  {
   "cell_type": "code",
   "execution_count": 50,
   "id": "0ce7a182",
   "metadata": {},
   "outputs": [
    {
     "data": {
      "text/html": [
       "<div>\n",
       "<style scoped>\n",
       "    .dataframe tbody tr th:only-of-type {\n",
       "        vertical-align: middle;\n",
       "    }\n",
       "\n",
       "    .dataframe tbody tr th {\n",
       "        vertical-align: top;\n",
       "    }\n",
       "\n",
       "    .dataframe thead th {\n",
       "        text-align: right;\n",
       "    }\n",
       "</style>\n",
       "<table border=\"1\" class=\"dataframe\">\n",
       "  <thead>\n",
       "    <tr style=\"text-align: right;\">\n",
       "      <th></th>\n",
       "      <th>p</th>\n",
       "      <th>f</th>\n",
       "    </tr>\n",
       "  </thead>\n",
       "  <tbody>\n",
       "    <tr>\n",
       "      <th>bath_scaled</th>\n",
       "      <td>1.546296e-11</td>\n",
       "      <td>45.504493</td>\n",
       "    </tr>\n",
       "    <tr>\n",
       "      <th>bed_scaled</th>\n",
       "      <td>3.202680e-12</td>\n",
       "      <td>48.594440</td>\n",
       "    </tr>\n",
       "    <tr>\n",
       "      <th>square_feet_scaled</th>\n",
       "      <td>2.375928e-14</td>\n",
       "      <td>58.241947</td>\n",
       "    </tr>\n",
       "    <tr>\n",
       "      <th>fullbathcnt_scaled</th>\n",
       "      <td>1.972156e-10</td>\n",
       "      <td>40.517800</td>\n",
       "    </tr>\n",
       "    <tr>\n",
       "      <th>lot_square_feet_scaled</th>\n",
       "      <td>3.299100e-02</td>\n",
       "      <td>4.546602</td>\n",
       "    </tr>\n",
       "    <tr>\n",
       "      <th>yearbuilt_scaled</th>\n",
       "      <td>1.605188e-05</td>\n",
       "      <td>18.613473</td>\n",
       "    </tr>\n",
       "    <tr>\n",
       "      <th>appraisal_scaled</th>\n",
       "      <td>7.053406e-01</td>\n",
       "      <td>0.142978</td>\n",
       "    </tr>\n",
       "    <tr>\n",
       "      <th>half_bath_scaled</th>\n",
       "      <td>1.495584e-03</td>\n",
       "      <td>10.085628</td>\n",
       "    </tr>\n",
       "    <tr>\n",
       "      <th>id</th>\n",
       "      <td>5.990331e-01</td>\n",
       "      <td>0.276462</td>\n",
       "    </tr>\n",
       "    <tr>\n",
       "      <th>parcelid</th>\n",
       "      <td>6.296330e-02</td>\n",
       "      <td>3.457774</td>\n",
       "    </tr>\n",
       "    <tr>\n",
       "      <th>bath</th>\n",
       "      <td>1.546296e-11</td>\n",
       "      <td>45.504493</td>\n",
       "    </tr>\n",
       "    <tr>\n",
       "      <th>bed</th>\n",
       "      <td>3.202680e-12</td>\n",
       "      <td>48.594440</td>\n",
       "    </tr>\n",
       "    <tr>\n",
       "      <th>square_feet</th>\n",
       "      <td>2.375928e-14</td>\n",
       "      <td>58.241947</td>\n",
       "    </tr>\n",
       "    <tr>\n",
       "      <th>fullbathcnt</th>\n",
       "      <td>1.972156e-10</td>\n",
       "      <td>40.517800</td>\n",
       "    </tr>\n",
       "    <tr>\n",
       "      <th>latitude</th>\n",
       "      <td>9.326866e-06</td>\n",
       "      <td>19.650287</td>\n",
       "    </tr>\n",
       "    <tr>\n",
       "      <th>longitude</th>\n",
       "      <td>3.104509e-09</td>\n",
       "      <td>35.135099</td>\n",
       "    </tr>\n",
       "    <tr>\n",
       "      <th>lot_square_feet</th>\n",
       "      <td>3.299100e-02</td>\n",
       "      <td>4.546602</td>\n",
       "    </tr>\n",
       "    <tr>\n",
       "      <th>rawcensustractandblock</th>\n",
       "      <td>6.526621e-01</td>\n",
       "      <td>0.202564</td>\n",
       "    </tr>\n",
       "    <tr>\n",
       "      <th>id_city</th>\n",
       "      <td>1.825936e-01</td>\n",
       "      <td>1.776457</td>\n",
       "    </tr>\n",
       "    <tr>\n",
       "      <th>id_county</th>\n",
       "      <td>2.176972e-06</td>\n",
       "      <td>22.439596</td>\n",
       "    </tr>\n",
       "    <tr>\n",
       "      <th>id_zip</th>\n",
       "      <td>7.160636e-01</td>\n",
       "      <td>0.132298</td>\n",
       "    </tr>\n",
       "    <tr>\n",
       "      <th>yearbuilt</th>\n",
       "      <td>1.605188e-05</td>\n",
       "      <td>18.613473</td>\n",
       "    </tr>\n",
       "    <tr>\n",
       "      <th>appraisal</th>\n",
       "      <td>7.053406e-01</td>\n",
       "      <td>0.142978</td>\n",
       "    </tr>\n",
       "    <tr>\n",
       "      <th>assessmentyear</th>\n",
       "      <td>NaN</td>\n",
       "      <td>NaN</td>\n",
       "    </tr>\n",
       "    <tr>\n",
       "      <th>half_bath</th>\n",
       "      <td>1.495584e-03</td>\n",
       "      <td>10.085628</td>\n",
       "    </tr>\n",
       "    <tr>\n",
       "      <th>LA County</th>\n",
       "      <td>1.184828e-04</td>\n",
       "      <td>14.819993</td>\n",
       "    </tr>\n",
       "    <tr>\n",
       "      <th>Orange County</th>\n",
       "      <td>3.888135e-08</td>\n",
       "      <td>30.217784</td>\n",
       "    </tr>\n",
       "    <tr>\n",
       "      <th>Ventura County</th>\n",
       "      <td>3.582466e-02</td>\n",
       "      <td>4.405768</td>\n",
       "    </tr>\n",
       "    <tr>\n",
       "      <th>house_cluster</th>\n",
       "      <td>3.731341e-08</td>\n",
       "      <td>30.297689</td>\n",
       "    </tr>\n",
       "    <tr>\n",
       "      <th>age_size_cluster</th>\n",
       "      <td>5.412914e-01</td>\n",
       "      <td>0.373159</td>\n",
       "    </tr>\n",
       "    <tr>\n",
       "      <th>house_cluster_0</th>\n",
       "      <td>1.938053e-03</td>\n",
       "      <td>9.608741</td>\n",
       "    </tr>\n",
       "    <tr>\n",
       "      <th>house_cluster_1</th>\n",
       "      <td>7.609945e-05</td>\n",
       "      <td>15.656493</td>\n",
       "    </tr>\n",
       "    <tr>\n",
       "      <th>house_cluster_2</th>\n",
       "      <td>9.549297e-09</td>\n",
       "      <td>32.946700</td>\n",
       "    </tr>\n",
       "    <tr>\n",
       "      <th>age_size_cluster_0</th>\n",
       "      <td>1.445394e-02</td>\n",
       "      <td>5.982426</td>\n",
       "    </tr>\n",
       "    <tr>\n",
       "      <th>age_size_cluster_1</th>\n",
       "      <td>4.060740e-06</td>\n",
       "      <td>21.242633</td>\n",
       "    </tr>\n",
       "    <tr>\n",
       "      <th>age_size_cluster_2</th>\n",
       "      <td>2.466882e-01</td>\n",
       "      <td>1.342007</td>\n",
       "    </tr>\n",
       "  </tbody>\n",
       "</table>\n",
       "</div>"
      ],
      "text/plain": [
       "                                   p          f\n",
       "bath_scaled             1.546296e-11  45.504493\n",
       "bed_scaled              3.202680e-12  48.594440\n",
       "square_feet_scaled      2.375928e-14  58.241947\n",
       "fullbathcnt_scaled      1.972156e-10  40.517800\n",
       "lot_square_feet_scaled  3.299100e-02   4.546602\n",
       "yearbuilt_scaled        1.605188e-05  18.613473\n",
       "appraisal_scaled        7.053406e-01   0.142978\n",
       "half_bath_scaled        1.495584e-03  10.085628\n",
       "id                      5.990331e-01   0.276462\n",
       "parcelid                6.296330e-02   3.457774\n",
       "bath                    1.546296e-11  45.504493\n",
       "bed                     3.202680e-12  48.594440\n",
       "square_feet             2.375928e-14  58.241947\n",
       "fullbathcnt             1.972156e-10  40.517800\n",
       "latitude                9.326866e-06  19.650287\n",
       "longitude               3.104509e-09  35.135099\n",
       "lot_square_feet         3.299100e-02   4.546602\n",
       "rawcensustractandblock  6.526621e-01   0.202564\n",
       "id_city                 1.825936e-01   1.776457\n",
       "id_county               2.176972e-06  22.439596\n",
       "id_zip                  7.160636e-01   0.132298\n",
       "yearbuilt               1.605188e-05  18.613473\n",
       "appraisal               7.053406e-01   0.142978\n",
       "assessmentyear                   NaN        NaN\n",
       "half_bath               1.495584e-03  10.085628\n",
       "LA County               1.184828e-04  14.819993\n",
       "Orange County           3.888135e-08  30.217784\n",
       "Ventura County          3.582466e-02   4.405768\n",
       "house_cluster           3.731341e-08  30.297689\n",
       "age_size_cluster        5.412914e-01   0.373159\n",
       "house_cluster_0         1.938053e-03   9.608741\n",
       "house_cluster_1         7.609945e-05  15.656493\n",
       "house_cluster_2         9.549297e-09  32.946700\n",
       "age_size_cluster_0      1.445394e-02   5.982426\n",
       "age_size_cluster_1      4.060740e-06  21.242633\n",
       "age_size_cluster_2      2.466882e-01   1.342007"
      ]
     },
     "execution_count": 50,
     "metadata": {},
     "output_type": "execute_result"
    }
   ],
   "source": [
    "kbest_results = pd.DataFrame(dict(p=kbest.pvalues_, f=kbest.scores_), index=x_train.columns)\n",
    "kbest_results"
   ]
  },
  {
   "cell_type": "code",
   "execution_count": 51,
   "id": "cd7b1b09",
   "metadata": {},
   "outputs": [
    {
     "data": {
      "text/plain": [
       "Index(['bed_scaled', 'square_feet_scaled', 'bed', 'square_feet'], dtype='object')"
      ]
     },
     "execution_count": 51,
     "metadata": {},
     "output_type": "execute_result"
    }
   ],
   "source": [
    "x_train.columns[kbest.get_support()]"
   ]
  },
  {
   "cell_type": "code",
   "execution_count": 52,
   "id": "5fb95535",
   "metadata": {},
   "outputs": [],
   "source": [
    "x_train_model1 = x_train[['bed_scaled', 'square_feet_scaled', 'bed', 'square_feet']]"
   ]
  },
  {
   "cell_type": "code",
   "execution_count": 53,
   "id": "701702e6",
   "metadata": {},
   "outputs": [],
   "source": [
    "x_validate_model1 = x_validate[['bed_scaled', 'square_feet_scaled', 'bed', 'square_feet']]"
   ]
  },
  {
   "cell_type": "code",
   "execution_count": 67,
   "id": "ecff4ef3",
   "metadata": {},
   "outputs": [],
   "source": [
    "x_train_model2 = x_train[['house_cluster_0', 'house_cluster_1', 'house_cluster_2']]\n",
    "x_validate_model2 = x_validate[['house_cluster_0', 'house_cluster_1', 'house_cluster_2']]"
   ]
  },
  {
   "cell_type": "code",
   "execution_count": 57,
   "id": "eb950191",
   "metadata": {},
   "outputs": [],
   "source": [
    "x_train_model3 = x_train[['age_size_cluster_0', 'age_size_cluster_1', 'age_size_cluster_2']]\n",
    "x_validate_model3 = x_validate[['age_size_cluster_0', 'age_size_cluster_1', 'age_size_cluster_2']]"
   ]
  },
  {
   "cell_type": "markdown",
   "id": "aa71a422",
   "metadata": {},
   "source": [
    "### Linear Regression (OLS)"
   ]
  },
  {
   "cell_type": "markdown",
   "id": "49fe6d9c",
   "metadata": {},
   "source": [
    "### Model 1"
   ]
  },
  {
   "cell_type": "code",
   "execution_count": 58,
   "id": "869edc32",
   "metadata": {},
   "outputs": [],
   "source": [
    "lm = LinearRegression(normalize=True)"
   ]
  },
  {
   "cell_type": "code",
   "execution_count": 59,
   "id": "4eeada91",
   "metadata": {},
   "outputs": [
    {
     "data": {
      "text/plain": [
       "LinearRegression(normalize=True)"
      ]
     },
     "execution_count": 59,
     "metadata": {},
     "output_type": "execute_result"
    }
   ],
   "source": [
    "lm.fit(x_train_model1, y_train.logerror)"
   ]
  },
  {
   "cell_type": "code",
   "execution_count": 60,
   "id": "ddfc58fa",
   "metadata": {},
   "outputs": [],
   "source": [
    "y_train['log_error_pred_lm_model1'] = lm.predict(x_train_model1)"
   ]
  },
  {
   "cell_type": "code",
   "execution_count": 61,
   "id": "701a2881",
   "metadata": {},
   "outputs": [],
   "source": [
    "rmse_train = mean_squared_error(y_train.logerror, y_train.log_error_pred_lm_model1)**(1/2)"
   ]
  },
  {
   "cell_type": "code",
   "execution_count": 62,
   "id": "a0f1e95a",
   "metadata": {},
   "outputs": [],
   "source": [
    "y_validate['log_error_pred_lm_model1'] = lm.predict(x_validate_model1)"
   ]
  },
  {
   "cell_type": "code",
   "execution_count": 63,
   "id": "99f7c0a8",
   "metadata": {},
   "outputs": [],
   "source": [
    "rmse_validate = mean_squared_error(y_validate.logerror, y_validate.log_error_pred_lm_model1)**(1/2)"
   ]
  },
  {
   "cell_type": "code",
   "execution_count": 77,
   "id": "f742cfc6",
   "metadata": {},
   "outputs": [
    {
     "name": "stdout",
     "output_type": "stream",
     "text": [
      "RMSE for OLS using LinearRegression\n",
      "Training/In-Sample:  0.173916916092889 \n",
      "Validation/Out-of-Sample:  0.18763017414420122\n"
     ]
    }
   ],
   "source": [
    "print(\"RMSE for OLS using LinearRegression\\nTraining/In-Sample: \", rmse_train, \n",
    "      \"\\nValidation/Out-of-Sample: \", rmse_validate)"
   ]
  },
  {
   "cell_type": "markdown",
   "id": "e3bae20d",
   "metadata": {},
   "source": [
    "### Model 2"
   ]
  },
  {
   "cell_type": "code",
   "execution_count": 65,
   "id": "69c19143",
   "metadata": {},
   "outputs": [],
   "source": [
    "lm = LinearRegression(normalize=True)"
   ]
  },
  {
   "cell_type": "code",
   "execution_count": 68,
   "id": "5a839886",
   "metadata": {},
   "outputs": [
    {
     "data": {
      "text/plain": [
       "LinearRegression(normalize=True)"
      ]
     },
     "execution_count": 68,
     "metadata": {},
     "output_type": "execute_result"
    }
   ],
   "source": [
    "lm.fit(x_train_model2, y_train.logerror)"
   ]
  },
  {
   "cell_type": "code",
   "execution_count": 69,
   "id": "af8b0d5e",
   "metadata": {},
   "outputs": [],
   "source": [
    "y_train['log_error_pred_lm_model2'] = lm.predict(x_train_model2)"
   ]
  },
  {
   "cell_type": "code",
   "execution_count": 79,
   "id": "32136785",
   "metadata": {},
   "outputs": [],
   "source": [
    "rmse_train = mean_squared_error(y_train.logerror, y_train.log_error_pred_lm_model2)**(1/2)"
   ]
  },
  {
   "cell_type": "code",
   "execution_count": 71,
   "id": "29e780a2",
   "metadata": {},
   "outputs": [],
   "source": [
    "y_validate['log_error_pred_lm_model2'] = lm.predict(x_validate_model2)"
   ]
  },
  {
   "cell_type": "code",
   "execution_count": 80,
   "id": "1395a0ea",
   "metadata": {},
   "outputs": [],
   "source": [
    "rmse_validate = mean_squared_error(y_validate.logerror, y_validate.log_error_pred_lm_model2)**(1/2)"
   ]
  },
  {
   "cell_type": "code",
   "execution_count": 81,
   "id": "f6838b6b",
   "metadata": {},
   "outputs": [
    {
     "name": "stdout",
     "output_type": "stream",
     "text": [
      "RMSE for OLS using LinearRegression\n",
      "Training/In-Sample:  0.173916916092889 \n",
      "Validation/Out-of-Sample:  0.18763017414420122\n"
     ]
    }
   ],
   "source": [
    "print(\"RMSE for OLS using LinearRegression\\nTraining/In-Sample: \", rmse_train, \n",
    "      \"\\nValidation/Out-of-Sample: \", rmse_validate)"
   ]
  },
  {
   "cell_type": "markdown",
   "id": "d1206c9a",
   "metadata": {},
   "source": [
    "### Model 3"
   ]
  },
  {
   "cell_type": "code",
   "execution_count": 82,
   "id": "b824b2a1",
   "metadata": {},
   "outputs": [],
   "source": [
    "lm = LinearRegression(normalize=True)"
   ]
  },
  {
   "cell_type": "code",
   "execution_count": 83,
   "id": "404ba672",
   "metadata": {},
   "outputs": [
    {
     "data": {
      "text/plain": [
       "LinearRegression(normalize=True)"
      ]
     },
     "execution_count": 83,
     "metadata": {},
     "output_type": "execute_result"
    }
   ],
   "source": [
    "lm.fit(x_train_model3, y_train.logerror)"
   ]
  },
  {
   "cell_type": "code",
   "execution_count": 84,
   "id": "48c99bd8",
   "metadata": {},
   "outputs": [],
   "source": [
    "y_train['log_error_pred_lm_model3'] = lm.predict(x_train_model3)"
   ]
  },
  {
   "cell_type": "code",
   "execution_count": 85,
   "id": "ad9b00d9",
   "metadata": {},
   "outputs": [],
   "source": [
    "rmse_train = mean_squared_error(y_train.logerror, y_train.log_error_pred_lm_model3)**(1/2)"
   ]
  },
  {
   "cell_type": "code",
   "execution_count": 86,
   "id": "c51275da",
   "metadata": {},
   "outputs": [],
   "source": [
    "y_validate['log_error_pred_lm_model3'] = lm.predict(x_validate_model3)"
   ]
  },
  {
   "cell_type": "code",
   "execution_count": 87,
   "id": "0e52e6bf",
   "metadata": {},
   "outputs": [],
   "source": [
    "rmse_validate = mean_squared_error(y_validate.logerror, y_validate.log_error_pred_lm_model3)**(1/2)"
   ]
  },
  {
   "cell_type": "code",
   "execution_count": 88,
   "id": "57de47c7",
   "metadata": {},
   "outputs": [
    {
     "name": "stdout",
     "output_type": "stream",
     "text": [
      "RMSE for OLS using LinearRegression\n",
      "Training/In-Sample:  0.17394356235793906 \n",
      "Validation/Out-of-Sample:  0.1874917089980152\n"
     ]
    }
   ],
   "source": [
    "print(\"RMSE for OLS using LinearRegression\\nTraining/In-Sample: \", rmse_train, \n",
    "      \"\\nValidation/Out-of-Sample: \", rmse_validate)"
   ]
  },
  {
   "cell_type": "markdown",
   "id": "15b54e2f",
   "metadata": {},
   "source": [
    "### Lasso Lars\n",
    "\n",
    "### Model 1"
   ]
  },
  {
   "cell_type": "code",
   "execution_count": 89,
   "id": "8a959bd1",
   "metadata": {},
   "outputs": [],
   "source": [
    "lars = LassoLars(alpha=1.0)"
   ]
  },
  {
   "cell_type": "code",
   "execution_count": 90,
   "id": "b5bc1aef",
   "metadata": {},
   "outputs": [
    {
     "data": {
      "text/plain": [
       "LassoLars()"
      ]
     },
     "execution_count": 90,
     "metadata": {},
     "output_type": "execute_result"
    }
   ],
   "source": [
    "lars.fit(x_train_model1, y_train.logerror)"
   ]
  },
  {
   "cell_type": "code",
   "execution_count": 91,
   "id": "305fd96e",
   "metadata": {},
   "outputs": [],
   "source": [
    "y_train['pred_lars'] = lars.predict(x_train_model1)"
   ]
  },
  {
   "cell_type": "code",
   "execution_count": 92,
   "id": "f2ed0ebc",
   "metadata": {},
   "outputs": [],
   "source": [
    "rmse_train = mean_squared_error(y_train.logerror, y_train.pred_lars)**(1/2)"
   ]
  },
  {
   "cell_type": "code",
   "execution_count": 93,
   "id": "e0879412",
   "metadata": {},
   "outputs": [],
   "source": [
    "y_validate['pred_lars'] = lars.predict(x_validate_model1)"
   ]
  },
  {
   "cell_type": "code",
   "execution_count": 94,
   "id": "2ed5b524",
   "metadata": {},
   "outputs": [],
   "source": [
    "rmse_validate = mean_squared_error(y_validate.logerror, y_validate.pred_lars)**(1/2)"
   ]
  },
  {
   "cell_type": "code",
   "execution_count": 95,
   "id": "52c27ab6",
   "metadata": {},
   "outputs": [
    {
     "name": "stdout",
     "output_type": "stream",
     "text": [
      "RMSE for Lasso + Lars\n",
      "Training/In-Sample:  0.17399889316814268 \n",
      "Validation/Out-of-Sample:  0.1872760414823965\n"
     ]
    }
   ],
   "source": [
    "print(\"RMSE for Lasso + Lars\\nTraining/In-Sample: \", rmse_train, \n",
    "      \"\\nValidation/Out-of-Sample: \", rmse_validate)"
   ]
  },
  {
   "cell_type": "markdown",
   "id": "4610ac4b",
   "metadata": {},
   "source": [
    "### Model 2"
   ]
  },
  {
   "cell_type": "code",
   "execution_count": 96,
   "id": "82a4e469",
   "metadata": {},
   "outputs": [],
   "source": [
    "lars.fit(x_train_model2, y_train.logerror)\n",
    "\n",
    "y_train['pred_lars2'] = lars.predict(x_train_model2)\n",
    "rmse_train = mean_squared_error(y_train.logerror, y_train.pred_lars2)**(1/2)\n",
    "\n",
    "y_validate['pred_lars2'] = lars.predict(x_validate_model2)\n",
    "rmse_validate = mean_squared_error(y_validate.logerror, y_validate.pred_lars2)**(1/2)"
   ]
  },
  {
   "cell_type": "code",
   "execution_count": 97,
   "id": "9b671f34",
   "metadata": {},
   "outputs": [
    {
     "name": "stdout",
     "output_type": "stream",
     "text": [
      "RMSE for Lasso + Lars\n",
      "Training/In-Sample:  0.17399889316814268 \n",
      "Validation/Out-of-Sample:  0.1872760414823965\n"
     ]
    }
   ],
   "source": [
    "print(\"RMSE for Lasso + Lars\\nTraining/In-Sample: \", rmse_train, \n",
    "      \"\\nValidation/Out-of-Sample: \", rmse_validate)"
   ]
  },
  {
   "cell_type": "markdown",
   "id": "fb147664",
   "metadata": {},
   "source": [
    "### Model 3"
   ]
  },
  {
   "cell_type": "code",
   "execution_count": 103,
   "id": "5da76945",
   "metadata": {},
   "outputs": [],
   "source": [
    "lars.fit(x_train_model3, y_train.logerror)\n",
    "\n",
    "y_train['pred_lars3'] = lars.predict(x_train_model3)\n",
    "rmse_train = mean_squared_error(y_train.logerror, y_train.pred_lars3)**(1/2)\n",
    "\n",
    "y_validate['pred_lars3'] = lars.predict(x_validate_model3)\n",
    "rmse_validate = mean_squared_error(y_validate.logerror, y_validate.pred_lars3)**(1/2)"
   ]
  },
  {
   "cell_type": "code",
   "execution_count": 104,
   "id": "edff5743",
   "metadata": {},
   "outputs": [
    {
     "name": "stdout",
     "output_type": "stream",
     "text": [
      "RMSE for Lasso + Lars\n",
      "Training/In-Sample:  0.17399889316814268 \n",
      "Validation/Out-of-Sample:  0.1872760414823965\n"
     ]
    }
   ],
   "source": [
    "print(\"RMSE for Lasso + Lars\\nTraining/In-Sample: \", rmse_train, \n",
    "      \"\\nValidation/Out-of-Sample: \", rmse_validate)"
   ]
  },
  {
   "cell_type": "markdown",
   "id": "a3fb6c80",
   "metadata": {},
   "source": [
    "### Model Conclusion"
   ]
  },
  {
   "cell_type": "code",
   "execution_count": 105,
   "id": "b25e9aa4",
   "metadata": {},
   "outputs": [
    {
     "name": "stdout",
     "output_type": "stream",
     "text": [
      "RMSE for Lasso + Lars\n",
      "Training/In-Sample:  0.17399889316814268 \n",
      "Validation/Out-of-Sample:  0.1872760414823965 Baseline RMSE\n",
      "Training/In-Sample:  0.17399889316814268 \n",
      "Validation/Out-of-Sample:  0.18727602422316578\n"
     ]
    }
   ],
   "source": [
    "print(\"RMSE for Lasso + Lars\\nTraining/In-Sample: \", rmse_train, \n",
    "      \"\\nValidation/Out-of-Sample: \", rmse_validate,\n",
    "     'Baseline RMSE\\nTraining/In-Sample: ', rmse_train_baseline,\n",
    "     '\\nValidation/Out-of-Sample: ', rmse_validate_baseline)"
   ]
  },
  {
   "cell_type": "markdown",
   "id": "ac3c494f",
   "metadata": {},
   "source": [
    "Baseline was better."
   ]
  },
  {
   "cell_type": "code",
   "execution_count": null,
   "id": "660be316",
   "metadata": {},
   "outputs": [],
   "source": []
  }
 ],
 "metadata": {
  "kernelspec": {
   "display_name": "Python 3 (ipykernel)",
   "language": "python",
   "name": "python3"
  },
  "language_info": {
   "codemirror_mode": {
    "name": "ipython",
    "version": 3
   },
   "file_extension": ".py",
   "mimetype": "text/x-python",
   "name": "python",
   "nbconvert_exporter": "python",
   "pygments_lexer": "ipython3",
   "version": "3.9.12"
  }
 },
 "nbformat": 4,
 "nbformat_minor": 5
}
