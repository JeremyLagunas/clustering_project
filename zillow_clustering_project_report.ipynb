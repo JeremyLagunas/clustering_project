{
 "cells": [
  {
   "cell_type": "code",
   "execution_count": 1,
   "id": "eec12edd",
   "metadata": {},
   "outputs": [],
   "source": [
    "import pandas as pd\n",
    "import env\n",
    "import numpy as np\n",
    "import matplotlib.pyplot as plt\n",
    "import seaborn as sns\n",
    "from sklearn.cluster import KMeans\n",
    "from sklearn.preprocessing import MinMaxScaler, RobustScaler\n",
    "from sklearn.model_selection import train_test_split\n",
    "import warnings\n",
    "warnings.filterwarnings('ignore')\n",
    "import wrangle\n",
    "pd.set_option('display.max_columns', None)\n",
    "from sklearn.cluster import KMeans\n",
    "from scipy import stats\n",
    "from sklearn.feature_selection import SelectKBest, f_regression\n",
    "from sklearn.metrics import mean_squared_error\n",
    "from sklearn.linear_model import LinearRegression, LassoLars, TweedieRegressor\n",
    "from sklearn.preprocessing import PolynomialFeatures"
   ]
  },
  {
   "cell_type": "markdown",
   "id": "12bb1cab",
   "metadata": {},
   "source": [
    "# Zillow Clustering Project Report\n",
    "\n",
    "By Jeremy Lagunas\n",
    "08/09/2022"
   ]
  },
  {
   "cell_type": "markdown",
   "id": "5a4f0eb2",
   "metadata": {},
   "source": [
    "# Project Description\n",
    "\n",
    "I worked with the zillow data to try and find useful clusters in the data. These clusters were used to generate models which predicted log error."
   ]
  },
  {
   "cell_type": "markdown",
   "id": "c39706f5",
   "metadata": {},
   "source": [
    "# Project Goals:\n",
    "- Generate informative visuals to show how variables interact.\n",
    "- Find which features to use in a predictive model.\n",
    "- Create a model which outperforms the baseline. "
   ]
  },
  {
   "cell_type": "markdown",
   "id": "cd5af15b",
   "metadata": {},
   "source": [
    "# Acquire"
   ]
  },
  {
   "cell_type": "code",
   "execution_count": 2,
   "id": "46659579",
   "metadata": {},
   "outputs": [],
   "source": [
    "# Using this function from the wrangle.py to acquire the data.\n",
    "df = wrangle.new_zillow_data()"
   ]
  },
  {
   "cell_type": "markdown",
   "id": "b4f48030",
   "metadata": {},
   "source": [
    "# Prepare"
   ]
  },
  {
   "cell_type": "code",
   "execution_count": 3,
   "id": "3f44476b",
   "metadata": {},
   "outputs": [
    {
     "data": {
      "text/plain": [
       "(52319, 68)"
      ]
     },
     "execution_count": 3,
     "metadata": {},
     "output_type": "execute_result"
    }
   ],
   "source": [
    "# Starting shape of the data.\n",
    "df.shape"
   ]
  },
  {
   "cell_type": "code",
   "execution_count": 4,
   "id": "21a759d4",
   "metadata": {},
   "outputs": [
    {
     "data": {
      "text/html": [
       "<div>\n",
       "<style scoped>\n",
       "    .dataframe tbody tr th:only-of-type {\n",
       "        vertical-align: middle;\n",
       "    }\n",
       "\n",
       "    .dataframe tbody tr th {\n",
       "        vertical-align: top;\n",
       "    }\n",
       "\n",
       "    .dataframe thead th {\n",
       "        text-align: right;\n",
       "    }\n",
       "</style>\n",
       "<table border=\"1\" class=\"dataframe\">\n",
       "  <thead>\n",
       "    <tr style=\"text-align: right;\">\n",
       "      <th>name</th>\n",
       "      <th>id</th>\n",
       "      <th>parcelid</th>\n",
       "      <th>airconditioningtypeid</th>\n",
       "      <th>architecturalstyletypeid</th>\n",
       "      <th>basementsqft</th>\n",
       "      <th>bathroomcnt</th>\n",
       "      <th>bedroomcnt</th>\n",
       "      <th>buildingclasstypeid</th>\n",
       "      <th>buildingqualitytypeid</th>\n",
       "      <th>calculatedbathnbr</th>\n",
       "      <th>decktypeid</th>\n",
       "      <th>finishedfloor1squarefeet</th>\n",
       "      <th>calculatedfinishedsquarefeet</th>\n",
       "      <th>finishedsquarefeet12</th>\n",
       "      <th>finishedsquarefeet13</th>\n",
       "      <th>finishedsquarefeet15</th>\n",
       "      <th>finishedsquarefeet50</th>\n",
       "      <th>finishedsquarefeet6</th>\n",
       "      <th>fips</th>\n",
       "      <th>fireplacecnt</th>\n",
       "      <th>fullbathcnt</th>\n",
       "      <th>garagecarcnt</th>\n",
       "      <th>garagetotalsqft</th>\n",
       "      <th>hashottuborspa</th>\n",
       "      <th>heatingorsystemtypeid</th>\n",
       "      <th>latitude</th>\n",
       "      <th>longitude</th>\n",
       "      <th>lotsizesquarefeet</th>\n",
       "      <th>poolcnt</th>\n",
       "      <th>poolsizesum</th>\n",
       "      <th>pooltypeid10</th>\n",
       "      <th>pooltypeid2</th>\n",
       "      <th>pooltypeid7</th>\n",
       "      <th>propertycountylandusecode</th>\n",
       "      <th>propertylandusetypeid</th>\n",
       "      <th>propertyzoningdesc</th>\n",
       "      <th>rawcensustractandblock</th>\n",
       "      <th>regionidcity</th>\n",
       "      <th>regionidcounty</th>\n",
       "      <th>regionidneighborhood</th>\n",
       "      <th>regionidzip</th>\n",
       "      <th>roomcnt</th>\n",
       "      <th>storytypeid</th>\n",
       "      <th>threequarterbathnbr</th>\n",
       "      <th>typeconstructiontypeid</th>\n",
       "      <th>unitcnt</th>\n",
       "      <th>yardbuildingsqft17</th>\n",
       "      <th>yardbuildingsqft26</th>\n",
       "      <th>yearbuilt</th>\n",
       "      <th>numberofstories</th>\n",
       "      <th>fireplaceflag</th>\n",
       "      <th>structuretaxvaluedollarcnt</th>\n",
       "      <th>taxvaluedollarcnt</th>\n",
       "      <th>assessmentyear</th>\n",
       "      <th>landtaxvaluedollarcnt</th>\n",
       "      <th>taxamount</th>\n",
       "      <th>taxdelinquencyflag</th>\n",
       "      <th>taxdelinquencyyear</th>\n",
       "      <th>censustractandblock</th>\n",
       "      <th>logerror</th>\n",
       "      <th>transactiondate</th>\n",
       "      <th>airconditioningdesc</th>\n",
       "      <th>architecturalstyledesc</th>\n",
       "      <th>buildingclassdesc</th>\n",
       "      <th>heatingorsystemdesc</th>\n",
       "      <th>propertylandusedesc</th>\n",
       "      <th>storydesc</th>\n",
       "      <th>typeconstructiondesc</th>\n",
       "    </tr>\n",
       "  </thead>\n",
       "  <tbody>\n",
       "    <tr>\n",
       "      <th>num_rows_missing</th>\n",
       "      <td>0</td>\n",
       "      <td>0</td>\n",
       "      <td>38704</td>\n",
       "      <td>52249</td>\n",
       "      <td>52272</td>\n",
       "      <td>0</td>\n",
       "      <td>0</td>\n",
       "      <td>52319</td>\n",
       "      <td>18665</td>\n",
       "      <td>135</td>\n",
       "      <td>51930</td>\n",
       "      <td>47948</td>\n",
       "      <td>81</td>\n",
       "      <td>246</td>\n",
       "      <td>52319</td>\n",
       "      <td>52319</td>\n",
       "      <td>47948</td>\n",
       "      <td>52154</td>\n",
       "      <td>0</td>\n",
       "      <td>45086</td>\n",
       "      <td>135</td>\n",
       "      <td>34335</td>\n",
       "      <td>34335</td>\n",
       "      <td>50805</td>\n",
       "      <td>18470</td>\n",
       "      <td>0</td>\n",
       "      <td>0</td>\n",
       "      <td>366</td>\n",
       "      <td>41242</td>\n",
       "      <td>51454</td>\n",
       "      <td>51876</td>\n",
       "      <td>51248</td>\n",
       "      <td>42329</td>\n",
       "      <td>0</td>\n",
       "      <td>0</td>\n",
       "      <td>18558</td>\n",
       "      <td>0</td>\n",
       "      <td>1036</td>\n",
       "      <td>0</td>\n",
       "      <td>33338</td>\n",
       "      <td>26</td>\n",
       "      <td>0</td>\n",
       "      <td>52272</td>\n",
       "      <td>45602</td>\n",
       "      <td>52243</td>\n",
       "      <td>18558</td>\n",
       "      <td>50384</td>\n",
       "      <td>52256</td>\n",
       "      <td>114</td>\n",
       "      <td>37787</td>\n",
       "      <td>52238</td>\n",
       "      <td>82</td>\n",
       "      <td>1</td>\n",
       "      <td>0</td>\n",
       "      <td>1</td>\n",
       "      <td>4</td>\n",
       "      <td>50251</td>\n",
       "      <td>50251</td>\n",
       "      <td>121</td>\n",
       "      <td>0</td>\n",
       "      <td>0</td>\n",
       "      <td>38704</td>\n",
       "      <td>52249</td>\n",
       "      <td>52319</td>\n",
       "      <td>18470</td>\n",
       "      <td>0</td>\n",
       "      <td>52272</td>\n",
       "      <td>52243</td>\n",
       "    </tr>\n",
       "    <tr>\n",
       "      <th>pct_rows_missing</th>\n",
       "      <td>0.0</td>\n",
       "      <td>0.0</td>\n",
       "      <td>0.739769</td>\n",
       "      <td>0.998662</td>\n",
       "      <td>0.999102</td>\n",
       "      <td>0.0</td>\n",
       "      <td>0.0</td>\n",
       "      <td>1.0</td>\n",
       "      <td>0.356754</td>\n",
       "      <td>0.00258</td>\n",
       "      <td>0.992565</td>\n",
       "      <td>0.916455</td>\n",
       "      <td>0.001548</td>\n",
       "      <td>0.004702</td>\n",
       "      <td>1.0</td>\n",
       "      <td>1.0</td>\n",
       "      <td>0.916455</td>\n",
       "      <td>0.996846</td>\n",
       "      <td>0.0</td>\n",
       "      <td>0.861752</td>\n",
       "      <td>0.00258</td>\n",
       "      <td>0.656263</td>\n",
       "      <td>0.656263</td>\n",
       "      <td>0.971062</td>\n",
       "      <td>0.353027</td>\n",
       "      <td>0.0</td>\n",
       "      <td>0.0</td>\n",
       "      <td>0.006996</td>\n",
       "      <td>0.78828</td>\n",
       "      <td>0.983467</td>\n",
       "      <td>0.991533</td>\n",
       "      <td>0.979529</td>\n",
       "      <td>0.809056</td>\n",
       "      <td>0.0</td>\n",
       "      <td>0.0</td>\n",
       "      <td>0.354709</td>\n",
       "      <td>0.0</td>\n",
       "      <td>0.019802</td>\n",
       "      <td>0.0</td>\n",
       "      <td>0.637206</td>\n",
       "      <td>0.000497</td>\n",
       "      <td>0.0</td>\n",
       "      <td>0.999102</td>\n",
       "      <td>0.871615</td>\n",
       "      <td>0.998547</td>\n",
       "      <td>0.354709</td>\n",
       "      <td>0.963015</td>\n",
       "      <td>0.998796</td>\n",
       "      <td>0.002179</td>\n",
       "      <td>0.722242</td>\n",
       "      <td>0.998452</td>\n",
       "      <td>0.001567</td>\n",
       "      <td>0.000019</td>\n",
       "      <td>0.0</td>\n",
       "      <td>0.000019</td>\n",
       "      <td>0.000076</td>\n",
       "      <td>0.960473</td>\n",
       "      <td>0.960473</td>\n",
       "      <td>0.002313</td>\n",
       "      <td>0.0</td>\n",
       "      <td>0.0</td>\n",
       "      <td>0.739769</td>\n",
       "      <td>0.998662</td>\n",
       "      <td>1.0</td>\n",
       "      <td>0.353027</td>\n",
       "      <td>0.0</td>\n",
       "      <td>0.999102</td>\n",
       "      <td>0.998547</td>\n",
       "    </tr>\n",
       "  </tbody>\n",
       "</table>\n",
       "</div>"
      ],
      "text/plain": [
       "name               id parcelid airconditioningtypeid architecturalstyletypeid  \\\n",
       "num_rows_missing    0        0                 38704                    52249   \n",
       "pct_rows_missing  0.0      0.0              0.739769                 0.998662   \n",
       "\n",
       "name             basementsqft bathroomcnt bedroomcnt buildingclasstypeid  \\\n",
       "num_rows_missing        52272           0          0               52319   \n",
       "pct_rows_missing     0.999102         0.0        0.0                 1.0   \n",
       "\n",
       "name             buildingqualitytypeid calculatedbathnbr decktypeid  \\\n",
       "num_rows_missing                 18665               135      51930   \n",
       "pct_rows_missing              0.356754           0.00258   0.992565   \n",
       "\n",
       "name             finishedfloor1squarefeet calculatedfinishedsquarefeet  \\\n",
       "num_rows_missing                    47948                           81   \n",
       "pct_rows_missing                 0.916455                     0.001548   \n",
       "\n",
       "name             finishedsquarefeet12 finishedsquarefeet13  \\\n",
       "num_rows_missing                  246                52319   \n",
       "pct_rows_missing             0.004702                  1.0   \n",
       "\n",
       "name             finishedsquarefeet15 finishedsquarefeet50  \\\n",
       "num_rows_missing                52319                47948   \n",
       "pct_rows_missing                  1.0             0.916455   \n",
       "\n",
       "name             finishedsquarefeet6 fips fireplacecnt fullbathcnt  \\\n",
       "num_rows_missing               52154    0        45086         135   \n",
       "pct_rows_missing            0.996846  0.0     0.861752     0.00258   \n",
       "\n",
       "name             garagecarcnt garagetotalsqft hashottuborspa  \\\n",
       "num_rows_missing        34335           34335          50805   \n",
       "pct_rows_missing     0.656263        0.656263       0.971062   \n",
       "\n",
       "name             heatingorsystemtypeid latitude longitude lotsizesquarefeet  \\\n",
       "num_rows_missing                 18470        0         0               366   \n",
       "pct_rows_missing              0.353027      0.0       0.0          0.006996   \n",
       "\n",
       "name              poolcnt poolsizesum pooltypeid10 pooltypeid2 pooltypeid7  \\\n",
       "num_rows_missing    41242       51454        51876       51248       42329   \n",
       "pct_rows_missing  0.78828    0.983467     0.991533    0.979529    0.809056   \n",
       "\n",
       "name             propertycountylandusecode propertylandusetypeid  \\\n",
       "num_rows_missing                         0                     0   \n",
       "pct_rows_missing                       0.0                   0.0   \n",
       "\n",
       "name             propertyzoningdesc rawcensustractandblock regionidcity  \\\n",
       "num_rows_missing              18558                      0         1036   \n",
       "pct_rows_missing           0.354709                    0.0     0.019802   \n",
       "\n",
       "name             regionidcounty regionidneighborhood regionidzip roomcnt  \\\n",
       "num_rows_missing              0                33338          26       0   \n",
       "pct_rows_missing            0.0             0.637206    0.000497     0.0   \n",
       "\n",
       "name             storytypeid threequarterbathnbr typeconstructiontypeid  \\\n",
       "num_rows_missing       52272               45602                  52243   \n",
       "pct_rows_missing    0.999102            0.871615               0.998547   \n",
       "\n",
       "name               unitcnt yardbuildingsqft17 yardbuildingsqft26 yearbuilt  \\\n",
       "num_rows_missing     18558              50384              52256       114   \n",
       "pct_rows_missing  0.354709           0.963015           0.998796  0.002179   \n",
       "\n",
       "name             numberofstories fireplaceflag structuretaxvaluedollarcnt  \\\n",
       "num_rows_missing           37787         52238                         82   \n",
       "pct_rows_missing        0.722242      0.998452                   0.001567   \n",
       "\n",
       "name             taxvaluedollarcnt assessmentyear landtaxvaluedollarcnt  \\\n",
       "num_rows_missing                 1              0                     1   \n",
       "pct_rows_missing          0.000019            0.0              0.000019   \n",
       "\n",
       "name             taxamount taxdelinquencyflag taxdelinquencyyear  \\\n",
       "num_rows_missing         4              50251              50251   \n",
       "pct_rows_missing  0.000076           0.960473           0.960473   \n",
       "\n",
       "name             censustractandblock logerror transactiondate  \\\n",
       "num_rows_missing                 121        0               0   \n",
       "pct_rows_missing            0.002313      0.0             0.0   \n",
       "\n",
       "name             airconditioningdesc architecturalstyledesc buildingclassdesc  \\\n",
       "num_rows_missing               38704                  52249             52319   \n",
       "pct_rows_missing            0.739769               0.998662               1.0   \n",
       "\n",
       "name             heatingorsystemdesc propertylandusedesc storydesc  \\\n",
       "num_rows_missing               18470                   0     52272   \n",
       "pct_rows_missing            0.353027                 0.0  0.999102   \n",
       "\n",
       "name             typeconstructiondesc  \n",
       "num_rows_missing                52243  \n",
       "pct_rows_missing             0.998547  "
      ]
     },
     "execution_count": 4,
     "metadata": {},
     "output_type": "execute_result"
    }
   ],
   "source": [
    "# This function displays the number of nulls per column as well as the percent of the column those nulls make up.\n",
    "wrangle.null_counter(df).T"
   ]
  },
  {
   "cell_type": "code",
   "execution_count": 3,
   "id": "5ad78eaf",
   "metadata": {},
   "outputs": [],
   "source": [
    "# This function drops each column which does not have at least 75% non-null data.\n",
    "df = wrangle.null_dropper(df, 0.75, 0.75)"
   ]
  },
  {
   "cell_type": "code",
   "execution_count": 4,
   "id": "809aa152",
   "metadata": {},
   "outputs": [],
   "source": [
    "# This function drops remaining NaN's, drops columns with redundant information, creates a column for half baths, and changes the fips column to a county column. For more information, please see the wrangle.py file.\n",
    "df = wrangle.zillow_clean(df)"
   ]
  },
  {
   "cell_type": "code",
   "execution_count": 7,
   "id": "67b934b5",
   "metadata": {},
   "outputs": [
    {
     "data": {
      "text/html": [
       "<div>\n",
       "<style scoped>\n",
       "    .dataframe tbody tr th:only-of-type {\n",
       "        vertical-align: middle;\n",
       "    }\n",
       "\n",
       "    .dataframe tbody tr th {\n",
       "        vertical-align: top;\n",
       "    }\n",
       "\n",
       "    .dataframe thead th {\n",
       "        text-align: right;\n",
       "    }\n",
       "</style>\n",
       "<table border=\"1\" class=\"dataframe\">\n",
       "  <thead>\n",
       "    <tr style=\"text-align: right;\">\n",
       "      <th></th>\n",
       "      <th>id</th>\n",
       "      <th>parcelid</th>\n",
       "      <th>bath</th>\n",
       "      <th>bed</th>\n",
       "      <th>calculatedbathnbr</th>\n",
       "      <th>square_feet</th>\n",
       "      <th>county</th>\n",
       "      <th>fullbathcnt</th>\n",
       "      <th>latitude</th>\n",
       "      <th>longitude</th>\n",
       "      <th>lot_square_feet</th>\n",
       "      <th>rawcensustractandblock</th>\n",
       "      <th>id_city</th>\n",
       "      <th>id_county</th>\n",
       "      <th>id_zip</th>\n",
       "      <th>yearbuilt</th>\n",
       "      <th>appraisal</th>\n",
       "      <th>assessmentyear</th>\n",
       "      <th>logerror</th>\n",
       "      <th>transactiondate</th>\n",
       "      <th>half_bath</th>\n",
       "    </tr>\n",
       "  </thead>\n",
       "  <tbody>\n",
       "    <tr>\n",
       "      <th>0</th>\n",
       "      <td>1727539</td>\n",
       "      <td>14297519</td>\n",
       "      <td>3.5</td>\n",
       "      <td>4.0</td>\n",
       "      <td>3.5</td>\n",
       "      <td>3100.0</td>\n",
       "      <td>Orange County</td>\n",
       "      <td>3.0</td>\n",
       "      <td>33634931.0</td>\n",
       "      <td>-117869207.0</td>\n",
       "      <td>4506.0</td>\n",
       "      <td>6.059063e+07</td>\n",
       "      <td>53571.0</td>\n",
       "      <td>1286.0</td>\n",
       "      <td>96978.0</td>\n",
       "      <td>1998.0</td>\n",
       "      <td>1023282.0</td>\n",
       "      <td>2016.0</td>\n",
       "      <td>0.025595</td>\n",
       "      <td>2017-01-01</td>\n",
       "      <td>1.0</td>\n",
       "    </tr>\n",
       "    <tr>\n",
       "      <th>1</th>\n",
       "      <td>1387261</td>\n",
       "      <td>17052889</td>\n",
       "      <td>1.0</td>\n",
       "      <td>2.0</td>\n",
       "      <td>1.0</td>\n",
       "      <td>1465.0</td>\n",
       "      <td>Ventura County</td>\n",
       "      <td>1.0</td>\n",
       "      <td>34449266.0</td>\n",
       "      <td>-119281531.0</td>\n",
       "      <td>12647.0</td>\n",
       "      <td>6.111001e+07</td>\n",
       "      <td>13091.0</td>\n",
       "      <td>2061.0</td>\n",
       "      <td>97099.0</td>\n",
       "      <td>1967.0</td>\n",
       "      <td>464000.0</td>\n",
       "      <td>2016.0</td>\n",
       "      <td>0.055619</td>\n",
       "      <td>2017-01-01</td>\n",
       "      <td>0.0</td>\n",
       "    </tr>\n",
       "    <tr>\n",
       "      <th>2</th>\n",
       "      <td>11677</td>\n",
       "      <td>14186244</td>\n",
       "      <td>2.0</td>\n",
       "      <td>3.0</td>\n",
       "      <td>2.0</td>\n",
       "      <td>1243.0</td>\n",
       "      <td>Orange County</td>\n",
       "      <td>2.0</td>\n",
       "      <td>33886168.0</td>\n",
       "      <td>-117823170.0</td>\n",
       "      <td>8432.0</td>\n",
       "      <td>6.059022e+07</td>\n",
       "      <td>21412.0</td>\n",
       "      <td>1286.0</td>\n",
       "      <td>97078.0</td>\n",
       "      <td>1962.0</td>\n",
       "      <td>564778.0</td>\n",
       "      <td>2016.0</td>\n",
       "      <td>0.005383</td>\n",
       "      <td>2017-01-01</td>\n",
       "      <td>0.0</td>\n",
       "    </tr>\n",
       "    <tr>\n",
       "      <th>3</th>\n",
       "      <td>2288172</td>\n",
       "      <td>12177905</td>\n",
       "      <td>3.0</td>\n",
       "      <td>4.0</td>\n",
       "      <td>3.0</td>\n",
       "      <td>2376.0</td>\n",
       "      <td>LA County</td>\n",
       "      <td>3.0</td>\n",
       "      <td>34245180.0</td>\n",
       "      <td>-118240722.0</td>\n",
       "      <td>13038.0</td>\n",
       "      <td>6.037300e+07</td>\n",
       "      <td>396551.0</td>\n",
       "      <td>3101.0</td>\n",
       "      <td>96330.0</td>\n",
       "      <td>1970.0</td>\n",
       "      <td>145143.0</td>\n",
       "      <td>2016.0</td>\n",
       "      <td>-0.103410</td>\n",
       "      <td>2017-01-01</td>\n",
       "      <td>0.0</td>\n",
       "    </tr>\n",
       "    <tr>\n",
       "      <th>4</th>\n",
       "      <td>781532</td>\n",
       "      <td>12095076</td>\n",
       "      <td>3.0</td>\n",
       "      <td>4.0</td>\n",
       "      <td>3.0</td>\n",
       "      <td>2962.0</td>\n",
       "      <td>LA County</td>\n",
       "      <td>3.0</td>\n",
       "      <td>34145202.0</td>\n",
       "      <td>-118179824.0</td>\n",
       "      <td>63000.0</td>\n",
       "      <td>6.037461e+07</td>\n",
       "      <td>47019.0</td>\n",
       "      <td>3101.0</td>\n",
       "      <td>96293.0</td>\n",
       "      <td>1950.0</td>\n",
       "      <td>773303.0</td>\n",
       "      <td>2016.0</td>\n",
       "      <td>-0.001011</td>\n",
       "      <td>2017-01-01</td>\n",
       "      <td>0.0</td>\n",
       "    </tr>\n",
       "  </tbody>\n",
       "</table>\n",
       "</div>"
      ],
      "text/plain": [
       "        id  parcelid  bath  bed  calculatedbathnbr  square_feet  \\\n",
       "0  1727539  14297519   3.5  4.0                3.5       3100.0   \n",
       "1  1387261  17052889   1.0  2.0                1.0       1465.0   \n",
       "2    11677  14186244   2.0  3.0                2.0       1243.0   \n",
       "3  2288172  12177905   3.0  4.0                3.0       2376.0   \n",
       "4   781532  12095076   3.0  4.0                3.0       2962.0   \n",
       "\n",
       "           county  fullbathcnt    latitude    longitude  lot_square_feet  \\\n",
       "0   Orange County          3.0  33634931.0 -117869207.0           4506.0   \n",
       "1  Ventura County          1.0  34449266.0 -119281531.0          12647.0   \n",
       "2   Orange County          2.0  33886168.0 -117823170.0           8432.0   \n",
       "3       LA County          3.0  34245180.0 -118240722.0          13038.0   \n",
       "4       LA County          3.0  34145202.0 -118179824.0          63000.0   \n",
       "\n",
       "   rawcensustractandblock   id_city  id_county   id_zip  yearbuilt  appraisal  \\\n",
       "0            6.059063e+07   53571.0     1286.0  96978.0     1998.0  1023282.0   \n",
       "1            6.111001e+07   13091.0     2061.0  97099.0     1967.0   464000.0   \n",
       "2            6.059022e+07   21412.0     1286.0  97078.0     1962.0   564778.0   \n",
       "3            6.037300e+07  396551.0     3101.0  96330.0     1970.0   145143.0   \n",
       "4            6.037461e+07   47019.0     3101.0  96293.0     1950.0   773303.0   \n",
       "\n",
       "   assessmentyear  logerror transactiondate  half_bath  \n",
       "0          2016.0  0.025595      2017-01-01        1.0  \n",
       "1          2016.0  0.055619      2017-01-01        0.0  \n",
       "2          2016.0  0.005383      2017-01-01        0.0  \n",
       "3          2016.0 -0.103410      2017-01-01        0.0  \n",
       "4          2016.0 -0.001011      2017-01-01        0.0  "
      ]
     },
     "execution_count": 7,
     "metadata": {},
     "output_type": "execute_result"
    }
   ],
   "source": [
    "df.head()"
   ]
  },
  {
   "cell_type": "markdown",
   "id": "22802f74",
   "metadata": {},
   "source": [
    "### Split"
   ]
  },
  {
   "cell_type": "code",
   "execution_count": 5,
   "id": "f8ee5b02",
   "metadata": {},
   "outputs": [],
   "source": [
    "# Splitting the data before beginning exploration.\n",
    "train, valid_test = train_test_split(df, test_size = 0.3, random_state = 123)\n",
    "\n",
    "validate, test = train_test_split(valid_test, test_size = 0.5, random_state = 123)"
   ]
  },
  {
   "cell_type": "code",
   "execution_count": 6,
   "id": "f52b938e",
   "metadata": {},
   "outputs": [
    {
     "name": "stdout",
     "output_type": "stream",
     "text": [
      "(35391, 21) (7584, 21) (7584, 21)\n"
     ]
    }
   ],
   "source": [
    "print(train.shape, validate.shape, test.shape)"
   ]
  },
  {
   "cell_type": "markdown",
   "id": "b6eda304",
   "metadata": {},
   "source": [
    "# Explore\n",
    "\n",
    "### 1. How does log error compare between the three counties?"
   ]
  },
  {
   "cell_type": "code",
   "execution_count": 10,
   "id": "ad075cba",
   "metadata": {},
   "outputs": [],
   "source": [
    "# Establishing variables representing the average log error for each county.\n",
    "avg_LA_logerror = df.logerror[df.county == 'LA County'].mean()\n",
    "avg_Orange_logerror = df.logerror[df.county == 'Orange County'].mean()\n",
    "avg_Ventura_logerror = df.logerror[df.county == 'Ventura County'].mean()"
   ]
  },
  {
   "cell_type": "code",
   "execution_count": 11,
   "id": "b55f7ad1",
   "metadata": {},
   "outputs": [],
   "source": [
    "# x and y for the bar chart.\n",
    "y = [avg_LA_logerror, avg_Orange_logerror, avg_Ventura_logerror]\n",
    "x = ['LA County', 'Orange County', 'Ventura County']"
   ]
  },
  {
   "cell_type": "code",
   "execution_count": 12,
   "id": "249c0bb6",
   "metadata": {},
   "outputs": [
    {
     "data": {
      "image/png": "[encoded data removed]",
      "text/plain": [
       "<Figure size 432x288 with 1 Axes>"
      ]
     },
     "metadata": {
      "needs_background": "light"
     },
     "output_type": "display_data"
    }
   ],
   "source": [
    "# This bar chart represents the Average Log Error by County.\n",
    "plt.bar(x, y)\n",
    "plt.ylabel('Average logerror')\n",
    "plt.title('Average Log error by County')\n",
    "plt.show()"
   ]
  },
  {
   "cell_type": "markdown",
   "id": "c1aae739",
   "metadata": {},
   "source": [
    "Orange County appears to have a higher average log error."
   ]
  },
  {
   "cell_type": "markdown",
   "id": "ddf63d92",
   "metadata": {},
   "source": [
    "### Null Hypothesis:\n",
    "- There is no significant difference between the county's logerrors.\n",
    "\n",
    "### Alternative Hypothesis\n",
    "- There is a statistically significant difference between the county's logerrors. "
   ]
  },
  {
   "cell_type": "code",
   "execution_count": 13,
   "id": "42f36537",
   "metadata": {},
   "outputs": [
    {
     "data": {
      "text/plain": [
       "(22.529040531309715, 1.660043739931129e-10)"
      ]
     },
     "execution_count": 13,
     "metadata": {},
     "output_type": "execute_result"
    }
   ],
   "source": [
    "alpha = 0.05\n",
    "\n",
    "f, p = stats.f_oneway(df[df['county'] == 'LA County'].logerror,\n",
    "                     df[df['county'] == 'Orange County'].logerror,\n",
    "                     df[df['county'] == 'Ventura County'].logerror)\n",
    "\n",
    "f, p"
   ]
  },
  {
   "cell_type": "markdown",
   "id": "b9a16f6b",
   "metadata": {},
   "source": [
    "I reject the Null Hypothesis."
   ]
  },
  {
   "cell_type": "markdown",
   "id": "61072e60",
   "metadata": {},
   "source": [
    "### 2. How does size of a house in square feet affect log error?"
   ]
  },
  {
   "cell_type": "code",
   "execution_count": 45,
   "id": "49dc8cfb",
   "metadata": {},
   "outputs": [],
   "source": [
    "# x and y for the bar chart\n",
    "# y is the average log error per bin of house. These bins are based on square feet and are broken up as follows: < 2500 sqft, >= 2500 sqft & < 5000 sqft, >= 5000 sqft.\n",
    "y=[df.logerror[df.square_feet < 2500].mean(),\n",
    "df.logerror[(df.square_feet >= 2500) & (df.square_feet < 5000)].mean(),\n",
    "df.logerror[df.square_feet >= 5000].mean()]\n",
    "\n",
    "x=['small', 'medium', 'large']"
   ]
  },
  {
   "cell_type": "code",
   "execution_count": 46,
   "id": "80d543a9",
   "metadata": {},
   "outputs": [
    {
     "data": {
      "image/png": "[encoded data removed]",
      "text/plain": [
       "<Figure size 432x288 with 1 Axes>"
      ]
     },
     "metadata": {
      "needs_background": "light"
     },
     "output_type": "display_data"
    }
   ],
   "source": [
    "# Bar chart representing the difference in average log error by house bin.\n",
    "plt.bar(x, y)\n",
    "plt.xlabel('House bins')\n",
    "plt.ylabel('Average logerror')\n",
    "plt.title('Average Log Error by House Square Feet Bins')\n",
    "plt.show()"
   ]
  },
  {
   "cell_type": "markdown",
   "id": "954c1d0a",
   "metadata": {},
   "source": [
    "It appears that larger houses have a larger average log error."
   ]
  },
  {
   "cell_type": "markdown",
   "id": "d1a0b77b",
   "metadata": {},
   "source": [
    "### Null Hypothesis:\n",
    "- There is no significant difference between the logerrors according to house square footage.\n",
    "\n",
    "### Alternative Hypothesis\n",
    "- There is a statistically significant difference between the logerrors according to house square footage. "
   ]
  },
  {
   "cell_type": "code",
   "execution_count": 16,
   "id": "50d81e2a",
   "metadata": {},
   "outputs": [
    {
     "data": {
      "text/plain": [
       "(44.00700236584575, 8.028208895897534e-20)"
      ]
     },
     "execution_count": 16,
     "metadata": {},
     "output_type": "execute_result"
    }
   ],
   "source": [
    "alpha = 0.05\n",
    "\n",
    "f, p = stats.f_oneway(df[df['square_feet'] < 2500].logerror,\n",
    "                     df[(df['square_feet'] >= 2500) & (df['square_feet'] < 5000)].logerror,\n",
    "                     df[df['square_feet'] >= 5000].logerror)\n",
    "\n",
    "f, p"
   ]
  },
  {
   "cell_type": "markdown",
   "id": "f7092a86",
   "metadata": {},
   "source": [
    "I reject the Null Hypothesis."
   ]
  },
  {
   "cell_type": "markdown",
   "id": "ca389821",
   "metadata": {},
   "source": [
    "### 3. How does year built affect log error?"
   ]
  },
  {
   "cell_type": "code",
   "execution_count": 17,
   "id": "60e81585",
   "metadata": {},
   "outputs": [],
   "source": [
    "# x and y for the bar chart.\n",
    "# y is the average log error per year built bins. The bins are broken up as follows: Before 1950, 1950-1979, 1980-Present.\n",
    "y=[df.logerror[df.yearbuilt < 1950].mean(),\n",
    "df.logerror[(df.yearbuilt >= 1950) & (df.square_feet < 1980)].mean(),\n",
    "df.logerror[df.yearbuilt >= 1980].mean()]\n",
    "\n",
    "x = ['Before 1950', '1950-1979', '1980-Present']"
   ]
  },
  {
   "cell_type": "code",
   "execution_count": 18,
   "id": "c1efa491",
   "metadata": {},
   "outputs": [
    {
     "data": {
      "image/png": "[encoded data removed]",
      "text/plain": [
       "<Figure size 432x288 with 1 Axes>"
      ]
     },
     "metadata": {
      "needs_background": "light"
     },
     "output_type": "display_data"
    }
   ],
   "source": [
    "# This bar char represents the average log error by year built bin.\n",
    "plt.bar(x, y)\n",
    "plt.xlabel('Year Built')\n",
    "plt.ylabel('Average logerror')\n",
    "plt.title('Average Log Error by Year Built')\n",
    "plt.show()"
   ]
  },
  {
   "cell_type": "markdown",
   "id": "5993389c",
   "metadata": {},
   "source": [
    "### Null Hypothesis:\n",
    "- There is no significant difference between the logerrors according to year built. \n",
    "\n",
    "### Alternative Hypothesis\n",
    "- There is a statistically significant difference between the logerrors according to year built."
   ]
  },
  {
   "cell_type": "code",
   "execution_count": 19,
   "id": "eb960369",
   "metadata": {},
   "outputs": [
    {
     "data": {
      "text/plain": [
       "(9.361556106866363, 8.611533662895507e-05)"
      ]
     },
     "execution_count": 19,
     "metadata": {},
     "output_type": "execute_result"
    }
   ],
   "source": [
    "alpha = 0.05\n",
    "\n",
    "f, p = stats.f_oneway(df[df['yearbuilt'] < 1950].logerror,\n",
    "                     df[(df['yearbuilt'] >= 1950) & (df['yearbuilt'] < 1980)].logerror,\n",
    "                     df[df['yearbuilt'] >= 1980].logerror)\n",
    "\n",
    "f, p"
   ]
  },
  {
   "cell_type": "markdown",
   "id": "8d3a8614",
   "metadata": {},
   "source": [
    "I reject the Null Hypothesis."
   ]
  },
  {
   "cell_type": "markdown",
   "id": "84a9b799",
   "metadata": {},
   "source": [
    "### 4. How does the number of half baths affect log error?"
   ]
  },
  {
   "cell_type": "code",
   "execution_count": 20,
   "id": "ae484b2c",
   "metadata": {},
   "outputs": [],
   "source": [
    "# x and y for the bar chart.\n",
    "# y is the average log error by half bath bin. The bins are broken up as follows: None, One half bath, Two or more half baths.\n",
    "y=[df.logerror[df.half_bath == 0.0].mean(),\n",
    "df.logerror[(df.half_bath >= 1.0) & (df.half_bath < 2.0)].mean(),\n",
    "df.logerror[df.half_bath >= 2.0].mean()]\n",
    "\n",
    "x = ['None', 'One', 'Two of more']"
   ]
  },
  {
   "cell_type": "code",
   "execution_count": 21,
   "id": "1c8ae146",
   "metadata": {},
   "outputs": [
    {
     "data": {
      "image/png": "[encoded data removed]",
      "text/plain": [
       "<Figure size 432x288 with 1 Axes>"
      ]
     },
     "metadata": {
      "needs_background": "light"
     },
     "output_type": "display_data"
    }
   ],
   "source": [
    "# This chart represents the average log error by half bath bin.\n",
    "plt.bar(x, y)\n",
    "plt.xlabel('Number of Half Baths')\n",
    "plt.ylabel('Average logerror')\n",
    "plt.title('Average Log Error by Number of Half Baths')\n",
    "plt.show()"
   ]
  },
  {
   "cell_type": "markdown",
   "id": "17ef6af7",
   "metadata": {},
   "source": [
    "### Null Hypothesis:\n",
    "- There is no significant difference between the logerrors according to the number of half baths. \n",
    "\n",
    "### Alternative Hypothesis\n",
    "- There is a statistically significant difference between the logerrors according to the number of half baths."
   ]
  },
  {
   "cell_type": "code",
   "execution_count": 22,
   "id": "5a761019",
   "metadata": {},
   "outputs": [
    {
     "data": {
      "text/plain": [
       "(8.537515866678534, 0.0001962591771208839)"
      ]
     },
     "execution_count": 22,
     "metadata": {},
     "output_type": "execute_result"
    }
   ],
   "source": [
    "alpha = 0.05\n",
    "\n",
    "f, p = stats.f_oneway(df[df['half_bath'] == 0.0].logerror,\n",
    "                     df[(df['half_bath'] >= 1.0) & (df['half_bath'] < 2.0)].logerror,\n",
    "                     df[df['half_bath'] >= 2.0].logerror)\n",
    "\n",
    "f, p"
   ]
  },
  {
   "cell_type": "markdown",
   "id": "64106f36",
   "metadata": {},
   "source": [
    "I reject the Null Hypothesis."
   ]
  },
  {
   "cell_type": "markdown",
   "id": "7db78198",
   "metadata": {},
   "source": [
    "# Clustering"
   ]
  },
  {
   "cell_type": "code",
   "execution_count": 7,
   "id": "3ab849e6",
   "metadata": {},
   "outputs": [],
   "source": [
    "# Creates dummy columns for each county.\n",
    "dummies_train = pd.get_dummies(train.county)\n",
    "dummies_validate = pd.get_dummies(validate.county)\n",
    "dummies_test = pd.get_dummies(test.county)\n",
    "\n",
    "# Adding dummy columns to train, val, and test datasets.\n",
    "train = pd.concat([train, dummies_train], axis = 1)\n",
    "validate = pd.concat([validate, dummies_validate], axis = 1)\n",
    "test = pd.concat([test, dummies_test], axis = 1)\n",
    "\n",
    "# Drop original county column.\n",
    "train.drop(columns=['county'], inplace = True)\n",
    "validate.drop(columns=['county'], inplace = True)\n",
    "test.drop(columns=['county'], inplace = True)\n",
    "\n",
    "# Drop transaction date to ensure dataset works with modeling. \n",
    "train.drop(columns=['transactiondate'], inplace=True)\n",
    "validate.drop(columns=['transactiondate'], inplace=True)\n",
    "test.drop(columns=['transactiondate'], inplace=True)"
   ]
  },
  {
   "cell_type": "markdown",
   "id": "9756020c",
   "metadata": {},
   "source": [
    "### Scale"
   ]
  },
  {
   "cell_type": "code",
   "execution_count": 9,
   "id": "43dcae05",
   "metadata": {},
   "outputs": [],
   "source": [
    "# train\n",
    "scaler = MinMaxScaler()\n",
    "\n",
    "scaler.fit(train[['bath', 'bed', 'square_feet', 'fullbathcnt', 'lot_square_feet', 'yearbuilt', 'appraisal', 'half_bath']])\n",
    "\n",
    "train_scaled = scaler.transform(train[['bath', 'bed', 'square_feet', 'fullbathcnt', 'lot_square_feet', 'yearbuilt', 'appraisal', 'half_bath']])"
   ]
  },
  {
   "cell_type": "code",
   "execution_count": 10,
   "id": "7800aad0",
   "metadata": {},
   "outputs": [],
   "source": [
    "# validate\n",
    "scaler = MinMaxScaler()\n",
    "\n",
    "scaler.fit(validate[['bath', 'bed', 'square_feet', 'fullbathcnt', 'lot_square_feet', 'yearbuilt', 'appraisal', 'half_bath']])\n",
    "\n",
    "validate_scaled = scaler.transform(validate[['bath', 'bed', 'square_feet', 'fullbathcnt', 'lot_square_feet', 'yearbuilt', 'appraisal', 'half_bath']])"
   ]
  },
  {
   "cell_type": "code",
   "execution_count": 11,
   "id": "d8eeddec",
   "metadata": {},
   "outputs": [],
   "source": [
    "# test\n",
    "scaler = MinMaxScaler()\n",
    "\n",
    "scaler.fit(test[['bath', 'bed', 'square_feet', 'fullbathcnt', 'lot_square_feet', 'yearbuilt', 'appraisal', 'half_bath']])\n",
    "\n",
    "test_scaled = scaler.transform(test[['bath', 'bed', 'square_feet', 'fullbathcnt', 'lot_square_feet', 'yearbuilt', 'appraisal', 'half_bath']])"
   ]
  },
  {
   "cell_type": "code",
   "execution_count": 13,
   "id": "83398858",
   "metadata": {},
   "outputs": [],
   "source": [
    "# turn scaled data back into DataFrame\n",
    "\n",
    "train_scaled = pd.DataFrame(train_scaled, index=train.index, columns=['bath_scaled', 'bed_scaled', 'square_feet_scaled', 'fullbathcnt_scaled', 'lot_square_feet_scaled', 'yearbuilt_scaled', 'appraisal_scaled', 'half_bath_scaled'])\n",
    "validate_scaled = pd.DataFrame(validate_scaled, index=validate.index, columns=['bath_scaled', 'bed_scaled', 'square_feet_scaled', 'fullbathcnt_scaled', 'lot_square_feet_scaled', 'yearbuilt_scaled', 'appraisal_scaled', 'half_bath_scaled'])\n",
    "test_scaled = pd.DataFrame(test_scaled, index=test.index, columns=['bath_scaled', 'bed_scaled', 'square_feet_scaled', 'fullbathcnt_scaled', 'lot_square_feet_scaled', 'yearbuilt_scaled', 'appraisal_scaled', 'half_bath_scaled'])"
   ]
  },
  {
   "cell_type": "code",
   "execution_count": 14,
   "id": "2c08aa79",
   "metadata": {},
   "outputs": [],
   "source": [
    "# combine scaled columns with the original train, validate, and test datasets to have more to work with\n",
    "train_scaled = pd.concat([train_scaled, train], axis = 1)\n",
    "validate_scaled = pd.concat([validate_scaled, validate], axis = 1)\n",
    "test_scaled = pd.concat([test_scaled, test], axis = 1)"
   ]
  },
  {
   "cell_type": "markdown",
   "id": "6c810d9e",
   "metadata": {},
   "source": [
    "### House Cluster"
   ]
  },
  {
   "cell_type": "code",
   "execution_count": 16,
   "id": "3a216f04",
   "metadata": {},
   "outputs": [],
   "source": [
    "# This cluster contains features which pertain to the house itself, i.e. square feet, bedrooms, half baths. These are all scaled.\n",
    "house_cluster = train_scaled[['square_feet_scaled', 'bed_scaled', 'half_bath_scaled']]\n",
    "k_range = range(2,20)"
   ]
  },
  {
   "cell_type": "code",
   "execution_count": 17,
   "id": "81c5ba81",
   "metadata": {},
   "outputs": [],
   "source": [
    "# Creating the house clusters for the validate data.\n",
    "house_cluster_validate = validate_scaled[['square_feet_scaled', 'bed_scaled', 'half_bath_scaled']]\n",
    "k_range = range(2,20)"
   ]
  },
  {
   "cell_type": "code",
   "execution_count": 18,
   "id": "9cd3052c",
   "metadata": {},
   "outputs": [],
   "source": [
    "# train\n",
    "kmeans = KMeans(n_clusters=3, random_state=123)\n",
    "kmeans.fit(house_cluster)\n",
    "\n",
    "train_scaled['house_cluster'] = kmeans.predict(house_cluster)\n",
    "train_scaled.house_cluster = train_scaled.house_cluster.astype('category')"
   ]
  },
  {
   "cell_type": "code",
   "execution_count": 19,
   "id": "c87eaa3b",
   "metadata": {},
   "outputs": [],
   "source": [
    "# validate\n",
    "kmeans = KMeans(n_clusters=3, random_state=123)\n",
    "kmeans.fit(house_cluster_validate)\n",
    "\n",
    "validate_scaled['house_cluster'] = kmeans.predict(house_cluster_validate)\n",
    "validate_scaled.house_cluster = validate_scaled.house_cluster.astype('category')"
   ]
  },
  {
   "cell_type": "code",
   "execution_count": 34,
   "id": "7b0c1b87",
   "metadata": {},
   "outputs": [],
   "source": [
    "y = (train_scaled.logerror[train_scaled.house_cluster == 0].mean(),\n",
    "      train_scaled.logerror[train_scaled.house_cluster == 1].mean(),\n",
    "      train_scaled.logerror[train_scaled.house_cluster == 2].mean())\n",
    "\n",
    "x = ['House Cluster 0', 'House Cluster 1', 'House Cluster 2']"
   ]
  },
  {
   "cell_type": "code",
   "execution_count": 35,
   "id": "a6e81281",
   "metadata": {},
   "outputs": [
    {
     "data": {
      "image/png": "[encoded data removed]",
      "text/plain": [
       "<Figure size 1152x576 with 1 Axes>"
      ]
     },
     "metadata": {
      "needs_background": "light"
     },
     "output_type": "display_data"
    }
   ],
   "source": [
    "# This chart represents the average log error for each house cluster.\n",
    "plt.figure(figsize=(16,8))\n",
    "plt.bar(x, y)\n",
    "plt.xlabel('House Cluster')\n",
    "plt.ylabel('Average logerror')\n",
    "plt.title('Average Log Error by House Cluster')\n",
    "plt.show()"
   ]
  },
  {
   "cell_type": "markdown",
   "id": "30c85f6b",
   "metadata": {},
   "source": [
    "- House cluster 0: medium square feet with more bedrooms and half baths. \n",
    "- House cluster 1: medium to large square feet with Medium to High number of bedrooms and Low Half Baths. \n",
    "- House cluster 2: small square feet with low number of bedrooms and half baths."
   ]
  },
  {
   "cell_type": "markdown",
   "id": "cfd93ed4",
   "metadata": {},
   "source": [
    "### Age/Size Cluster"
   ]
  },
  {
   "cell_type": "code",
   "execution_count": 20,
   "id": "4a3ab490",
   "metadata": {},
   "outputs": [],
   "source": [
    "# These clusters contain features which are related to the age and size of the house, i.e. year built, square feet, lot sqaure feet. These are all scaled.\n",
    "age_size_cluster_train = train_scaled[['yearbuilt_scaled', 'square_feet_scaled', 'lot_square_feet_scaled']]\n",
    "k_range = range(2,20)"
   ]
  },
  {
   "cell_type": "code",
   "execution_count": 21,
   "id": "815aab6c",
   "metadata": {},
   "outputs": [],
   "source": [
    "#train\n",
    "kmeans = KMeans(n_clusters=3, random_state=123)\n",
    "kmeans.fit(age_size_cluster_train)\n",
    "\n",
    "train_scaled['age_size_cluster'] = kmeans.predict(age_size_cluster_train)\n",
    "train_scaled.age_size_cluster = train_scaled.age_size_cluster.astype('category')"
   ]
  },
  {
   "cell_type": "code",
   "execution_count": 22,
   "id": "8063f9d1",
   "metadata": {},
   "outputs": [],
   "source": [
    "# validate\n",
    "\n",
    "age_size_cluster_validate = validate_scaled[['yearbuilt_scaled', 'square_feet_scaled', 'lot_square_feet_scaled']]\n",
    "k_range = range(2,20)\n",
    "\n",
    "kmeans = KMeans(n_clusters=3, random_state=123)\n",
    "kmeans.fit(age_size_cluster_validate)\n",
    "\n",
    "validate_scaled['age_size_cluster'] = kmeans.predict(age_size_cluster_validate)\n",
    "validate_scaled.age_size_cluster = validate_scaled.age_size_cluster.astype('category')"
   ]
  },
  {
   "cell_type": "code",
   "execution_count": 23,
   "id": "1b8717b7",
   "metadata": {},
   "outputs": [],
   "source": [
    "y = (train_scaled.logerror[train_scaled.age_size_cluster == 0].mean(),\n",
    "      train_scaled.logerror[train_scaled.age_size_cluster == 1].mean(),\n",
    "      train_scaled.logerror[train_scaled.age_size_cluster == 2].mean())\n",
    "\n",
    "x = ['Age/size Cluster 0', 'Age/size Cluster 1', 'Age/size Cluster 2']"
   ]
  },
  {
   "cell_type": "code",
   "execution_count": 42,
   "id": "d483999c",
   "metadata": {},
   "outputs": [
    {
     "data": {
      "image/png": "[encoded data removed]",
      "text/plain": [
       "<Figure size 1152x576 with 1 Axes>"
      ]
     },
     "metadata": {
      "needs_background": "light"
     },
     "output_type": "display_data"
    }
   ],
   "source": [
    "# This chart represents the average log error for each age/size cluster.\n",
    "plt.figure(figsize=(16,8))\n",
    "plt.bar(x, y)\n",
    "plt.xlabel('Age/Size Cluster')\n",
    "plt.ylabel('Average logerror')\n",
    "plt.title('Average Log Error by Age/Size Cluster')\n",
    "plt.show()"
   ]
  },
  {
   "cell_type": "markdown",
   "id": "13eba5a1",
   "metadata": {},
   "source": [
    "Age/size clusters 0 and 2 have higer average log errors. "
   ]
  },
  {
   "cell_type": "markdown",
   "id": "1ca6751e",
   "metadata": {},
   "source": [
    "- Cluster 0 are the larger, older houses.\n",
    "- Cluster 1 are the smaller, newer houses.\n",
    "- Cluster 2 are the smaller, medium aged houses. "
   ]
  },
  {
   "cell_type": "markdown",
   "id": "9d1c5694",
   "metadata": {},
   "source": [
    "### - Null Hypothesis: There is no difference in log error between the age/size clusters.\n",
    "\n",
    "### - Alternative Hypothesis: There is a difference in log error between the age/size clusters."
   ]
  },
  {
   "cell_type": "code",
   "execution_count": 44,
   "id": "8daca6b2",
   "metadata": {},
   "outputs": [
    {
     "data": {
      "text/plain": [
       "(11.329146170825815, 1.206115264662951e-05)"
      ]
     },
     "execution_count": 44,
     "metadata": {},
     "output_type": "execute_result"
    }
   ],
   "source": [
    "alpha = 0.05\n",
    "\n",
    "f, p = stats.f_oneway(train_scaled.logerror[train_scaled.age_size_cluster == 0], train_scaled.logerror[train_scaled.age_size_cluster == 1], train_scaled.logerror[train_scaled.age_size_cluster == 2])\n",
    "f, p"
   ]
  },
  {
   "cell_type": "markdown",
   "id": "30272614",
   "metadata": {},
   "source": [
    "# Modeling\n",
    "\n",
    "### Baseline"
   ]
  },
  {
   "cell_type": "code",
   "execution_count": 24,
   "id": "af08646d",
   "metadata": {},
   "outputs": [],
   "source": [
    "# Making dummy columns for house and age/size clusters.\n",
    "# train\n",
    "dummy_df_train = pd.get_dummies(train_scaled[['house_cluster', 'age_size_cluster']])\n",
    "train_scaled = pd.concat([train_scaled, dummy_df_train], axis = 1)\n",
    "# validate\n",
    "dummy_df_validate = pd.get_dummies(validate_scaled[['house_cluster', 'age_size_cluster']])\n",
    "validate_scaled = pd.concat([validate_scaled, dummy_df_validate], axis = 1)"
   ]
  },
  {
   "cell_type": "code",
   "execution_count": 25,
   "id": "d56bfd82",
   "metadata": {},
   "outputs": [],
   "source": [
    "# Separating x and y data.\n",
    "y_train = train_scaled.logerror\n",
    "y_validate = validate_scaled.logerror\n",
    "y_test = test_scaled.logerror\n",
    "\n",
    "x_train = train_scaled.drop(columns=['logerror'])\n",
    "x_validate = validate_scaled.drop(columns=['logerror'])\n",
    "x_test = test_scaled.drop(columns=['logerror'])"
   ]
  },
  {
   "cell_type": "code",
   "execution_count": 26,
   "id": "95ac0d9d",
   "metadata": {},
   "outputs": [],
   "source": [
    "# Converting y data back into a DataFrame\n",
    "y_train = pd.DataFrame(y_train)\n",
    "y_validate = pd.DataFrame(y_validate)\n",
    "y_test = pd.DataFrame(y_test)"
   ]
  },
  {
   "cell_type": "code",
   "execution_count": 27,
   "id": "d71da2f7",
   "metadata": {},
   "outputs": [
    {
     "data": {
      "text/plain": [
       "0.01797354929457556"
      ]
     },
     "execution_count": 27,
     "metadata": {},
     "output_type": "execute_result"
    }
   ],
   "source": [
    "# baseline predictor\n",
    "# This is the average log error for the train data.\n",
    "y_train.logerror.mean()"
   ]
  },
  {
   "cell_type": "code",
   "execution_count": 28,
   "id": "febe4cb7",
   "metadata": {},
   "outputs": [
    {
     "name": "stdout",
     "output_type": "stream",
     "text": [
      "0.17399889316814268 0.18727602422316578\n"
     ]
    }
   ],
   "source": [
    "# Baseline performance\n",
    "y_train['baseline'] = y_train.logerror.mean()\n",
    "y_validate['baseline'] = y_validate.logerror.mean()\n",
    "\n",
    "rmse_train_baseline = mean_squared_error(y_train.logerror, y_train.baseline)**(1/2)\n",
    "rmse_validate_baseline = mean_squared_error(y_validate.logerror, y_validate.baseline)**(1/2)\n",
    "\n",
    "print(rmse_train_baseline, rmse_validate_baseline)"
   ]
  },
  {
   "cell_type": "markdown",
   "id": "93f1b929",
   "metadata": {},
   "source": [
    "## Feature Engineering\n",
    "\n",
    "### Select K Best"
   ]
  },
  {
   "cell_type": "code",
   "execution_count": 29,
   "id": "70ab8fa1",
   "metadata": {},
   "outputs": [
    {
     "data": {
      "text/plain": [
       "SelectKBest(k=4, score_func=<function f_regression at 0x14cf94310>)"
      ]
     },
     "execution_count": 29,
     "metadata": {},
     "output_type": "execute_result"
    }
   ],
   "source": [
    "kbest = SelectKBest(f_regression, k=4)\n",
    "\n",
    "kbest.fit(x_train, y_train.logerror)"
   ]
  },
  {
   "cell_type": "code",
   "execution_count": 30,
   "id": "46479b22",
   "metadata": {},
   "outputs": [
    {
     "data": {
      "text/plain": [
       "Index(['bed_scaled', 'square_feet_scaled', 'bed', 'square_feet'], dtype='object')"
      ]
     },
     "execution_count": 30,
     "metadata": {},
     "output_type": "execute_result"
    }
   ],
   "source": [
    "# Best performing features.\n",
    "x_train.columns[kbest.get_support()]"
   ]
  },
  {
   "cell_type": "code",
   "execution_count": 31,
   "id": "45db88bc",
   "metadata": {},
   "outputs": [],
   "source": [
    "# Model 1 data will use the four featueres picked by Select K Best.\n",
    "x_train_model1 = x_train[['bed_scaled', 'square_feet_scaled', 'bed', 'square_feet']]\n",
    "x_validate_model1 = x_validate[['bed_scaled', 'square_feet_scaled', 'bed', 'square_feet']]\n",
    "\n",
    "# Model 2 data will use only the house clusters. \n",
    "x_train_model2 = x_train[['house_cluster_0', 'house_cluster_1', 'house_cluster_2']]\n",
    "x_validate_model2 = x_validate[['house_cluster_0', 'house_cluster_1', 'house_cluster_2']]\n",
    "\n",
    "# Model 3 will use only the age/size clusters.\n",
    "x_train_model3 = x_train[['age_size_cluster_0', 'age_size_cluster_1', 'age_size_cluster_2']]\n",
    "x_validate_model3 = x_validate[['age_size_cluster_0', 'age_size_cluster_1', 'age_size_cluster_2']]"
   ]
  },
  {
   "cell_type": "markdown",
   "id": "6637fa1f",
   "metadata": {},
   "source": [
    "## Linear Regression (OLS)\n",
    "\n",
    "### Model 1"
   ]
  },
  {
   "cell_type": "code",
   "execution_count": 32,
   "id": "bd713fed",
   "metadata": {},
   "outputs": [
    {
     "name": "stdout",
     "output_type": "stream",
     "text": [
      "RMSE for OLS using LinearRegression\n",
      "Training/In-Sample:  0.1738369963934923 \n",
      "Validation/Out-of-Sample:  118033310190.152\n"
     ]
    }
   ],
   "source": [
    "# Select K Best features\n",
    "lm = LinearRegression(normalize=True)\n",
    "lm.fit(x_train_model1, y_train.logerror)\n",
    "\n",
    "y_train['log_error_pred_lm_model1'] = lm.predict(x_train_model1)\n",
    "rmse_train = mean_squared_error(y_train.logerror, y_train.log_error_pred_lm_model1)**(1/2)\n",
    "\n",
    "y_validate['log_error_pred_lm_model1'] = lm.predict(x_validate_model1)\n",
    "rmse_validate = mean_squared_error(y_validate.logerror, y_validate.log_error_pred_lm_model1)**(1/2)\n",
    "\n",
    "print(\"RMSE for OLS using LinearRegression\\nTraining/In-Sample: \", rmse_train, \n",
    "      \"\\nValidation/Out-of-Sample: \", rmse_validate)"
   ]
  },
  {
   "cell_type": "markdown",
   "id": "016bfe7c",
   "metadata": {},
   "source": [
    "### Model 2"
   ]
  },
  {
   "cell_type": "code",
   "execution_count": 33,
   "id": "6eb47306",
   "metadata": {},
   "outputs": [
    {
     "name": "stdout",
     "output_type": "stream",
     "text": [
      "RMSE for OLS using LinearRegression\n",
      "Training/In-Sample:  0.173916916092889 \n",
      "Validation/Out-of-Sample:  0.18763017414420122\n"
     ]
    }
   ],
   "source": [
    "# House clusters features\n",
    "lm = LinearRegression(normalize=True)\n",
    "lm.fit(x_train_model2, y_train.logerror)\n",
    "\n",
    "y_train['log_error_pred_lm_model2'] = lm.predict(x_train_model2)\n",
    "rmse_train = mean_squared_error(y_train.logerror, y_train.log_error_pred_lm_model2)**(1/2)\n",
    "\n",
    "y_validate['log_error_pred_lm_model2'] = lm.predict(x_validate_model2)\n",
    "rmse_validate = mean_squared_error(y_validate.logerror, y_validate.log_error_pred_lm_model2)**(1/2)\n",
    "\n",
    "print(\"RMSE for OLS using LinearRegression\\nTraining/In-Sample: \", rmse_train, \n",
    "      \"\\nValidation/Out-of-Sample: \", rmse_validate)"
   ]
  },
  {
   "cell_type": "markdown",
   "id": "b0a87c3b",
   "metadata": {},
   "source": [
    "### Model 3"
   ]
  },
  {
   "cell_type": "code",
   "execution_count": 34,
   "id": "9d99e386",
   "metadata": {},
   "outputs": [
    {
     "name": "stdout",
     "output_type": "stream",
     "text": [
      "RMSE for OLS using LinearRegression\n",
      "Training/In-Sample:  0.17394356235793906 \n",
      "Validation/Out-of-Sample:  0.1874917089980152\n"
     ]
    }
   ],
   "source": [
    "# Age/size clusters features\n",
    "lm = LinearRegression(normalize=True)\n",
    "lm.fit(x_train_model3, y_train.logerror)\n",
    "\n",
    "y_train['log_error_pred_lm_model3'] = lm.predict(x_train_model3)\n",
    "rmse_train = mean_squared_error(y_train.logerror, y_train.log_error_pred_lm_model3)**(1/2)\n",
    "\n",
    "y_validate['log_error_pred_lm_model3'] = lm.predict(x_validate_model3)\n",
    "rmse_validate = mean_squared_error(y_validate.logerror, y_validate.log_error_pred_lm_model3)**(1/2)\n",
    "\n",
    "print(\"RMSE for OLS using LinearRegression\\nTraining/In-Sample: \", rmse_train, \n",
    "      \"\\nValidation/Out-of-Sample: \", rmse_validate)"
   ]
  },
  {
   "cell_type": "markdown",
   "id": "7d806b6b",
   "metadata": {},
   "source": [
    "## Lasso Lars\n",
    "\n",
    "### Model 1"
   ]
  },
  {
   "cell_type": "code",
   "execution_count": 35,
   "id": "7bad285a",
   "metadata": {},
   "outputs": [
    {
     "name": "stdout",
     "output_type": "stream",
     "text": [
      "RMSE for Lasso + Lars\n",
      "Training/In-Sample:  0.17399889316814268 \n",
      "Validation/Out-of-Sample:  0.1872760414823965\n"
     ]
    }
   ],
   "source": [
    "# Select K Best features\n",
    "lars = LassoLars(alpha=1.0)\n",
    "lars.fit(x_train_model1, y_train.logerror)\n",
    "\n",
    "y_train['pred_lars'] = lars.predict(x_train_model1)\n",
    "rmse_train = mean_squared_error(y_train.logerror, y_train.pred_lars)**(1/2)\n",
    "\n",
    "y_validate['pred_lars'] = lars.predict(x_validate_model1)\n",
    "rmse_validate = mean_squared_error(y_validate.logerror, y_validate.pred_lars)**(1/2)\n",
    "\n",
    "print(\"RMSE for Lasso + Lars\\nTraining/In-Sample: \", rmse_train, \n",
    "      \"\\nValidation/Out-of-Sample: \", rmse_validate)"
   ]
  },
  {
   "cell_type": "markdown",
   "id": "f4a95b36",
   "metadata": {},
   "source": [
    "### Model 2"
   ]
  },
  {
   "cell_type": "code",
   "execution_count": 36,
   "id": "36042aca",
   "metadata": {},
   "outputs": [
    {
     "name": "stdout",
     "output_type": "stream",
     "text": [
      "RMSE for Lasso + Lars\n",
      "Training/In-Sample:  0.17399889316814268 \n",
      "Validation/Out-of-Sample:  0.1872760414823965\n"
     ]
    }
   ],
   "source": [
    "# House clusters features\n",
    "lars.fit(x_train_model2, y_train.logerror)\n",
    "\n",
    "y_train['pred_lars2'] = lars.predict(x_train_model2)\n",
    "rmse_train = mean_squared_error(y_train.logerror, y_train.pred_lars2)**(1/2)\n",
    "\n",
    "y_validate['pred_lars2'] = lars.predict(x_validate_model2)\n",
    "rmse_validate = mean_squared_error(y_validate.logerror, y_validate.pred_lars2)**(1/2)\n",
    "\n",
    "print(\"RMSE for Lasso + Lars\\nTraining/In-Sample: \", rmse_train, \n",
    "      \"\\nValidation/Out-of-Sample: \", rmse_validate)"
   ]
  },
  {
   "cell_type": "markdown",
   "id": "cb48ceea",
   "metadata": {},
   "source": [
    "### Model 3"
   ]
  },
  {
   "cell_type": "code",
   "execution_count": 37,
   "id": "1e364ad3",
   "metadata": {},
   "outputs": [
    {
     "name": "stdout",
     "output_type": "stream",
     "text": [
      "RMSE for Lasso + Lars\n",
      "Training/In-Sample:  0.17399889316814268 \n",
      "Validation/Out-of-Sample:  0.1872760414823965\n"
     ]
    }
   ],
   "source": [
    "# Age/size clusters features.\n",
    "lars.fit(x_train_model3, y_train.logerror)\n",
    "\n",
    "y_train['pred_lars3'] = lars.predict(x_train_model3)\n",
    "rmse_train = mean_squared_error(y_train.logerror, y_train.pred_lars3)**(1/2)\n",
    "\n",
    "y_validate['pred_lars3'] = lars.predict(x_validate_model3)\n",
    "rmse_validate = mean_squared_error(y_validate.logerror, y_validate.pred_lars3)**(1/2)\n",
    "\n",
    "print(\"RMSE for Lasso + Lars\\nTraining/In-Sample: \", rmse_train, \n",
    "      \"\\nValidation/Out-of-Sample: \", rmse_validate)"
   ]
  },
  {
   "cell_type": "markdown",
   "id": "236d8bba",
   "metadata": {},
   "source": [
    "Lasso Lars is the best performing model."
   ]
  },
  {
   "cell_type": "markdown",
   "id": "e0472a43",
   "metadata": {},
   "source": [
    "## Test"
   ]
  },
  {
   "cell_type": "code",
   "execution_count": 41,
   "id": "099c50f7",
   "metadata": {},
   "outputs": [],
   "source": [
    "x_test_model = x_test[['bed_scaled', 'square_feet_scaled', 'bed', 'square_feet']]"
   ]
  },
  {
   "cell_type": "code",
   "execution_count": 42,
   "id": "f53298e1",
   "metadata": {},
   "outputs": [
    {
     "name": "stdout",
     "output_type": "stream",
     "text": [
      "RMSE for Lasso + Lars\n",
      "Test/Out-of-Sample:  0.16719181703878794\n"
     ]
    }
   ],
   "source": [
    "lars = LassoLars(alpha=1.0)\n",
    "lars.fit(x_train_model1, y_train.logerror)\n",
    "\n",
    "y_test['pred_lars'] = lars.predict(x_test_model)\n",
    "rmse_test = mean_squared_error(y_test.logerror, y_test.pred_lars)**(1/2)\n",
    "\n",
    "print(\"RMSE for Lasso + Lars\\nTest/Out-of-Sample: \", rmse_test)"
   ]
  },
  {
   "cell_type": "code",
   "execution_count": 43,
   "id": "7fb56800",
   "metadata": {},
   "outputs": [
    {
     "name": "stdout",
     "output_type": "stream",
     "text": [
      "0.17399889316814268 0.18727602422316578\n"
     ]
    }
   ],
   "source": [
    "print(rmse_train_baseline, rmse_validate_baseline)"
   ]
  },
  {
   "cell_type": "markdown",
   "id": "8416b243",
   "metadata": {},
   "source": [
    "# Conclusion"
   ]
  },
  {
   "cell_type": "markdown",
   "id": "89622f7a",
   "metadata": {},
   "source": [
    "The model's performance on the Test data outperformed the baseline by 11%."
   ]
  },
  {
   "cell_type": "markdown",
   "id": "d321ef2c",
   "metadata": {},
   "source": [
    "### Exploration Questions:\n",
    "    1. How does log error compare between the three counties?\n",
    "    Log error is highest in Orange County.\n",
    "    \n",
    "    2. How does the size of a house in square feet affect log error?\n",
    "    The larger houses tend to have larger log errors.\n",
    "    \n",
    "    3. How does the year buiult affect log error?\n",
    "    Newer houses tend to have larger log errors.\n",
    "    \n",
    "    4. How does the number of half baths affect log error?\n",
    "    Houses with two or more half baths tend to have larger log errors. "
   ]
  },
  {
   "cell_type": "markdown",
   "id": "7a7a6620",
   "metadata": {},
   "source": [
    "### Recommendations:\n",
    "- Implement any lessons learned from today's presentation in our process for improving log error. "
   ]
  },
  {
   "cell_type": "markdown",
   "id": "a42b9861",
   "metadata": {},
   "source": [
    "### Next Steps:\n",
    "- Utilize different variables for new clusters.\n",
    "- Refine the models by changing hyperparameters and model features."
   ]
  },
  {
   "cell_type": "code",
   "execution_count": null,
   "id": "84d3f4d0",
   "metadata": {},
   "outputs": [],
   "source": []
  }
 ],
 "metadata": {
  "kernelspec": {
   "display_name": "Python 3 (ipykernel)",
   "language": "python",
   "name": "python3"
  },
  "language_info": {
   "codemirror_mode": {
    "name": "ipython",
    "version": 3
   },
   "file_extension": ".py",
   "mimetype": "text/x-python",
   "name": "python",
   "nbconvert_exporter": "python",
   "pygments_lexer": "ipython3",
   "version": "3.9.12"
  }
 },
 "nbformat": 4,
 "nbformat_minor": 5
}
